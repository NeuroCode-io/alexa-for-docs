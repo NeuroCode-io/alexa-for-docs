{
 "metadata": {
  "language_info": {
   "codemirror_mode": {
    "name": "ipython",
    "version": 3
   },
   "file_extension": ".py",
   "mimetype": "text/x-python",
   "name": "python",
   "nbconvert_exporter": "python",
   "pygments_lexer": "ipython3",
   "version": "3.8.1-final"
  },
  "orig_nbformat": 2,
  "kernelspec": {
   "name": "python3",
   "display_name": "Python 3.8.1 64-bit ('.venv')",
   "metadata": {
    "interpreter": {
     "hash": "5bdca235408bc63495fd8719d073449338626e85bb6ce08bacdb45b63101d775"
    }
   }
  }
 },
 "nbformat": 4,
 "nbformat_minor": 2,
 "cells": [
  {
   "cell_type": "code",
   "execution_count": 1,
   "metadata": {
    "tags": []
   },
   "outputs": [
    {
     "output_type": "stream",
     "name": "stderr",
     "text": [
      "12/02/2020 13:45:54 - INFO - faiss -   Loading faiss with AVX2 support.\n",
      "12/02/2020 13:45:54 - INFO - faiss -   Loading faiss.\n",
      "12/02/2020 13:45:55 - INFO - farm.utils -   device: cpu n_gpu: 0, distributed training: False, automatic mixed precision training: None\n",
      "12/02/2020 13:45:55 - INFO - farm.infer -   Could not find `deepset/roberta-base-squad2` locally. Try to download from model hub ...\n",
      "Some weights of RobertaModel were not initialized from the model checkpoint at deepset/roberta-base-squad2 and are newly initialized: ['roberta.pooler.dense.weight', 'roberta.pooler.dense.bias']\n",
      "You should probably TRAIN this model on a down-stream task to be able to use it for predictions and inference.\n",
      "12/02/2020 13:45:59 - WARNING - farm.modeling.language_model -   Could not automatically detect from language model name what language it is. \n",
      "\t We guess it's an *ENGLISH* model ... \n",
      "\t If not: Init the language model by supplying the 'language' param.\n",
      "12/02/2020 13:46:08 - INFO - farm.utils -   device: cpu n_gpu: 0, distributed training: False, automatic mixed precision training: None\n",
      "12/02/2020 13:46:09 - INFO - farm.infer -   Got ya 3 parallel workers to do inference ...\n",
      "12/02/2020 13:46:09 - INFO - farm.infer -    0    0    0 \n",
      "12/02/2020 13:46:09 - INFO - farm.infer -   /w\\  /w\\  /w\\\n",
      "12/02/2020 13:46:09 - INFO - farm.infer -   /'\\  / \\  /'\\\n",
      "12/02/2020 13:46:09 - INFO - farm.infer -       \n"
     ]
    }
   ],
   "source": [
    "from haystack.reader.farm import FARMReader\n",
    "farm_reader = FARMReader(model_name_or_path=\"deepset/roberta-base-squad2\", use_gpu=True)"
   ]
  },
  {
   "cell_type": "code",
   "execution_count": 2,
   "metadata": {},
   "outputs": [
    {
     "output_type": "stream",
     "name": "stderr",
     "text": [
      "12/02/2020 13:46:16 - INFO - elasticsearch -   HEAD http://localhost:9200/document [status:200 request:0.004s]\n",
      "12/02/2020 13:46:16 - INFO - elasticsearch -   GET http://localhost:9200/document [status:200 request:0.002s]\n",
      "12/02/2020 13:46:16 - INFO - elasticsearch -   PUT http://localhost:9200/document/_mapping [status:200 request:0.017s]\n",
      "12/02/2020 13:46:16 - INFO - elasticsearch -   HEAD http://localhost:9200/label [status:200 request:0.002s]\n"
     ]
    }
   ],
   "source": [
    "from haystack.document_store.elasticsearch import ElasticsearchDocumentStore\n",
    "document_store = ElasticsearchDocumentStore(host=\"localhost\", username=\"\", password=\"\", index=\"document\")"
   ]
  },
  {
   "cell_type": "code",
   "execution_count": 3,
   "metadata": {},
   "outputs": [],
   "source": [
    "from haystack.retriever.sparse import ElasticsearchRetriever\n",
    "retriever = ElasticsearchRetriever(document_store=document_store)"
   ]
  },
  {
   "cell_type": "code",
   "execution_count": 4,
   "metadata": {},
   "outputs": [
    {
     "output_type": "stream",
     "name": "stderr",
     "text": [
      "12/02/2020 13:46:43 - INFO - haystack.preprocessor.utils -   Converting /home/elena/Downloads/data/9781839217579-THE_DEEP_LEARNING_WITH_KERAS_WORKSHOP_SECOND_EDITION.pdf\n"
     ]
    }
   ],
   "source": [
    "from haystack.preprocessor.utils import convert_files_to_dicts\n",
    "dicts=convert_files_to_dicts(\"/home/elena/Downloads/data/\", split_paragraphs=True) # no cleaning function applied"
   ]
  },
  {
   "cell_type": "code",
   "execution_count": 5,
   "metadata": {},
   "outputs": [
    {
     "output_type": "stream",
     "name": "stderr",
     "text": [
      "12/02/2020 13:47:08 - INFO - elasticsearch -   POST http://localhost:9200/_bulk?refresh=wait_for [status:200 request:0.124s]\n",
      "12/02/2020 13:47:09 - INFO - elasticsearch -   POST http://localhost:9200/_bulk?refresh=wait_for [status:200 request:1.020s]\n",
      "12/02/2020 13:47:10 - INFO - elasticsearch -   POST http://localhost:9200/_bulk?refresh=wait_for [status:200 request:1.079s]\n"
     ]
    }
   ],
   "source": [
    "document_store.write_documents(dicts)"
   ]
  },
  {
   "cell_type": "code",
   "execution_count": 6,
   "metadata": {},
   "outputs": [],
   "source": [
    "retriever = ElasticsearchRetriever(document_store=document_store)"
   ]
  },
  {
   "cell_type": "code",
   "execution_count": 7,
   "metadata": {},
   "outputs": [],
   "source": [
    "from haystack import Finder"
   ]
  },
  {
   "cell_type": "code",
   "execution_count": 9,
   "metadata": {},
   "outputs": [],
   "source": [
    "from haystack.utils import print_answers"
   ]
  },
  {
   "cell_type": "code",
   "execution_count": 10,
   "metadata": {},
   "outputs": [],
   "source": [
    "finder = Finder(farm_reader, retriever)"
   ]
  },
  {
   "cell_type": "code",
   "execution_count": 11,
   "metadata": {},
   "outputs": [
    {
     "output_type": "stream",
     "name": "stderr",
     "text": [
      "12/02/2020 13:48:04 - INFO - elasticsearch -   POST http://localhost:9200/document/_search [status:200 request:0.011s]\n",
      "12/02/2020 13:48:04 - INFO - haystack.finder -   Got 10 candidates from retriever\n",
      "12/02/2020 13:48:04 - INFO - haystack.finder -   Reader is looking for detailed answer in 8846 chars ...\n",
      "Inferencing Samples: 100%|██████████| 1/1 [00:01<00:00,  1.69s/ Batches]\n",
      "Inferencing Samples: 100%|██████████| 1/1 [00:00<00:00,  1.17 Batches/s]\n",
      "Inferencing Samples: 100%|██████████| 1/1 [00:00<00:00,  1.11 Batches/s]\n",
      "Inferencing Samples: 100%|██████████| 1/1 [00:00<00:00,  1.90 Batches/s]\n",
      "Inferencing Samples: 100%|██████████| 1/1 [00:00<00:00,  1.87 Batches/s]\n",
      "Inferencing Samples: 100%|██████████| 1/1 [00:00<00:00,  1.11 Batches/s]\n",
      "Inferencing Samples: 100%|██████████| 1/1 [00:00<00:00,  1.75 Batches/s]\n",
      "Inferencing Samples: 100%|██████████| 1/1 [00:00<00:00,  1.49 Batches/s]\n",
      "Inferencing Samples: 100%|██████████| 1/1 [00:00<00:00,  1.50 Batches/s]\n",
      "Inferencing Samples: 100%|██████████| 1/1 [00:00<00:00,  1.50 Batches/s]\n"
     ]
    }
   ],
   "source": [
    "prediction = finder.get_answers(question=\"What is RNN?\", top_k_retriever=10, top_k_reader=3)"
   ]
  },
  {
   "cell_type": "code",
   "execution_count": 12,
   "metadata": {},
   "outputs": [
    {
     "output_type": "stream",
     "name": "stdout",
     "text": [
      "[   {   'answer': 'Recurrent Neural Networks',\n        'context': 'rthermore, we will learn\\n'\n                   'how sequential modeling is related to Recurrent Neural '\n                   'Networks (RNN). We will\\n'\n                   'learn about the vanishing gradient problem in ',\n        'score': 15.890447616577148},\n    {   'answer': 'Recurrent Neural Networks',\n        'context': 'rthermore, we will learn\\n'\n                   'how sequential modeling is related to Recurrent Neural '\n                   'Networks (RNN). We will\\n'\n                   'learn about the vanishing gradient problem in ',\n        'score': 15.890447616577148},\n    {   'answer': 'Recurrent Neural Networks',\n        'context': 'Recurrent Neural Networks (RNNs)\\n'\n                   'RNNs are a class of neural networks that are built on the '\n                   'concept of sequential\\n'\n                   'memory. Unlike traditional neural net',\n        'score': 11.025992393493652}]\n"
     ]
    }
   ],
   "source": [
    "print_answers(prediction, details=\"medium\")"
   ]
  },
  {
   "cell_type": "code",
   "execution_count": 13,
   "metadata": {},
   "outputs": [
    {
     "output_type": "stream",
     "name": "stderr",
     "text": [
      "12/02/2020 13:48:20 - INFO - elasticsearch -   POST http://localhost:9200/document/_search [status:200 request:0.014s]\n",
      "12/02/2020 13:48:20 - INFO - haystack.finder -   Got 10 candidates from retriever\n",
      "12/02/2020 13:48:20 - INFO - haystack.finder -   Reader is looking for detailed answer in 9749 chars ...\n",
      "Inferencing Samples: 100%|██████████| 1/1 [00:01<00:00,  1.10s/ Batches]\n",
      "Inferencing Samples: 100%|██████████| 1/1 [00:00<00:00,  1.51 Batches/s]\n",
      "Inferencing Samples: 100%|██████████| 1/1 [00:00<00:00,  2.16 Batches/s]\n",
      "Inferencing Samples: 100%|██████████| 1/1 [00:00<00:00,  2.23 Batches/s]\n",
      "Inferencing Samples: 100%|██████████| 1/1 [00:00<00:00,  1.16 Batches/s]\n",
      "Inferencing Samples: 100%|██████████| 1/1 [00:00<00:00,  1.00 Batches/s]\n",
      "Inferencing Samples: 100%|██████████| 1/1 [00:00<00:00,  1.86 Batches/s]\n",
      "Inferencing Samples: 100%|██████████| 1/1 [00:00<00:00,  2.15 Batches/s]\n",
      "Inferencing Samples: 100%|██████████| 1/1 [00:00<00:00,  2.17 Batches/s]\n",
      "Inferencing Samples: 100%|██████████| 1/1 [00:00<00:00,  2.14 Batches/s]\n"
     ]
    }
   ],
   "source": [
    "prediction = finder.get_answers(question=\"What is a layer?\", top_k_retriever=10, top_k_reader=3)"
   ]
  },
  {
   "cell_type": "code",
   "execution_count": 14,
   "metadata": {},
   "outputs": [
    {
     "output_type": "stream",
     "name": "stdout",
     "text": [
      "[   {   'answer': 'one hidden layer',\n        'context': 'ogistic\\n'\n                   'regression involves a very simple neural network with only '\n                   'one hidden layer and only\\n'\n                   'one node in its hidden layer.\\n'\n                   'An overview of the logistic',\n        'score': 6.236577987670898},\n    {   'answer': 'one hidden layer',\n        'context': 'ogistic\\n'\n                   'regression involves a very simple neural network with only '\n                   'one hidden layer and only\\n'\n                   'one node in its hidden layer.\\n'\n                   'An overview of the logistic',\n        'score': 6.236577987670898},\n    {   'answer': 'pooling layer',\n        'context': 'e feature map derived from the convolution layer is passed '\n                   'through a pooling layer\\n'\n                   'to further reduce the image, all while preserving the most '\n                   'relevant',\n        'score': 5.443607330322266}]\n"
     ]
    }
   ],
   "source": [
    "print_answers(prediction, details=\"medium\")"
   ]
  },
  {
   "cell_type": "code",
   "execution_count": 15,
   "metadata": {},
   "outputs": [
    {
     "output_type": "stream",
     "name": "stderr",
     "text": [
      "12/02/2020 13:48:35 - INFO - elasticsearch -   POST http://localhost:9200/document/_search [status:200 request:0.042s]\n",
      "12/02/2020 13:48:35 - INFO - haystack.finder -   Got 10 candidates from retriever\n",
      "12/02/2020 13:48:35 - INFO - haystack.finder -   Reader is looking for detailed answer in 10276 chars ...\n",
      "Inferencing Samples: 100%|██████████| 1/1 [00:00<00:00,  1.29 Batches/s]\n",
      "Inferencing Samples: 100%|██████████| 1/1 [00:00<00:00,  1.78 Batches/s]\n",
      "Inferencing Samples: 100%|██████████| 1/1 [00:00<00:00,  2.19 Batches/s]\n",
      "Inferencing Samples: 100%|██████████| 1/1 [00:00<00:00,  1.39 Batches/s]\n",
      "Inferencing Samples: 100%|██████████| 1/1 [00:00<00:00,  1.47 Batches/s]\n",
      "Inferencing Samples: 100%|██████████| 1/1 [00:00<00:00,  1.46 Batches/s]\n",
      "Inferencing Samples: 100%|██████████| 1/1 [00:01<00:00,  1.56s/ Batches]\n",
      "Inferencing Samples: 100%|██████████| 1/1 [00:00<00:00,  1.91 Batches/s]\n",
      "Inferencing Samples: 100%|██████████| 1/1 [00:00<00:00,  2.09 Batches/s]\n",
      "Inferencing Samples: 100%|██████████| 1/1 [00:01<00:00,  1.02s/ Batches]\n"
     ]
    }
   ],
   "source": [
    "prediction = finder.get_answers(question=\"What is deep learning?\", top_k_retriever=10, top_k_reader=3)"
   ]
  },
  {
   "cell_type": "code",
   "execution_count": 16,
   "metadata": {},
   "outputs": [
    {
     "output_type": "stream",
     "name": "stdout",
     "text": [
      "[   {   'answer': 'lowest bias and the lowest variance',\n        'context': 'ta analysis, the most desirable model is the one\\n'\n                   'with the lowest bias and the lowest variance.As shown in '\n                   'the preceding plot, the\\n'\n                   'region labeled in th',\n        'score': 2.6615817546844482},\n    {   'answer': 'standard gradient descent algorithm',\n        'context': '| Deep Learning with Keras\\n'\n                   'What we discussed here was the standard gradient descent '\n                   'algorithm, which computes\\n'\n                   'the loss and the derivatives using the e',\n        'score': 1.9924461841583252},\n    {   'answer': 'standard gradient descent algorithm',\n        'context': '| Deep Learning with Keras\\n'\n                   'What we discussed here was the standard gradient descent '\n                   'algorithm, which computes\\n'\n                   'the loss and the derivatives using the e',\n        'score': 1.9924461841583252}]\n"
     ]
    }
   ],
   "source": [
    "print_answers(prediction, details=\"medium\")"
   ]
  },
  {
   "cell_type": "code",
   "execution_count": 17,
   "metadata": {},
   "outputs": [
    {
     "output_type": "stream",
     "name": "stderr",
     "text": [
      "12/02/2020 13:48:52 - INFO - elasticsearch -   POST http://localhost:9200/document/_search [status:200 request:0.013s]\n",
      "12/02/2020 13:48:52 - INFO - haystack.finder -   Got 10 candidates from retriever\n",
      "12/02/2020 13:48:52 - INFO - haystack.finder -   Reader is looking for detailed answer in 9875 chars ...\n",
      "Inferencing Samples: 100%|██████████| 1/1 [00:00<00:00,  1.01 Batches/s]\n",
      "Inferencing Samples: 100%|██████████| 1/1 [00:00<00:00,  2.29 Batches/s]\n",
      "Inferencing Samples: 100%|██████████| 1/1 [00:00<00:00,  1.14 Batches/s]\n",
      "Inferencing Samples: 100%|██████████| 1/1 [00:00<00:00,  1.18 Batches/s]\n",
      "Inferencing Samples: 100%|██████████| 1/1 [00:00<00:00,  1.14 Batches/s]\n",
      "Inferencing Samples: 100%|██████████| 1/1 [00:00<00:00,  1.16 Batches/s]\n",
      "Inferencing Samples: 100%|██████████| 1/1 [00:00<00:00,  2.14 Batches/s]\n",
      "Inferencing Samples: 100%|██████████| 1/1 [00:00<00:00,  2.12 Batches/s]\n",
      "Inferencing Samples: 100%|██████████| 1/1 [00:00<00:00,  1.02 Batches/s]\n",
      "Inferencing Samples: 100%|██████████| 1/1 [00:00<00:00,  1.37 Batches/s]\n"
     ]
    }
   ],
   "source": [
    "prediction = finder.get_answers(question=\"What is logistic regression?\", top_k_retriever=10, top_k_reader=3)"
   ]
  },
  {
   "cell_type": "code",
   "execution_count": 18,
   "metadata": {},
   "outputs": [
    {
     "output_type": "stream",
     "name": "stdout",
     "text": [
      "[   {   'answer': 'classification tasks',\n        'context': 'at other algorithms can\\n'\n                   'perform, such as logistic regression for classification '\n                   'tasks, linear\\n'\n                   'regression for regression problems, and k-means for clus',\n        'score': 13.997730255126953},\n    {   'answer': 'classification tasks',\n        'context': 'at other algorithms can\\n'\n                   'perform, such as logistic regression for classification '\n                   'tasks, linear\\n'\n                   'regression for regression problems, and k-means for clus',\n        'score': 13.997730255126953},\n    {   'answer': 'classification tasks',\n        'context': 'at other algorithms can\\n'\n                   'perform, such as logistic regression for classification '\n                   'tasks, linear\\n'\n                   'regression for regression problems, and k-means for clus',\n        'score': 13.873347282409668}]\n"
     ]
    }
   ],
   "source": [
    "print_answers(prediction, details=\"medium\")"
   ]
  },
  {
   "cell_type": "code",
   "execution_count": 19,
   "metadata": {},
   "outputs": [
    {
     "output_type": "stream",
     "name": "stderr",
     "text": [
      "12/02/2020 13:55:18 - INFO - elasticsearch -   POST http://localhost:9200/document/_search [status:200 request:0.016s]\n",
      "12/02/2020 13:55:18 - INFO - haystack.finder -   Got 10 candidates from retriever\n",
      "12/02/2020 13:55:18 - INFO - haystack.finder -   Reader is looking for detailed answer in 5751 chars ...\n",
      "Inferencing Samples: 100%|██████████| 1/1 [00:01<00:00,  1.11s/ Batches]\n",
      "Inferencing Samples: 100%|██████████| 1/1 [00:00<00:00,  2.15 Batches/s]\n",
      "Inferencing Samples: 100%|██████████| 1/1 [00:00<00:00,  1.01 Batches/s]\n",
      "Inferencing Samples: 100%|██████████| 1/1 [00:00<00:00,  1.05 Batches/s]\n",
      "Inferencing Samples: 100%|██████████| 1/1 [00:01<00:00,  1.31s/ Batches]\n",
      "Inferencing Samples: 100%|██████████| 1/1 [00:00<00:00,  2.04 Batches/s]\n",
      "Inferencing Samples: 100%|██████████| 1/1 [00:00<00:00,  2.19 Batches/s]\n",
      "Inferencing Samples: 100%|██████████| 1/1 [00:00<00:00,  2.22 Batches/s]\n",
      "Inferencing Samples: 100%|██████████| 1/1 [00:00<00:00,  2.20 Batches/s]\n",
      "Inferencing Samples: 100%|██████████| 1/1 [00:00<00:00,  2.28 Batches/s]\n"
     ]
    }
   ],
   "source": [
    "prediction = finder.get_answers(question=\"What is early stopping?\", top_k_retriever=10, top_k_reader=3)"
   ]
  },
  {
   "cell_type": "code",
   "execution_count": 20,
   "metadata": {},
   "outputs": [
    {
     "output_type": "stream",
     "name": "stdout",
     "text": [
      "[   {   'answer': 'patience=0',\n        'context': 'Figure 5.10: Plot of training error and validation error '\n                   'while training the model\\n'\n                   'with early stopping (patience=0)',\n        'score': 11.892475128173828},\n    {   'answer': 'patience=0',\n        'context': 'Figure 5.10: Plot of training error and validation error '\n                   'while training the model\\n'\n                   'with early stopping (patience=0)',\n        'score': 11.892475128173828},\n    {   'answer': 'forcing the Keras model to stop the training when a desired '\n                  'metric—for example,\\n'\n                  'the test error rate—is not improving anymore',\n        'context': '. This\\n'\n                   'means forcing the Keras model to stop the training when a '\n                   'desired metric—for example,\\n'\n                   'the test error rate—is not improving anymore. In order to',\n        'score': 10.376293182373047}]\n"
     ]
    }
   ],
   "source": [
    "print_answers(prediction, details=\"medium\")"
   ]
  },
  {
   "cell_type": "code",
   "execution_count": 21,
   "metadata": {},
   "outputs": [
    {
     "output_type": "stream",
     "name": "stderr",
     "text": [
      "12/02/2020 13:55:42 - INFO - elasticsearch -   POST http://localhost:9200/document/_search [status:200 request:0.015s]\n",
      "12/02/2020 13:55:42 - INFO - haystack.finder -   Got 10 candidates from retriever\n",
      "12/02/2020 13:55:42 - INFO - haystack.finder -   Reader is looking for detailed answer in 9829 chars ...\n",
      "Inferencing Samples: 100%|██████████| 1/1 [00:01<00:00,  1.60s/ Batches]\n",
      "Inferencing Samples: 100%|██████████| 1/1 [00:00<00:00,  1.14 Batches/s]\n",
      "Inferencing Samples: 100%|██████████| 1/1 [00:00<00:00,  1.50 Batches/s]\n",
      "Inferencing Samples: 100%|██████████| 1/1 [00:00<00:00,  1.99 Batches/s]\n",
      "Inferencing Samples: 100%|██████████| 1/1 [00:01<00:00,  1.32s/ Batches]\n",
      "Inferencing Samples: 100%|██████████| 1/1 [00:01<00:00,  1.24s/ Batches]\n",
      "Inferencing Samples: 100%|██████████| 1/1 [00:00<00:00,  2.24 Batches/s]\n",
      "Inferencing Samples: 100%|██████████| 1/1 [00:00<00:00,  2.23 Batches/s]\n",
      "Inferencing Samples: 100%|██████████| 1/1 [00:01<00:00,  1.27s/ Batches]\n",
      "Inferencing Samples: 100%|██████████| 1/1 [00:00<00:00,  2.22 Batches/s]\n"
     ]
    }
   ],
   "source": [
    "prediction = finder.get_answers(question=\"What is early stopping used for?\", top_k_retriever=10, top_k_reader=3)"
   ]
  },
  {
   "cell_type": "code",
   "execution_count": 22,
   "metadata": {},
   "outputs": [
    {
     "output_type": "stream",
     "name": "stdout",
     "text": [
      "[   {   'answer': 'monitor the desired metric',\n        'context': 'mber of epochs to give the early stopping method some\\n'\n                   'time to monitor the desired metric for longer before '\n                   'stopping the training process:\\n'\n                   'es_callback ',\n        'score': 10.788822174072266},\n    {   'answer': 'monitor the desired metric',\n        'context': 'mber of epochs to give the early stopping method some\\n'\n                   'time to monitor the desired metric for longer before '\n                   'stopping the training process:\\n'\n                   'es_callback ',\n        'score': 10.788822174072266},\n    {   'answer': 'forcing the Keras model to stop the training when a desired '\n                  'metric—for example,\\n'\n                  'the test error rate—is not improving anymore',\n        'context': '. This\\n'\n                   'means forcing the Keras model to stop the training when a '\n                   'desired metric—for example,\\n'\n                   'the test error rate—is not improving anymore. In order to',\n        'score': 8.451149940490723}]\n"
     ]
    }
   ],
   "source": [
    "print_answers(prediction, details=\"medium\")"
   ]
  },
  {
   "cell_type": "code",
   "execution_count": 23,
   "metadata": {},
   "outputs": [
    {
     "output_type": "stream",
     "name": "stderr",
     "text": [
      "12/02/2020 13:56:31 - INFO - haystack.preprocessor.utils -   Found data stored in `../data/nq`. Delete this first if you really want to fetch new data.\n"
     ]
    },
    {
     "output_type": "execute_result",
     "data": {
      "text/plain": [
       "False"
      ]
     },
     "metadata": {},
     "execution_count": 23
    }
   ],
   "source": [
    "# EVALUATING\n",
    "\n",
    "\n",
    "\n",
    "from haystack.preprocessor.utils import fetch_archive_from_http\n",
    "\n",
    "# Download evaluation data, which is a subset of Natural Questions development set containing 50 documents\n",
    "doc_dir = \"../data/nq\"\n",
    "s3_url = \"https://s3.eu-central-1.amazonaws.com/deepset.ai-farm-qa/datasets/nq_dev_subset_v2.json.zip\"\n",
    "fetch_archive_from_http(url=s3_url, output_dir=doc_dir)"
   ]
  },
  {
   "cell_type": "code",
   "execution_count": 43,
   "metadata": {
    "tags": [
     "outputPrepend"
    ]
   },
   "outputs": [
    {
     "output_type": "stream",
     "name": "stdout",
     "text": [
      "y (1916). Ancient times, a history of the early world: an introduction to the study of ancient history and the career of early man (PDF). Boston: Ginn. pp. 100--101. ``The Ancient Oriental World'' map is inserted between pages 100 and 101. Clay, Albert T. (1924). ``The so-called Fertile Crescent and desert bay''. Journal of the American Oriental Society. 44: 186--201. doi:10.2307/593554. JSTOR 593554. Kuklick, Bruce (1996). ``Essay on methods and sources''. Puritans in Babylon: the ancient Near East and American intellectual life, 1880--1930. Princeton: Princeton University Press. p. 241. ISBN 978-0-691-02582-7. Textbooks...The true texts brought all of these strands together, the most important being James Henry Breasted, Ancient Times: A History of the Early World (Boston, 1916), but a predecessor, George Stephen Goodspeed, A History of the Ancient World (New York, 1904), is outstanding. Goodspeed, who taught at Chicago with Breasted, antedated him in the conception of a 'crescent' of civilization. Jump up ^ Diamond, Jared. (March 1997). Guns, Germs, and Steel: The Fates of Human Societies. W.W. Norton & Company. ISBN 0-393-03891-2. Jump up ^ Diamond, Jared. (March 1997). Guns, Germs, and Steel: The Fates of Human Societies. W.W. Norton & Company. ISBN 0-393-03891-2. Jump up ^ Diamond, Jared. (March 1997). Guns, Germs, and Steel: The Fates of Human Societies. W.W. Norton & Company. ISBN 0-393-03891-2. Jump up ^ Murray, S. (2009). The library : an illustrated history. New York, NY : Skyhorse Pub. ; Chicago : ALA Editions, 2009. Jump up ^ Beck, Roger B.; Black, Linda; Krieger, Larry S.; Naylor, Phillip C.; Shabaka, Dahia Ibo (1999). World History: Patterns of Interaction. Evanston, IL: McDougal Littell. ISBN 0-395-87274-X. Jump up ^ Norris, Scott (1 June 2006). ``Ancient Fig Find May Push Back Birth of Agriculture''. National Geographic Society. Retrieved 6 March 2017. Jump up ^ Genographic Project / The Development of Agriculture Archived 2016-04-14 at the Wayback Machine. nationalgeographic.com Jump up ^ Driscoll, et al., The near eastern origin of cat domestication. Science 2007;317:519-23 Jump up ^ Oxford Handbook of Ancient Anatolia. Ed. Steadman & McMahon. 2011. Pg 233, 522, 556. Jump up ^ A Companion to the Archaeology of the Ancient Near East. Ed: T Potts, 2012. Pg 28, 570, 584. Bibliography(edit) Jared Diamond, Guns, germs and steel. A short history of everybody for the last 13'000 years, 1997. External links(edit) Wikimedia Commons has media related to Fertile Crescent. Ancient Fertile Crescent Almost Gone, Satellite Images Show -- from National Geographic News, May 18, 2001. Regions of the world Regions of Africa Central Africa Guinea region Gulf of Guinea Cape Lopez Mayombe Igboland Mbaise Maputaland Pool Malebo Congo Basin Chad Basin Congolese rainforests Ouadda\\u00ef highlands Ennedi Plateau East Africa African Great Lakes Albertine Rift East African Rift Great Rift Valley Gregory Rift Rift Valley lakes Swahili coast Virunga Mountains Zanj Horn of Africa Afar Triangle Al-Habash Barbara Danakil Alps Danakil Desert Ethiopian Highlands Gulf of Aden Gulf of Tadjoura Indian Ocean islands Comoros Islands North Africa Maghreb Barbary Coast Bashmur Ancient Libya Atlas Mountains Nile Valley Cataracts of the Nile Darfur Gulf of Aqaba Lower Egypt Lower Nubia Middle Egypt Nile Delta Nuba Mountains Nubia The Sudans Upper Egypt Western Sahara West Africa Pepper Coast Gold Coast Slave Coast Ivory Coast Cape Palmas Cape Mesurado Guinea region Gulf of Guinea Niger Basin Guinean Forests of West Africa Niger Delta Inner Niger Delta Southern Africa Madagascar Central Highlands (Madagascar) Northern Highlands Rhodesia North South Thembuland Succulent Karoo Nama Karoo Bushveld Highveld Fynbos Cape Floristic Region Kalahari Desert Okavango Delta False Bay Hydra Bay Macro-regions Aethiopia Arab world Commonwealth realm East African montane forests Eastern Desert Equatorial Africa Fran\\u00e7afrique Gibraltar Arc Greater Middle East Islands of Africa List of countries where Arabic is an official language Mediterranean Basin MENA MENASA Middle East Mittelafrika Negroland Northeast Africa Portuguese-speaking African countries Sahara Sahel Sub-Saharan Africa Sudan (region) Sudanian Savanna Tibesti Mountains Tropical Africa Regions of Asia Central Greater Middle East Aral Sea Aralkum Desert Caspian Sea Dead Sea Sea of Galilee Transoxiana Turan Greater Khorasan Ariana Khwarezm Sistan Kazakhstania Eurasian Steppe Asian Steppe Kazakh Steppe Pontic--Caspian steppe Mongolian-Manchurian grassland Wild Fields Yedisan Muravsky Trail Ural Ural Mountains Volga region Idel-Ural Kolyma Transbaikal Pryazovia Bjarmaland Kuban Zalesye Ingria Novorossiya Gornaya Shoriya Tulgas Iranian Plateau Altai Mountains Pamir Mountains Tian Shan Badakhshan Wakhan Corridor Wakhjir Pass Mount Imeon Mongolian Plateau Western Regions Taklamakan Desert Karakoram Trans-Karakoram Tract Siachen Glacier North Inner Asia Northeast Far East Russian Far East Okhotsk-Manchurian taiga Extreme North Siberia Baikalia (Lake Baikal) Transbaikal Khatanga Gulf Baraba steppe Kamchatka Peninsula Amur Basin Yenisei Gulf Yenisei Basin Beringia Sikhote-Alin East Japanese archipelago Northeastern Japan Arc Sakhalin Island Arc Korean Peninsula Gobi Desert Taklamakan Desert Greater Khingan Mongolian Plateau Inner Asia Inner Mongolia Outer Mongolia China proper Manchuria Outer Manchuria Inner Manchuria Northeast China Plain Mongolian-Manchurian grassland North China Plain Yan Mountains Kunlun Mountains Liaodong Peninsula Himalayas Tibetan Plateau Tibet Tarim Basin Northern Silk Road Hexi Corridor Nanzhong Lingnan Liangguang Jiangnan Jianghuai Guanzhong Huizhou Wu Jiaozhou Zhongyuan Shaannan Ordos Loop Loess Plateau Shaanbei Hamgyong Mountains Central Mountain Range Japanese Alps Suzuka Mountains Leizhou Peninsula Gulf of Tonkin Yangtze River Delta Pearl River Delta Yenisei Basin Altai Mountains Wakhan Corridor Wakhjir Pass West Greater Middle East MENA MENASA Middle East Red Sea Caspian Sea Mediterranean Sea Zagros Mountains Persian Gulf Pirate Coast Strait of Hormuz Greater and Lesser Tunbs Al-Faw Peninsula Gulf of Oman Gulf of Aqaba Gulf of Aden Balochistan Arabian Peninsula Najd Hejaz Tihamah Eastern Arabia South Arabia Hadhramaut Arabian Peninsula coastal fog desert Tigris--Euphrates Mesopotamia Upper Mesopotamia Lower Mesopotamia Sawad Nineveh plains Akkad (region) Babylonia Canaan Aram Eber-Nari Suhum Eastern Mediterranean Mashriq Kurdistan Levant Southern Levant Transjordan Jordan Rift Valley Levantine Sea Golan Heights Hula Valley Gaza Strip West Bank Galilee Gilead Judea Samaria Arabah Anti-Lebanon Mountains Sinai Peninsula Arabian Desert Syrian Desert Fertile Crescent Azerbaijan Syria Palestine Iranian Plateau Armenian Highlands Caucasus Caucasus Mountains Greater Caucasus Lesser Caucasus North Caucasus South Caucasus Kur-Araz Lowland Lankaran Lowland Alborz Absheron Peninsula Anatolia Cilicia Cappadocia Alpide belt South Greater India Indian subcontinent Himalayas Hindu Kush Western Ghats Eastern Ghats Ganges Basin Ganges Delta Pashtunistan Punjab Balochistan Kashmir Kashmir Valley Pir Panjal Range Thar Desert Indus Valley Indus River Delta Indus Valley Desert Indo-Gangetic Plain Eastern coastal plains Western Coastal Plains Meghalaya subtropical forests MENASA Lower Gangetic plains moist deciduous forests Northwestern Himalayan alpine shrub and meadows Doab Bagar tract Great Rann of Kutch Little Rann of Kutch Deccan Plateau Coromandel Coast Konkan False Divi Point Hindi Belt Ladakh Aksai Chin Gilgit-Baltistan Baltistan Shigar Valley Karakoram Saltoro Mountains Siachen Glacier Bay of Bengal Gulf of Khambhat Gulf of Kutch Gulf of Mannar Trans-Karakoram Tract Wakhan Corridor Wakhjir Pass Lakshadweep Andaman and Nicobar Islands Andaman Islands Nicobar Islands Maldive Islands Alpide belt Southeast Mainland Indochina Malay Peninsula Maritime Peninsular Malaysia Sunda Islands Greater Sunda Islands Lesser Sunda Islands Indonesian Archipelago Timor New Guinea Bonis Peninsula Papuan Peninsula Huon Peninsula Huon Gulf Bird's Head Peninsula Gazelle Peninsula Philippine Archipelago Luzon Visayas Mindanao Leyte Gulf Gulf of Thailand East Indies Nanyang Alpide belt Asia-Pacific Tropical Asia Ring of Fire Regions of Europe North Nordic Northwestern Scandinavia Scandinavian Peninsula Fennoscandia Baltoscandia S\\u00e1pmi West Nordic Baltic Baltic Sea Gulf of Bothnia Gulf of Finland Iceland Faroe Islands East Danubian countries Prussia Galicia Volhynia Donbass Sloboda Ukraine Sambia Peninsula Amber Coast Curonian Spit Izyum Trail Lithuania Minor Nemunas Delta Baltic Baltic Sea Vyborg Bay Karelia East Karelia Karelian Isthmus Lokhaniemi Southeastern Balkans Aegean Islands Gulf of Chania North Caucasus Greater Caucasus Kabardia European Russia Southern Russia Central Baltic Baltic Sea Alpine states Alpide belt Mitteleuropa Visegr\\u00e1d Group West Benelux Low Countries Northwest British Isles English Channel Channel Islands Cotentin Peninsula Normandy Brittany Gulf of Lion Iberia Al-Andalus Baetic System Pyrenees Alpide belt South Italian Peninsula Insular Italy Tuscan Archipelago Aegadian Islands Iberia Al-Andalus Baetic System Gibraltar Arc Southeastern Mediterranean Crimea Alpide belt Germanic Celtic Slavic countries Uralic European Plain Eurasian Steppe Pontic--Caspian steppe Wild Fields Pannonian Basin Great Hungarian Plain Little Hungarian Plain Eastern Slovak Lowland Regions of North America Canada Eastern Canada Western Canada Canadian Prairies Central Canada Northern Canada Atlantic Canada The Maritimes French Canada English Canada Acadia Acadian Peninsula Quebec City--Windsor Corridor Peace River Country Cypress Hills Palliser's Triangle Canadian Shield Interior Alaska-Yukon lowland taiga Newfoundland (island) Vancouver island Gulf Islands Strait of Georgia Canadian Arctic Archipelago Labrador Peninsula Gasp\\u00e9 Peninsula Avalon Peninsula Bay de Verde Peninsula Brodeur Peninsula Melville Peninsula Bruce Peninsula Banks Peninsula (Nunavut) Cook Peninsula Gulf of Boothia Georgian Bay Hudson Bay James Bay Greenland United States Pacific Northwest Inland Northwest Northeast New England Mid-Atlantic Commonwealth West Midwest Upper Midwest Mountain States Intermountain West Basin and Range Province Oregon Trail Mormon Corridor Calumet Region Southwest Old Southwest Llano Estacado Central United States Tallgrass prairie South South Central Deep South Upland South Four Corners East Coast West Coast Gulf Coast Third Coast Coastal states Eastern United States Appalachia Trans-Mississippi Great North Woods Great Plains Interior Plains Great Lakes Great Basin Great Basin Desert Acadia Ozarks Ark-La-Tex Waxhaws Siouxland Twin Tiers Driftless Area Palouse Piedmont Atlantic coastal plain Outer Lands Black Dirt Region Blackstone Valley Piney Woods Rocky Mountains Mojave Desert The Dakotas The Carolinas Shawnee Hills San Fernando Valley Tornado Alley North Coast Lost Coast Emerald Triangle San Francisco Bay Area San Francisco Bay North Bay (San Francisco Bay Area) East Bay (San Francisco Bay Area) Silicon Valley Interior Alaska-Yukon lowland taiga Gulf of Mexico Lower Colorado River Valley Sacramento--San Joaquin River Delta Yukon--Kuskokwim Delta Colville Delta Arkansas Delta Mobile--Tensaw River Delta Mississippi Delta Mississippi River Delta Columbia River Estuary Great Basin High Desert Monterey Peninsula Upper Peninsula of Michigan Lower Peninsula of Michigan Virginia Peninsula Keweenaw Peninsula Middle Peninsula Delmarva Peninsula Alaska Peninsula Kenai Peninsula Niagara Peninsula Beringia Belt regions Bible Belt Black Belt Corn Belt Cotton Belt Frost Belt Rice Belt Rust Belt Sun Belt Snow Belt Mexico Northern Mexico Baja California Peninsula Gulf of California Colorado River Delta Gulf of Mexico Soconusco Tierra Caliente La Mixteca La Huasteca Baj\\u00edo Valley of Mexico Mezquital Valley Sierra Madre de Oaxaca Yucat\\u00e1n Peninsula Basin and Range Province Central Western Caribbean Zone Isthmus of Panama Gulf of Panama Pearl Islands Azuero Peninsula Mosquito Coast Caribbean West Indies Antilles Greater Antilles Lesser Antilles Leeward Leeward Antilles Windward Lucayan Archipelago Southern Caribbean Aridoamerica Mesoamerica Oasisamerica Northern Middle Anglo Latin French Hispanic American Cordillera Ring of Fire LAC Regions of Oceania Australasia Gulf of Carpentaria New Guinea Bonis Peninsula Papuan Peninsula Huon Peninsula Huon Gulf Bird's Head Peninsula Gazelle Peninsula New Zealand South Island North Island Coromandel Peninsula Zealandia New Caledonia Solomon Islands (archipelago) Vanuatu Kula Gulf Australia Capital Country Eastern Australia Lake Eyre basin Murray--Darling basin Northern Australia Nullarbor Plain Outback Southern Australia Maralinga Sunraysia Great Victoria Desert Gulf of Carpentaria Gulf St Vincent Lefevre Peninsula Fleurieu Peninsula Yorke Peninsula Eyre Peninsula Mornington Peninsula Bellarine Peninsula Mount Henry Peninsula Melanesia Islands Region Bismarck Archipelago Solomon Islands Archipelago Fiji New Caledonia Papua New Guinea Vanuatu Micronesia Caroline Islands Federated States of Micronesia Palau Guam Kiribati Marshall Islands Nauru Northern Mariana Islands Wake Island Polynesia Easter Island Hawaiian Islands Cook Islands French Polynesia Austral Islands Gambier Islands Marquesas Islands Society Islands Tuamotu Kermadec Islands Mangareva Islands Samoa Tokelau Tonga Tuvalu Ring of Fire Regions of South America East Amazon basin Atlantic Forest Caatinga Cerrado North Caribbean South America West Indies Los Llanos The Guianas Amazon basin Amazon rainforest Gulf of Paria Paria Peninsula Paraguan\\u00e1 Peninsula Orinoco Delta South Tierra del Fuego Patagonia Pampas Pantanal Gran Chaco Chiquitano dry forests Valdes Peninsula West Andes Tropical Andes Wet Andes Dry Andes Pariacaca mountain range Altiplano Atacama Desert Latin Hispanic American Cordillera Ring of Fire LAC Polar regions Antarctic Antarctic Peninsula East Antarctica West Antarctica Eklund Islands Ecozone Extreme points Islands Arctic Arctic Alaska British Arctic Territories Canadian Arctic Archipelago Finnmark Greenland Northern Canada Northwest Territories Nunavik Nunavut Russian Arctic Sakha S\\u00e1pmi Yukon North American Arctic Earth's oceans and seas Arctic Ocean Amundsen Gulf Barents Sea Beaufort Sea Chukchi Sea East Siberian Sea Greenland Sea Gulf of Boothia Kara Sea Laptev Sea Lincoln Sea Prince Gustav Adolf Sea Pechora Sea Queen Victoria Sea Wandel Sea White Sea Atlantic Ocean Adriatic Sea Aegean Sea Alboran Sea Archipelago Sea Argentine Sea Baffin Bay Balearic Sea Baltic Sea Bay of Biscay Bay of Bothnia Bay of Campeche Bay of Fundy Black Sea Bothnian Sea Caribbean Sea Celtic Sea English Channel Foxe Basin Greenland Sea Gulf of Bothnia Gulf of Finland Gulf of Lion Gulf of Guinea Gulf of Maine Gulf of Mexico Gulf of Saint Lawrence Gulf of Sidra Gulf of Venezuela Hudson Bay Ionian Sea Irish Sea Irminger Sea James Bay Labrador Sea Levantine Sea Libyan Sea Ligurian Sea Marmara Sea Mediterranean Sea Myrtoan Sea North Sea Norwegian Sea Sargasso Sea Sea of \\u00c5land Sea of Azov Sea of Crete Sea of the Hebrides Thracian Sea Tyrrhenian Sea Wadden Sea Indian Ocean Andaman Sea Arabian Sea Bali Sea Bay of Bengal Flores Sea Great Australian Bight Gulf of Aden Gulf of Aqaba Gulf of Khambhat Gulf of Kutch Gulf of Oman Gulf of Suez Java Sea Laccadive Sea Mozambique Channel Persian Gulf Red Sea Timor Sea Pacific Ocean Arafura Sea Banda Sea Bering Sea Bismarck Sea Bohai Sea Bohol Sea Camotes Sea Celebes Sea Ceram Sea Chilean Sea Coral Sea East China Sea Gulf of Alaska Gulf of Anadyr Gulf of California Gulf of Carpentaria Gulf of Fonseca Gulf of Panama Gulf of Thailand Gulf of Tonkin Halmahera Sea Koro Sea Mar de Grau Molucca Sea Moro Gulf Philippine Sea Salish Sea Savu Sea Sea of Japan Sea of Okhotsk Seto Inland Sea Shantar Sea Sibuyan Sea Solomon Sea South China Sea Sulu Sea Tasman Sea Visayan Sea Yellow Sea Southern Ocean Amundsen Sea Bellingshausen Sea Cooperation Sea Cosmonauts Sea Davis Sea D'Urville Sea King Haakon VII Sea Lazarev Sea Mawson Sea Riiser-Larsen Sea Ross Sea Scotia Sea Somov Sea Weddell Sea Landlocked seas Aral Sea Caspian Sea Dead Sea Salton Sea Book Prehistoric Asia Paleolithic Homo erectus georgicus Japanese Paleolithic Java Man List of Paleolithic sites in China Paleolithic Mesopotamia Natufian culture Peking Man Riwat Soanian Sangiran South Asian Stone Age Ubeidiya Xiaochangliang Neolithic Fertile Crescent Early Neolithic settlements Khiamian culture Trialetian culture Nemrikian culture Zarzian culture Neolithic China Neolithic Tibet Neolithic Korea Neolithic Revolution Neolithic South Asia Ohalo Pre-Pottery Neolithic A (Mesopotamia) Pre-Pottery Neolithic B (Mesopotamia) Chalcolithic Daimabad Halaf culture Uruk period Bronze Age Andronovo culture Bactria--Margiana Archaeological Complex Bronze Age Anatolia Bronze Age Caucasus Bronze Age China Bronze Age India Bronze Age Korea Bronze Age Levant List of Bronze Age sites in China Seima-Turbino phenomenon List of archaeological periods List of time periods VIAF: 243180655 GND: 4517565-2 Coordinates: 36\\u00b0N 40\\u00b0E\\ufeff / \\ufeff36\\u00b0N 40\\u00b0E\\ufeff / 36; 40 Retrieved from ``https://en.wikipedia.org/w/index.php?title=Fertile_Crescent&oldid=818532438'' Categories: Ancient Near EastEastern MediterraneanHistory of the MediterraneanPhysiographic divisionsHidden categories: Webarchive template wayback linksWikipedia articles with VIAF identifiersWikipedia articles with GND identifiersCoordinates on Wikidata Talk Contents About Wikipedia Languages AsturianuAz\\u0259rbaycanca\\u062a\\u06c6\\u0631\\u06a9\\u062c\\u0647\\u09ac\\u09be\\u0982\\u09b2\\u09be\\u0411\\u0435\\u043b\\u0430\\u0440\\u0443\\u0441\\u043a\\u0430\\u044f\\u0411\\u0435\\u043b\\u0430\\u0440\\u0443\\u0441\\u043a\\u0430\\u044f (\\u0442\\u0430\\u0440\\u0430\\u0448\\u043a\\u0435\\u0432\\u0456\\u0446\\u0430)\\u200e\\u0411\\u044a\\u043b\\u0433\\u0430\\u0440\\u0441\\u043a\\u0438Catal\\u00e0\\u010ce\\u0161tinaDanskDeutschEestiEspa\\u00f1olEsperantoEuskara\\u0641\\u0627\\u0631\\u0633\\u06ccFran\\u00e7aisFryskGaeilgeGalego\\ud55c\\uad6d\\uc5b4\\u0540\\u0561\\u0575\\u0565\\u0580\\u0565\\u0576\\u0939\\u093f\\u0928\\u094d\\u0926\\u0940HrvatskiBahasa Indonesia\\u00cdslenskaItaliano\\u05e2\\u05d1\\u05e8\\u05d9\\u05eaLatinaLietuvi\\u0173LimburgsMagyar\\u0d2e\\u0d32\\u0d2f\\u0d3e\\u0d33\\u0d02Bahasa Melayu\\u1019\\u103c\\u1014\\u103a\\u1019\\u102c\\u1018\\u102c\\u101e\\u102cNederlands\\u65e5\\u672c\\u8a9eNorskNorsk nynorskOccitan\\u067e\\u0646\\u062c\\u0627\\u0628\\u06ccPolskiPortugu\\u00easRom\\u00e2n\\u0103\\u0420\\u0443\\u0441\\u0441\\u043a\\u0438\\u0439Simple EnglishSloven\\u010dinaSloven\\u0161\\u010dina\\u0421\\u0440\\u043f\\u0441\\u043a\\u0438 / srpskiSrpskohrvatski / \\u0441\\u0440\\u043f\\u0441\\u043a\\u043e\\u0445\\u0440\\u0432\\u0430\\u0442\\u0441\\u043a\\u0438SuomiSvenskaTagalog\\u0e44\\u0e17\\u0e22T\\u00fcrk\\u00e7e\\u0423\\u043a\\u0440\\u0430\\u0457\\u043d\\u0441\\u044c\\u043a\\u0430\\u0627\\u0631\\u062f\\u0648Ti\\u1ebfng Vi\\u1ec7t\\u4e2d\\u6587 Edit links This page was last edited on 4 January 2018, at 03:00. Text is available under the Creative Commons Attribution-ShareAlike License; additional terms may apply. By using this site, you agree to the Terms of Use and Privacy Policy. Wikipedia\\u00ae is a registered trademark of the Wikimedia Foundation, Inc., a non-profit organization. About Wikipedia \", \"qas\": [{\"answers\": [{\"answer_start\": 697, \"text\": \"Tigris and Euphrates rivers\"}, {\"answer_start\": 697, \"text\": \"Tigris and Euphrates rivers\"}], \"id\": 9087528790356333569, \"question\": \"the fertile crescent is located between what two bodies of water\", \"is_impossible\": false}, {\"answers\": [{\"answer_start\": 1567, \"text\": \"popularized by University of Chicago archaeologist James Henry Breasted, beginning with his high school textbooks Outlines of European History in 1914 and Ancient Times, A History of the Early World in 1916.\"}], \"id\": -43348669610522740, \"question\": \"how did the fertile crescent get its nickname\", \"is_impossible\": false}]}]}]}"
     ]
    }
   ],
   "source": [
    "N = 1\n",
    "with open(\"../data/nq/nq_dev_subset_v2.json\") as f:\n",
    "    for i in range(0, N):\n",
    "        print(f.readline(), end = '')"
   ]
  },
  {
   "cell_type": "code",
   "execution_count": 24,
   "metadata": {},
   "outputs": [],
   "source": [
    "# make sure these indices do not collide with existing ones, the indices will be wiped clean before data is inserted\n",
    "doc_index = \"evaluation_docs\"\n",
    "label_index = \"evaluation_labels\""
   ]
  },
  {
   "cell_type": "code",
   "execution_count": 25,
   "metadata": {},
   "outputs": [
    {
     "output_type": "stream",
     "name": "stderr",
     "text": [
      "12/02/2020 13:56:54 - INFO - elasticsearch -   POST http://localhost:9200/document/_delete_by_query [status:200 request:0.349s]\n"
     ]
    }
   ],
   "source": [
    "document_store.delete_all_documents(index='document')"
   ]
  },
  {
   "cell_type": "code",
   "execution_count": 26,
   "metadata": {},
   "outputs": [],
   "source": [
    "document_store = ElasticsearchDocumentStore(host=\"localhost\", username=\"\", password=\"\", index=\"document\",\n",
    "                                            create_index=False, embedding_field=\"emb\",\n",
    "                                            embedding_dim=768, excluded_meta_data=[\"emb\"])"
   ]
  },
  {
   "cell_type": "code",
   "execution_count": 27,
   "metadata": {},
   "outputs": [
    {
     "output_type": "stream",
     "name": "stderr",
     "text": [
      "12/02/2020 13:57:27 - INFO - elasticsearch -   POST http://localhost:9200/evaluation_docs/_delete_by_query [status:404 request:0.005s]\n",
      "12/02/2020 13:57:28 - INFO - elasticsearch -   POST http://localhost:9200/evaluation_labels/_delete_by_query [status:404 request:0.008s]\n",
      "12/02/2020 13:57:29 - INFO - elasticsearch -   PUT http://localhost:9200/evaluation_docs [status:200 request:0.254s]\n",
      "12/02/2020 13:57:31 - INFO - elasticsearch -   POST http://localhost:9200/_bulk?refresh=wait_for [status:200 request:1.161s]\n",
      "12/02/2020 13:57:31 - INFO - elasticsearch -   PUT http://localhost:9200/evaluation_labels [status:200 request:0.385s]\n",
      "12/02/2020 13:57:32 - INFO - elasticsearch -   POST http://localhost:9200/_bulk?refresh=wait_for [status:200 request:0.658s]\n"
     ]
    }
   ],
   "source": [
    "# Add evaluation data to Elasticsearch Document Store\n",
    "# We first delete the custom tutorial indices to not have duplicate elements\n",
    "document_store.delete_all_documents(index=doc_index)\n",
    "document_store.delete_all_documents(index=label_index)\n",
    "document_store.add_eval_data(filename=\"../data/nq/nq_dev_subset_v2.json\", doc_index=doc_index, label_index=label_index)"
   ]
  },
  {
   "cell_type": "code",
   "execution_count": 28,
   "metadata": {},
   "outputs": [],
   "source": [
    "retriever = ElasticsearchRetriever(document_store=document_store)"
   ]
  },
  {
   "cell_type": "code",
   "execution_count": 30,
   "metadata": {},
   "outputs": [],
   "source": [
    "finder = Finder(farm_reader, retriever)"
   ]
  },
  {
   "cell_type": "code",
   "execution_count": 31,
   "metadata": {},
   "outputs": [
    {
     "output_type": "stream",
     "name": "stderr",
     "text": [
      "12/02/2020 13:58:53 - INFO - elasticsearch -   POST http://localhost:9200/evaluation_labels/_search?scroll=5m&size=1000 [status:200 request:0.023s]\n",
      "12/02/2020 13:58:53 - INFO - elasticsearch -   POST http://localhost:9200/_search/scroll [status:200 request:0.005s]\n",
      "12/02/2020 13:58:53 - INFO - elasticsearch -   DELETE http://localhost:9200/_search/scroll [status:200 request:0.004s]\n",
      "12/02/2020 13:58:53 - INFO - haystack.retriever.base -   Performing eval queries...\n",
      "  0%|          | 0/54 [00:00<?, ?it/s]12/02/2020 13:58:53 - INFO - elasticsearch -   POST http://localhost:9200/evaluation_docs/_search [status:200 request:0.101s]\n",
      "  2%|▏         | 1/54 [00:00<00:05,  9.30it/s]12/02/2020 13:58:53 - INFO - elasticsearch -   POST http://localhost:9200/evaluation_docs/_search [status:200 request:0.071s]\n",
      "12/02/2020 13:58:53 - INFO - elasticsearch -   POST http://localhost:9200/evaluation_docs/_search [status:200 request:0.045s]\n",
      "  6%|▌         | 3/54 [00:00<00:04, 10.32it/s]12/02/2020 13:58:54 - INFO - elasticsearch -   POST http://localhost:9200/evaluation_docs/_search [status:200 request:0.038s]\n",
      "12/02/2020 13:58:54 - INFO - elasticsearch -   POST http://localhost:9200/evaluation_docs/_search [status:200 request:0.025s]\n",
      "12/02/2020 13:58:54 - INFO - elasticsearch -   POST http://localhost:9200/evaluation_docs/_search [status:200 request:0.029s]\n",
      " 11%|█         | 6/54 [00:00<00:03, 12.69it/s]12/02/2020 13:58:54 - INFO - elasticsearch -   POST http://localhost:9200/evaluation_docs/_search [status:200 request:0.027s]\n",
      "12/02/2020 13:58:54 - INFO - elasticsearch -   POST http://localhost:9200/evaluation_docs/_search [status:200 request:0.026s]\n",
      "12/02/2020 13:58:54 - INFO - elasticsearch -   POST http://localhost:9200/evaluation_docs/_search [status:200 request:0.028s]\n",
      "12/02/2020 13:58:54 - INFO - elasticsearch -   POST http://localhost:9200/evaluation_docs/_search [status:200 request:0.025s]\n",
      " 19%|█▊        | 10/54 [00:00<00:02, 15.51it/s]12/02/2020 13:58:54 - INFO - elasticsearch -   POST http://localhost:9200/evaluation_docs/_search [status:200 request:0.026s]\n",
      "12/02/2020 13:58:54 - INFO - elasticsearch -   POST http://localhost:9200/evaluation_docs/_search [status:200 request:0.035s]\n",
      "12/02/2020 13:58:54 - INFO - elasticsearch -   POST http://localhost:9200/evaluation_docs/_search [status:200 request:0.036s]\n",
      " 24%|██▍       | 13/54 [00:00<00:02, 17.68it/s]12/02/2020 13:58:54 - INFO - elasticsearch -   POST http://localhost:9200/evaluation_docs/_search [status:200 request:0.024s]\n",
      "12/02/2020 13:58:54 - INFO - elasticsearch -   POST http://localhost:9200/evaluation_docs/_search [status:200 request:0.023s]\n",
      "12/02/2020 13:58:54 - INFO - elasticsearch -   POST http://localhost:9200/evaluation_docs/_search [status:200 request:0.031s]\n",
      "12/02/2020 13:58:54 - INFO - elasticsearch -   POST http://localhost:9200/evaluation_docs/_search [status:200 request:0.035s]\n",
      " 31%|███▏      | 17/54 [00:00<00:01, 20.23it/s]12/02/2020 13:58:54 - INFO - elasticsearch -   POST http://localhost:9200/evaluation_docs/_search [status:200 request:0.036s]\n",
      "12/02/2020 13:58:54 - INFO - elasticsearch -   POST http://localhost:9200/evaluation_docs/_search [status:200 request:0.036s]\n",
      "12/02/2020 13:58:54 - INFO - elasticsearch -   POST http://localhost:9200/evaluation_docs/_search [status:200 request:0.030s]\n",
      " 37%|███▋      | 20/54 [00:00<00:01, 21.26it/s]12/02/2020 13:58:54 - INFO - elasticsearch -   POST http://localhost:9200/evaluation_docs/_search [status:200 request:0.035s]\n",
      "12/02/2020 13:58:54 - INFO - elasticsearch -   POST http://localhost:9200/evaluation_docs/_search [status:200 request:0.035s]\n",
      "12/02/2020 13:58:54 - INFO - elasticsearch -   POST http://localhost:9200/evaluation_docs/_search [status:200 request:0.026s]\n",
      " 43%|████▎     | 23/54 [00:00<00:01, 22.74it/s]12/02/2020 13:58:54 - INFO - elasticsearch -   POST http://localhost:9200/evaluation_docs/_search [status:200 request:0.031s]\n",
      "12/02/2020 13:58:54 - INFO - elasticsearch -   POST http://localhost:9200/evaluation_docs/_search [status:200 request:0.030s]\n",
      "12/02/2020 13:58:54 - INFO - elasticsearch -   POST http://localhost:9200/evaluation_docs/_search [status:200 request:0.026s]\n",
      "12/02/2020 13:58:54 - INFO - elasticsearch -   POST http://localhost:9200/evaluation_docs/_search [status:200 request:0.025s]\n",
      " 50%|█████     | 27/54 [00:01<00:01, 24.60it/s]12/02/2020 13:58:54 - INFO - elasticsearch -   POST http://localhost:9200/evaluation_docs/_search [status:200 request:0.024s]\n",
      "12/02/2020 13:58:54 - INFO - elasticsearch -   POST http://localhost:9200/evaluation_docs/_search [status:200 request:0.030s]\n",
      "12/02/2020 13:58:54 - INFO - elasticsearch -   POST http://localhost:9200/evaluation_docs/_search [status:200 request:0.035s]\n",
      " 56%|█████▌    | 30/54 [00:01<00:00, 25.67it/s]12/02/2020 13:58:54 - INFO - elasticsearch -   POST http://localhost:9200/evaluation_docs/_search [status:200 request:0.041s]\n",
      "12/02/2020 13:58:55 - INFO - elasticsearch -   POST http://localhost:9200/evaluation_docs/_search [status:200 request:0.029s]\n",
      "12/02/2020 13:58:55 - INFO - elasticsearch -   POST http://localhost:9200/evaluation_docs/_search [status:200 request:0.017s]\n",
      " 61%|██████    | 33/54 [00:01<00:00, 26.26it/s]12/02/2020 13:58:55 - INFO - elasticsearch -   POST http://localhost:9200/evaluation_docs/_search [status:200 request:0.024s]\n",
      "12/02/2020 13:58:55 - INFO - elasticsearch -   POST http://localhost:9200/evaluation_docs/_search [status:200 request:0.022s]\n",
      "12/02/2020 13:58:55 - INFO - elasticsearch -   POST http://localhost:9200/evaluation_docs/_search [status:200 request:0.035s]\n",
      " 67%|██████▋   | 36/54 [00:01<00:00, 27.28it/s]12/02/2020 13:58:55 - INFO - elasticsearch -   POST http://localhost:9200/evaluation_docs/_search [status:200 request:0.033s]\n",
      "12/02/2020 13:58:55 - INFO - elasticsearch -   POST http://localhost:9200/evaluation_docs/_search [status:200 request:0.025s]\n",
      "12/02/2020 13:58:55 - INFO - elasticsearch -   POST http://localhost:9200/evaluation_docs/_search [status:200 request:0.023s]\n",
      " 72%|███████▏  | 39/54 [00:01<00:00, 27.74it/s]12/02/2020 13:58:55 - INFO - elasticsearch -   POST http://localhost:9200/evaluation_docs/_search [status:200 request:0.023s]\n",
      "12/02/2020 13:58:55 - INFO - elasticsearch -   POST http://localhost:9200/evaluation_docs/_search [status:200 request:0.020s]\n",
      "12/02/2020 13:58:55 - INFO - elasticsearch -   POST http://localhost:9200/evaluation_docs/_search [status:200 request:0.017s]\n",
      "12/02/2020 13:58:55 - INFO - elasticsearch -   POST http://localhost:9200/evaluation_docs/_search [status:200 request:0.025s]\n",
      " 80%|███████▉  | 43/54 [00:01<00:00, 29.93it/s]12/02/2020 13:58:55 - INFO - elasticsearch -   POST http://localhost:9200/evaluation_docs/_search [status:200 request:0.027s]\n",
      "12/02/2020 13:58:55 - INFO - elasticsearch -   POST http://localhost:9200/evaluation_docs/_search [status:200 request:0.017s]\n",
      "12/02/2020 13:58:55 - INFO - elasticsearch -   POST http://localhost:9200/evaluation_docs/_search [status:200 request:0.020s]\n",
      "12/02/2020 13:58:55 - INFO - elasticsearch -   POST http://localhost:9200/evaluation_docs/_search [status:200 request:0.060s]\n",
      " 87%|████████▋ | 47/54 [00:01<00:00, 29.41it/s]12/02/2020 13:58:55 - INFO - elasticsearch -   POST http://localhost:9200/evaluation_docs/_search [status:200 request:0.026s]\n",
      "12/02/2020 13:58:55 - INFO - elasticsearch -   POST http://localhost:9200/evaluation_docs/_search [status:200 request:0.024s]\n",
      "12/02/2020 13:58:55 - INFO - elasticsearch -   POST http://localhost:9200/evaluation_docs/_search [status:200 request:0.025s]\n",
      "12/02/2020 13:58:55 - INFO - elasticsearch -   POST http://localhost:9200/evaluation_docs/_search [status:200 request:0.030s]\n",
      " 94%|█████████▍| 51/54 [00:01<00:00, 30.03it/s]12/02/2020 13:58:55 - INFO - elasticsearch -   POST http://localhost:9200/evaluation_docs/_search [status:200 request:0.027s]\n",
      "12/02/2020 13:58:55 - INFO - elasticsearch -   POST http://localhost:9200/evaluation_docs/_search [status:200 request:0.027s]\n",
      "12/02/2020 13:58:55 - INFO - elasticsearch -   POST http://localhost:9200/evaluation_docs/_search [status:200 request:0.023s]\n",
      "100%|██████████| 54/54 [00:01<00:00, 27.19it/s]\n",
      "12/02/2020 13:58:55 - INFO - haystack.retriever.base -   For 54 out of 54 questions (100.00%), the answer was in the top-20 candidate passages selected by the retriever.\n",
      "Retriever Recall: 1.0\n",
      "Retriever Mean Avg Precision: 0.9367283950617283\n"
     ]
    }
   ],
   "source": [
    "## Evaluate Retriever on its own\n",
    "retriever_eval_results = retriever.eval(top_k=20, label_index=label_index, doc_index=doc_index)\n",
    "## Retriever Recall is the proportion of questions for which the correct document containing the answer is\n",
    "## among the correct documents\n",
    "print(\"Retriever Recall:\", retriever_eval_results[\"recall\"])\n",
    "## Retriever Mean Avg Precision rewards retrievers that give relevant documents a higher rank\n",
    "print(\"Retriever Mean Avg Precision:\", retriever_eval_results[\"map\"])"
   ]
  },
  {
   "cell_type": "code",
   "execution_count": 35,
   "metadata": {},
   "outputs": [
    {
     "output_type": "stream",
     "name": "stderr",
     "text": [
      "12/02/2020 14:02:54 - INFO - farm.utils -   device: cpu n_gpu: 0, distributed training: False, automatic mixed precision training: None\n"
     ]
    }
   ],
   "source": [
    "from farm.utils import initialize_device_settings\n",
    "\n",
    "device, n_gpu = initialize_device_settings(use_cuda=False)"
   ]
  },
  {
   "cell_type": "code",
   "execution_count": 36,
   "metadata": {},
   "outputs": [
    {
     "output_type": "stream",
     "name": "stderr",
     "text": [
      "12/02/2020 14:02:57 - INFO - haystack.reader.farm -   Performing Evaluation using top_k_per_candidate = 3 \n",
      "and consequently, QuestionAnsweringPredictionHead.n_best = 4. \n",
      "This deviates from FARM's default where QuestionAnsweringPredictionHead.n_best = 5\n",
      "12/02/2020 14:02:57 - INFO - elasticsearch -   POST http://localhost:9200/evaluation_labels/_search?scroll=5m&size=1000 [status:200 request:0.017s]\n",
      "12/02/2020 14:02:57 - INFO - elasticsearch -   POST http://localhost:9200/_search/scroll [status:200 request:0.011s]\n",
      "12/02/2020 14:02:57 - INFO - elasticsearch -   DELETE http://localhost:9200/_search/scroll [status:200 request:0.004s]\n",
      "12/02/2020 14:02:57 - INFO - elasticsearch -   POST http://localhost:9200/evaluation_docs/_search?scroll=5m&size=1000 [status:200 request:0.027s]\n",
      "12/02/2020 14:02:57 - INFO - elasticsearch -   POST http://localhost:9200/_search/scroll [status:200 request:0.005s]\n",
      "12/02/2020 14:02:57 - INFO - elasticsearch -   DELETE http://localhost:9200/_search/scroll [status:200 request:0.002s]\n",
      "12/02/2020 14:02:57 - INFO - elasticsearch -   POST http://localhost:9200/evaluation_docs/_search [status:200 request:0.006s]\n",
      "12/02/2020 14:02:57 - INFO - elasticsearch -   POST http://localhost:9200/evaluation_docs/_search [status:200 request:0.004s]\n",
      "12/02/2020 14:02:57 - INFO - elasticsearch -   POST http://localhost:9200/evaluation_docs/_search [status:200 request:0.005s]\n",
      "12/02/2020 14:02:57 - INFO - elasticsearch -   POST http://localhost:9200/evaluation_docs/_search [status:200 request:0.011s]\n",
      "12/02/2020 14:02:57 - INFO - elasticsearch -   POST http://localhost:9200/evaluation_docs/_search [status:200 request:0.008s]\n",
      "12/02/2020 14:02:57 - INFO - elasticsearch -   POST http://localhost:9200/evaluation_docs/_search [status:200 request:0.005s]\n",
      "12/02/2020 14:02:57 - INFO - elasticsearch -   POST http://localhost:9200/evaluation_docs/_search [status:200 request:0.006s]\n",
      "12/02/2020 14:02:57 - INFO - elasticsearch -   POST http://localhost:9200/evaluation_docs/_search [status:200 request:0.005s]\n",
      "12/02/2020 14:02:57 - INFO - elasticsearch -   POST http://localhost:9200/evaluation_docs/_search [status:200 request:0.004s]\n",
      "12/02/2020 14:02:57 - INFO - elasticsearch -   POST http://localhost:9200/evaluation_docs/_search [status:200 request:0.004s]\n",
      "12/02/2020 14:02:57 - INFO - elasticsearch -   POST http://localhost:9200/evaluation_docs/_search [status:200 request:0.009s]\n",
      "12/02/2020 14:02:57 - INFO - elasticsearch -   POST http://localhost:9200/evaluation_docs/_search [status:200 request:0.006s]\n",
      "12/02/2020 14:02:57 - INFO - elasticsearch -   POST http://localhost:9200/evaluation_docs/_search [status:200 request:0.005s]\n",
      "12/02/2020 14:02:57 - INFO - elasticsearch -   POST http://localhost:9200/evaluation_docs/_search [status:200 request:0.005s]\n",
      "12/02/2020 14:02:57 - INFO - elasticsearch -   POST http://localhost:9200/evaluation_docs/_search [status:200 request:0.004s]\n",
      "12/02/2020 14:02:57 - INFO - elasticsearch -   POST http://localhost:9200/evaluation_docs/_search [status:200 request:0.009s]\n",
      "12/02/2020 14:02:57 - INFO - elasticsearch -   POST http://localhost:9200/evaluation_docs/_search [status:200 request:0.005s]\n",
      "12/02/2020 14:02:57 - INFO - elasticsearch -   POST http://localhost:9200/evaluation_docs/_search [status:200 request:0.004s]\n",
      "12/02/2020 14:02:57 - INFO - elasticsearch -   POST http://localhost:9200/evaluation_docs/_search [status:200 request:0.005s]\n",
      "12/02/2020 14:02:57 - INFO - elasticsearch -   POST http://localhost:9200/evaluation_docs/_search [status:200 request:0.010s]\n",
      "12/02/2020 14:02:57 - INFO - elasticsearch -   POST http://localhost:9200/evaluation_docs/_search [status:200 request:0.004s]\n",
      "12/02/2020 14:02:57 - INFO - elasticsearch -   POST http://localhost:9200/evaluation_docs/_search [status:200 request:0.004s]\n",
      "12/02/2020 14:02:57 - INFO - elasticsearch -   POST http://localhost:9200/evaluation_docs/_search [status:200 request:0.006s]\n",
      "12/02/2020 14:02:57 - INFO - elasticsearch -   POST http://localhost:9200/evaluation_docs/_search [status:200 request:0.007s]\n",
      "12/02/2020 14:02:57 - INFO - elasticsearch -   POST http://localhost:9200/evaluation_docs/_search [status:200 request:0.007s]\n",
      "12/02/2020 14:02:57 - INFO - elasticsearch -   POST http://localhost:9200/evaluation_docs/_search [status:200 request:0.004s]\n",
      "12/02/2020 14:02:57 - INFO - elasticsearch -   POST http://localhost:9200/evaluation_docs/_search [status:200 request:0.004s]\n",
      "12/02/2020 14:02:57 - INFO - elasticsearch -   POST http://localhost:9200/evaluation_docs/_search [status:200 request:0.004s]\n",
      "12/02/2020 14:02:57 - INFO - elasticsearch -   POST http://localhost:9200/evaluation_docs/_search [status:200 request:0.007s]\n",
      "12/02/2020 14:02:57 - INFO - elasticsearch -   POST http://localhost:9200/evaluation_docs/_search [status:200 request:0.005s]\n",
      "12/02/2020 14:02:57 - INFO - elasticsearch -   POST http://localhost:9200/evaluation_docs/_search [status:200 request:0.004s]\n",
      "12/02/2020 14:02:58 - INFO - elasticsearch -   POST http://localhost:9200/evaluation_docs/_search [status:200 request:0.006s]\n",
      "12/02/2020 14:02:58 - INFO - elasticsearch -   POST http://localhost:9200/evaluation_docs/_search [status:200 request:0.004s]\n",
      "12/02/2020 14:02:58 - INFO - elasticsearch -   POST http://localhost:9200/evaluation_docs/_search [status:200 request:0.010s]\n",
      "12/02/2020 14:02:58 - INFO - elasticsearch -   POST http://localhost:9200/evaluation_docs/_search [status:200 request:0.005s]\n",
      "12/02/2020 14:02:58 - INFO - elasticsearch -   POST http://localhost:9200/evaluation_docs/_search [status:200 request:0.004s]\n",
      "12/02/2020 14:02:58 - INFO - elasticsearch -   POST http://localhost:9200/evaluation_docs/_search [status:200 request:0.005s]\n",
      "12/02/2020 14:02:58 - INFO - elasticsearch -   POST http://localhost:9200/evaluation_docs/_search [status:200 request:0.006s]\n",
      "12/02/2020 14:02:58 - INFO - elasticsearch -   POST http://localhost:9200/evaluation_docs/_search [status:200 request:0.004s]\n",
      "12/02/2020 14:02:58 - INFO - elasticsearch -   POST http://localhost:9200/evaluation_docs/_search [status:200 request:0.004s]\n",
      "12/02/2020 14:02:58 - INFO - elasticsearch -   POST http://localhost:9200/evaluation_docs/_search [status:200 request:0.004s]\n",
      "12/02/2020 14:02:58 - INFO - elasticsearch -   POST http://localhost:9200/evaluation_docs/_search [status:200 request:0.006s]\n",
      "12/02/2020 14:02:58 - INFO - elasticsearch -   POST http://localhost:9200/evaluation_docs/_search [status:200 request:0.008s]\n",
      "12/02/2020 14:02:58 - INFO - elasticsearch -   POST http://localhost:9200/evaluation_docs/_search [status:200 request:0.004s]\n",
      "12/02/2020 14:02:58 - INFO - elasticsearch -   POST http://localhost:9200/evaluation_docs/_search [status:200 request:0.004s]\n",
      "12/02/2020 14:02:58 - INFO - elasticsearch -   POST http://localhost:9200/evaluation_docs/_search [status:200 request:0.009s]\n",
      "12/02/2020 14:02:58 - INFO - elasticsearch -   POST http://localhost:9200/evaluation_docs/_search [status:200 request:0.007s]\n",
      "12/02/2020 14:02:58 - INFO - elasticsearch -   POST http://localhost:9200/evaluation_docs/_search [status:200 request:0.004s]\n",
      "12/02/2020 14:02:58 - INFO - elasticsearch -   POST http://localhost:9200/evaluation_docs/_search [status:200 request:0.007s]\n",
      "12/02/2020 14:02:58 - INFO - elasticsearch -   POST http://localhost:9200/evaluation_docs/_search [status:200 request:0.005s]\n",
      "Evaluating: 100%|██████████| 73/73 [31:10<00:00, 25.63s/it]Reader Top-N-Accuracy: 0.6111111111111112\n",
      "Reader Exact Match: 0.2777777777777778\n",
      "Reader F1-Score: 0.30750487329434695\n",
      "\n"
     ]
    }
   ],
   "source": [
    "# Evaluate Reader on its own\n",
    "reader_eval_results = farm_reader.eval(document_store=document_store, device=device, label_index=label_index, doc_index=doc_index)\n",
    "# Evaluation of Reader can also be done directly on a SQuAD-formatted file without passing the data to Elasticsearch\n",
    "#reader_eval_results = reader.eval_on_file(\"../data/nq\", \"nq_dev_subset_v2.json\", device=device)\n",
    "\n",
    "## Reader Top-N-Accuracy is the proportion of predicted answers that match with their corresponding correct answer\n",
    "print(\"Reader Top-N-Accuracy:\", reader_eval_results[\"top_n_accuracy\"])\n",
    "## Reader Exact Match is the proportion of questions where the predicted answer is exactly the same as the correct answer\n",
    "print(\"Reader Exact Match:\", reader_eval_results[\"EM\"])\n",
    "## Reader F1-Score is the average overlap between the predicted answers and the correct answers\n",
    "print(\"Reader F1-Score:\", reader_eval_results[\"f1\"])"
   ]
  },
  {
   "cell_type": "code",
   "execution_count": 37,
   "metadata": {},
   "outputs": [
    {
     "output_type": "stream",
     "name": "stderr",
     "text": [
      "12/02/2020 14:38:33 - INFO - elasticsearch -   POST http://localhost:9200/evaluation_labels/_search?scroll=5m&size=1000 [status:200 request:0.023s]\n",
      "12/02/2020 14:38:33 - INFO - elasticsearch -   POST http://localhost:9200/_search/scroll [status:200 request:0.003s]\n",
      "12/02/2020 14:38:33 - INFO - elasticsearch -   DELETE http://localhost:9200/_search/scroll [status:200 request:0.002s]\n",
      "12/02/2020 14:38:33 - INFO - elasticsearch -   POST http://localhost:9200/evaluation_docs/_search [status:200 request:0.004s]\n",
      "12/02/2020 14:38:33 - INFO - elasticsearch -   POST http://localhost:9200/evaluation_docs/_search [status:200 request:0.005s]\n",
      "12/02/2020 14:38:33 - INFO - elasticsearch -   POST http://localhost:9200/evaluation_docs/_search [status:200 request:0.008s]\n",
      "12/02/2020 14:38:33 - INFO - elasticsearch -   POST http://localhost:9200/evaluation_docs/_search [status:200 request:0.005s]\n",
      "12/02/2020 14:38:33 - INFO - elasticsearch -   POST http://localhost:9200/evaluation_docs/_search [status:200 request:0.006s]\n",
      "12/02/2020 14:38:33 - INFO - elasticsearch -   POST http://localhost:9200/evaluation_docs/_search [status:200 request:0.018s]\n",
      "12/02/2020 14:38:33 - INFO - elasticsearch -   POST http://localhost:9200/evaluation_docs/_search [status:200 request:0.006s]\n",
      "12/02/2020 14:38:33 - INFO - elasticsearch -   POST http://localhost:9200/evaluation_docs/_search [status:200 request:0.008s]\n",
      "12/02/2020 14:38:33 - INFO - elasticsearch -   POST http://localhost:9200/evaluation_docs/_search [status:200 request:0.015s]\n",
      "12/02/2020 14:38:33 - INFO - elasticsearch -   POST http://localhost:9200/evaluation_docs/_search [status:200 request:0.007s]\n",
      "12/02/2020 14:38:33 - INFO - elasticsearch -   POST http://localhost:9200/evaluation_docs/_search [status:200 request:0.007s]\n",
      "12/02/2020 14:38:33 - INFO - elasticsearch -   POST http://localhost:9200/evaluation_docs/_search [status:200 request:0.009s]\n",
      "12/02/2020 14:38:33 - INFO - elasticsearch -   POST http://localhost:9200/evaluation_docs/_search [status:200 request:0.006s]\n",
      "12/02/2020 14:38:33 - INFO - elasticsearch -   POST http://localhost:9200/evaluation_docs/_search [status:200 request:0.006s]\n",
      "12/02/2020 14:38:33 - INFO - elasticsearch -   POST http://localhost:9200/evaluation_docs/_search [status:200 request:0.009s]\n",
      "12/02/2020 14:38:33 - INFO - elasticsearch -   POST http://localhost:9200/evaluation_docs/_search [status:200 request:0.010s]\n",
      "12/02/2020 14:38:33 - INFO - elasticsearch -   POST http://localhost:9200/evaluation_docs/_search [status:200 request:0.009s]\n",
      "12/02/2020 14:38:33 - INFO - elasticsearch -   POST http://localhost:9200/evaluation_docs/_search [status:200 request:0.011s]\n",
      "12/02/2020 14:38:33 - INFO - elasticsearch -   POST http://localhost:9200/evaluation_docs/_search [status:200 request:0.008s]\n",
      "12/02/2020 14:38:33 - INFO - elasticsearch -   POST http://localhost:9200/evaluation_docs/_search [status:200 request:0.006s]\n",
      "12/02/2020 14:38:33 - INFO - elasticsearch -   POST http://localhost:9200/evaluation_docs/_search [status:200 request:0.007s]\n",
      "12/02/2020 14:38:33 - INFO - elasticsearch -   POST http://localhost:9200/evaluation_docs/_search [status:200 request:0.005s]\n",
      "12/02/2020 14:38:33 - INFO - elasticsearch -   POST http://localhost:9200/evaluation_docs/_search [status:200 request:0.005s]\n",
      "12/02/2020 14:38:33 - INFO - elasticsearch -   POST http://localhost:9200/evaluation_docs/_search [status:200 request:0.012s]\n",
      "12/02/2020 14:38:33 - INFO - elasticsearch -   POST http://localhost:9200/evaluation_docs/_search [status:200 request:0.009s]\n",
      "12/02/2020 14:38:33 - INFO - elasticsearch -   POST http://localhost:9200/evaluation_docs/_search [status:200 request:0.009s]\n",
      "12/02/2020 14:38:33 - INFO - elasticsearch -   POST http://localhost:9200/evaluation_docs/_search [status:200 request:0.012s]\n",
      "12/02/2020 14:38:33 - INFO - elasticsearch -   POST http://localhost:9200/evaluation_docs/_search [status:200 request:0.012s]\n",
      "12/02/2020 14:38:33 - INFO - elasticsearch -   POST http://localhost:9200/evaluation_docs/_search [status:200 request:0.011s]\n",
      "12/02/2020 14:38:33 - INFO - elasticsearch -   POST http://localhost:9200/evaluation_docs/_search [status:200 request:0.013s]\n",
      "12/02/2020 14:38:33 - INFO - elasticsearch -   POST http://localhost:9200/evaluation_docs/_search [status:200 request:0.011s]\n",
      "12/02/2020 14:38:33 - INFO - elasticsearch -   POST http://localhost:9200/evaluation_docs/_search [status:200 request:0.010s]\n",
      "12/02/2020 14:38:33 - INFO - elasticsearch -   POST http://localhost:9200/evaluation_docs/_search [status:200 request:0.007s]\n",
      "12/02/2020 14:38:33 - INFO - elasticsearch -   POST http://localhost:9200/evaluation_docs/_search [status:200 request:0.007s]\n",
      "12/02/2020 14:38:33 - INFO - elasticsearch -   POST http://localhost:9200/evaluation_docs/_search [status:200 request:0.007s]\n",
      "12/02/2020 14:38:33 - INFO - elasticsearch -   POST http://localhost:9200/evaluation_docs/_search [status:200 request:0.007s]\n",
      "12/02/2020 14:38:33 - INFO - elasticsearch -   POST http://localhost:9200/evaluation_docs/_search [status:200 request:0.005s]\n",
      "12/02/2020 14:38:33 - INFO - elasticsearch -   POST http://localhost:9200/evaluation_docs/_search [status:200 request:0.004s]\n",
      "12/02/2020 14:38:33 - INFO - elasticsearch -   POST http://localhost:9200/evaluation_docs/_search [status:200 request:0.006s]\n",
      "12/02/2020 14:38:33 - INFO - elasticsearch -   POST http://localhost:9200/evaluation_docs/_search [status:200 request:0.006s]\n",
      "12/02/2020 14:38:33 - INFO - elasticsearch -   POST http://localhost:9200/evaluation_docs/_search [status:200 request:0.005s]\n",
      "12/02/2020 14:38:33 - INFO - elasticsearch -   POST http://localhost:9200/evaluation_docs/_search [status:200 request:0.011s]\n",
      "12/02/2020 14:38:33 - INFO - elasticsearch -   POST http://localhost:9200/evaluation_docs/_search [status:200 request:0.013s]\n",
      "12/02/2020 14:38:33 - INFO - elasticsearch -   POST http://localhost:9200/evaluation_docs/_search [status:200 request:0.008s]\n",
      "12/02/2020 14:38:33 - INFO - elasticsearch -   POST http://localhost:9200/evaluation_docs/_search [status:200 request:0.005s]\n",
      "12/02/2020 14:38:33 - INFO - elasticsearch -   POST http://localhost:9200/evaluation_docs/_search [status:200 request:0.004s]\n",
      "12/02/2020 14:38:33 - INFO - elasticsearch -   POST http://localhost:9200/evaluation_docs/_search [status:200 request:0.008s]\n",
      "12/02/2020 14:38:33 - INFO - elasticsearch -   POST http://localhost:9200/evaluation_docs/_search [status:200 request:0.015s]\n",
      "12/02/2020 14:38:33 - INFO - elasticsearch -   POST http://localhost:9200/evaluation_docs/_search [status:200 request:0.006s]\n",
      "12/02/2020 14:38:33 - INFO - elasticsearch -   POST http://localhost:9200/evaluation_docs/_search [status:200 request:0.008s]\n",
      "12/02/2020 14:38:33 - INFO - elasticsearch -   POST http://localhost:9200/evaluation_docs/_search [status:200 request:0.008s]\n",
      "12/02/2020 14:38:33 - INFO - elasticsearch -   POST http://localhost:9200/evaluation_docs/_search [status:200 request:0.010s]\n",
      "12/02/2020 14:38:33 - INFO - elasticsearch -   POST http://localhost:9200/evaluation_docs/_search [status:200 request:0.012s]\n",
      "12/02/2020 14:38:33 - INFO - elasticsearch -   POST http://localhost:9200/evaluation_docs/_search [status:200 request:0.006s]\n",
      "Inferencing Samples: 100%|██████████| 1/1 [00:08<00:00,  8.04s/ Batches]\n",
      "Inferencing Samples: 100%|██████████| 1/1 [00:06<00:00,  6.89s/ Batches]\n",
      "Inferencing Samples: 100%|██████████| 2/2 [00:34<00:00, 17.14s/ Batches]\n",
      "Inferencing Samples: 100%|██████████| 1/1 [00:03<00:00,  3.19s/ Batches]\n",
      "Inferencing Samples: 100%|██████████| 1/1 [00:22<00:00, 22.87s/ Batches]\n",
      "Inferencing Samples: 100%|██████████| 1/1 [00:21<00:00, 21.82s/ Batches]\n",
      "Inferencing Samples: 100%|██████████| 2/2 [00:30<00:00, 15.00s/ Batches]\n",
      "Inferencing Samples: 100%|██████████| 1/1 [00:26<00:00, 26.77s/ Batches]\n",
      "Inferencing Samples: 100%|██████████| 3/3 [00:50<00:00, 16.85s/ Batches]\n",
      "Inferencing Samples: 100%|██████████| 1/1 [00:16<00:00, 16.26s/ Batches]\n",
      "Inferencing Samples: 100%|██████████| 1/1 [00:14<00:00, 14.62s/ Batches]\n",
      "Inferencing Samples: 100%|██████████| 2/2 [00:45<00:00, 22.81s/ Batches]\n",
      "Inferencing Samples: 100%|██████████| 2/2 [00:37<00:00, 18.99s/ Batches]\n",
      "Inferencing Samples: 100%|██████████| 2/2 [00:31<00:00, 15.58s/ Batches]\n",
      "Inferencing Samples: 100%|██████████| 1/1 [00:23<00:00, 23.12s/ Batches]\n",
      "Inferencing Samples: 100%|██████████| 2/2 [00:47<00:00, 23.54s/ Batches]\n",
      "Inferencing Samples: 100%|██████████| 2/2 [00:29<00:00, 14.82s/ Batches]\n",
      "Inferencing Samples: 100%|██████████| 2/2 [00:30<00:00, 15.39s/ Batches]\n",
      "Inferencing Samples: 100%|██████████| 1/1 [00:18<00:00, 18.71s/ Batches]\n",
      "Inferencing Samples: 100%|██████████| 5/5 [01:58<00:00, 23.67s/ Batches]\n",
      "Inferencing Samples: 100%|██████████| 1/1 [00:17<00:00, 17.22s/ Batches]\n",
      "Inferencing Samples: 100%|██████████| 1/1 [00:38<00:00, 38.69s/ Batches]\n",
      "Inferencing Samples: 100%|██████████| 2/2 [00:46<00:00, 23.01s/ Batches]\n",
      "Inferencing Samples: 100%|██████████| 4/4 [02:45<00:00, 41.30s/ Batches]\n",
      "Inferencing Samples: 100%|██████████| 1/1 [00:26<00:00, 26.95s/ Batches]\n",
      "Inferencing Samples: 100%|██████████| 1/1 [00:40<00:00, 40.28s/ Batches]\n",
      "Inferencing Samples: 100%|██████████| 1/1 [00:35<00:00, 35.82s/ Batches]\n",
      "Inferencing Samples: 100%|██████████| 1/1 [00:24<00:00, 24.52s/ Batches]\n",
      "Inferencing Samples: 100%|██████████| 1/1 [00:12<00:00, 12.95s/ Batches]\n",
      "Inferencing Samples: 100%|██████████| 1/1 [00:14<00:00, 14.88s/ Batches]\n",
      "Inferencing Samples: 100%|██████████| 1/1 [00:31<00:00, 31.84s/ Batches]\n",
      "Inferencing Samples: 100%|██████████| 9/9 [05:09<00:00, 34.35s/ Batches]\n",
      "Inferencing Samples: 100%|██████████| 1/1 [00:06<00:00,  6.82s/ Batches]\n",
      "Inferencing Samples: 100%|██████████| 2/2 [01:09<00:00, 34.76s/ Batches]\n",
      "Inferencing Samples: 100%|██████████| 1/1 [00:12<00:00, 12.89s/ Batches]\n",
      "Inferencing Samples: 100%|██████████| 1/1 [00:34<00:00, 34.08s/ Batches]\n",
      "Inferencing Samples: 100%|██████████| 1/1 [00:05<00:00,  5.57s/ Batches]\n",
      "Inferencing Samples: 100%|██████████| 1/1 [00:16<00:00, 16.77s/ Batches]\n",
      "Inferencing Samples: 100%|██████████| 2/2 [00:46<00:00, 23.04s/ Batches]\n",
      "Inferencing Samples: 100%|██████████| 1/1 [00:38<00:00, 38.55s/ Batches]\n",
      "Inferencing Samples: 100%|██████████| 1/1 [00:12<00:00, 12.47s/ Batches]\n",
      "Inferencing Samples: 100%|██████████| 1/1 [00:08<00:00,  8.67s/ Batches]\n",
      "Inferencing Samples: 100%|██████████| 3/3 [01:39<00:00, 33.12s/ Batches]\n",
      "Inferencing Samples: 100%|██████████| 1/1 [00:01<00:00,  1.83s/ Batches]\n",
      "Inferencing Samples: 100%|██████████| 2/2 [01:12<00:00, 36.34s/ Batches]\n",
      "Inferencing Samples: 100%|██████████| 1/1 [00:06<00:00,  6.37s/ Batches]\n",
      "Inferencing Samples: 100%|██████████| 1/1 [00:17<00:00, 17.98s/ Batches]\n",
      "Inferencing Samples: 100%|██████████| 2/2 [00:26<00:00, 13.47s/ Batches]\n",
      "Inferencing Samples: 100%|██████████| 2/2 [00:28<00:00, 14.15s/ Batches]\n",
      "12/02/2020 15:10:36 - INFO - haystack.finder -   34.0 out of 54 questions were correctly answered 62.96%).\n",
      "12/02/2020 15:10:36 - INFO - haystack.finder -   5.0 questions could not be answered due to the retriever.\n",
      "12/02/2020 15:10:36 - INFO - haystack.finder -   15.0 questions could not be answered due to the reader.\n",
      "\n",
      "___Retriever Metrics in Finder___\n",
      "Retriever Recall            : 0.907\n",
      "Retriever Mean Avg Precision: 0.907\n",
      "Retriever Mean Reciprocal Rank: 0.907\n",
      "\n",
      "___Reader Metrics in Finder___\n",
      "Top-k accuracy\n",
      "Reader Top-1 accuracy             : 0.327\n",
      "Reader Top-1 accuracy (has answer): 0.115\n",
      "Reader Top-k accuracy             : 0.694\n",
      "Reader Top-k accuracy (has answer): 0.423\n",
      "Exact Match\n",
      "Reader Top-1 EM                   : 0.265\n",
      "Reader Top-1 EM (has answer)      : 0.000\n",
      "Reader Top-k EM                   : 0.571\n",
      "Reader Top-k EM (has answer)      : 0.192\n",
      "F1 score\n",
      "Reader Top-1 F1                   : 0.295\n",
      "Reader Top-1 F1 (has answer)      : 0.057\n",
      "Reader Top-k F1                   : 0.646\n",
      "Reader Top-k F1 (has answer)      : 0.332\n",
      "No Answer\n",
      "Reader Top-1 no-answer accuracy   : 0.565\n",
      "Reader Top-k no-answer accuracy   : 1.000\n",
      "\n",
      "___Time Measurements___\n",
      "Total retrieve time           : 0.592\n",
      "Avg retrieve time per question: 0.011\n",
      "Total reader timer            : 1922.705\n",
      "Avg read time per question    : 39.239\n",
      "Total Finder time             : 1923.338\n"
     ]
    }
   ],
   "source": [
    "# EVALUATE Finder\n",
    "\n",
    "finder_eval_results = finder.eval(top_k_retriever=1, top_k_reader=10, label_index=label_index, doc_index=doc_index)\n",
    "finder.print_eval_results(finder_eval_results)"
   ]
  },
  {
   "cell_type": "code",
   "execution_count": null,
   "metadata": {},
   "outputs": [],
   "source": []
  }
 ]
}