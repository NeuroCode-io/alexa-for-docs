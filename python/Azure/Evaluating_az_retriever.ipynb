{
 "metadata": {
  "language_info": {
   "codemirror_mode": {
    "name": "ipython",
    "version": 3
   },
   "file_extension": ".py",
   "mimetype": "text/x-python",
   "name": "python",
   "nbconvert_exporter": "python",
   "pygments_lexer": "ipython3",
   "version": "3.8.1-final"
  },
  "orig_nbformat": 2,
  "kernelspec": {
   "name": "python3",
   "display_name": "Python 3"
  }
 },
 "nbformat": 4,
 "nbformat_minor": 2,
 "cells": [
  {
   "cell_type": "code",
   "execution_count": 1,
   "metadata": {},
   "outputs": [
    {
     "output_type": "stream",
     "name": "stderr",
     "text": [
      "12/09/2020 20:39:54 - INFO - faiss -   Loading faiss with AVX2 support.\n",
      "12/09/2020 20:39:54 - INFO - faiss -   Loading faiss.\n"
     ]
    }
   ],
   "source": [
    "from haystack.preprocessor.utils import eval_data_from_file\n",
    "filename = \"../data/nq/nq_dev_subset_v2.json\"\n",
    "docs, labels = eval_data_from_file(filename=filename) # return: (List of Documents, List of Labels)"
   ]
  },
  {
   "cell_type": "code",
   "execution_count": 2,
   "metadata": {},
   "outputs": [
    {
     "output_type": "execute_result",
     "data": {
      "text/plain": [
       "(list, 50, haystack.schema.Document)"
      ]
     },
     "metadata": {},
     "execution_count": 2
    }
   ],
   "source": [
    "type(docs), len(docs), type(docs[5])"
   ]
  },
  {
   "cell_type": "code",
   "execution_count": 11,
   "metadata": {},
   "outputs": [],
   "source": [
    "dicts=[]\n",
    "for i in range(len(docs)):\n",
    "    entry=docs[i].to_dict()\n",
    "    dicts.append({\"Id\": entry[\"id\"], \"text\": entry[\"text\"]})"
   ]
  },
  {
   "cell_type": "code",
   "execution_count": 14,
   "metadata": {},
   "outputs": [],
   "source": [
    "dicts_labels=[]\n",
    "for i in range(len(labels)):\n",
    "    entry=labels[i].to_dict()\n",
    "    dicts_labels.append({\"Id\": entry[\"document_id\"], \"question\": entry[\"question\"]})"
   ]
  },
  {
   "cell_type": "code",
   "execution_count": 15,
   "metadata": {},
   "outputs": [],
   "source": [
    "from utils import label_to_frame\n",
    "labels_frame=label_to_frame(dicts_labels=dicts_labels)"
   ]
  },
  {
   "cell_type": "code",
   "execution_count": 16,
   "metadata": {},
   "outputs": [
    {
     "output_type": "execute_result",
     "data": {
      "text/plain": [
       "                                      Id  \\\n",
       "0   0e231464-f327-4ec8-b172-343b943f8db4   \n",
       "4   f9bac64d-957a-4f1a-9278-a65797895135   \n",
       "8   de988281-781c-4c09-b50b-34cbefa64741   \n",
       "9   28c6f706-232f-4cc9-a33e-73ab61d74d20   \n",
       "10  fcc7a732-c1de-4d35-9fa1-0c640e936b80   \n",
       "13  fcc7a732-c1de-4d35-9fa1-0c640e936b80   \n",
       "16  fc9ffd90-afb8-4911-9a73-5e31e4e9f0ba   \n",
       "17  df0b7caf-8f29-42f0-b970-87ce4d5fc11d   \n",
       "18  d37f31ee-3775-45fd-ba86-a15a7cde92a3   \n",
       "19  e9a7d6bb-4f67-4050-940b-b276de7f9fdd   \n",
       "\n",
       "                                                                   question  \n",
       "0                                        who is written in the book of life  \n",
       "4                           who was the girl in the video brenda got a baby  \n",
       "8   elaboration likelihood model of persuasion central vs. peripheral route  \n",
       "9                          summary of famous five five go to smuggler's top  \n",
       "10  what was the actual year that the movie regarding the titans took place  \n",
       "13                            where did remember the titans camp take place  \n",
       "16                        a man and a woman (un homme et une femme) (vocal)  \n",
       "17                               what was the final episode of quantum leap  \n",
       "18                                where does junior want to go to find hope  \n",
       "19                                what is the form of mozart symphony no 40  "
      ],
      "text/html": "<div>\n<style scoped>\n    .dataframe tbody tr th:only-of-type {\n        vertical-align: middle;\n    }\n\n    .dataframe tbody tr th {\n        vertical-align: top;\n    }\n\n    .dataframe thead th {\n        text-align: right;\n    }\n</style>\n<table border=\"1\" class=\"dataframe\">\n  <thead>\n    <tr style=\"text-align: right;\">\n      <th></th>\n      <th>Id</th>\n      <th>question</th>\n    </tr>\n  </thead>\n  <tbody>\n    <tr>\n      <th>0</th>\n      <td>0e231464-f327-4ec8-b172-343b943f8db4</td>\n      <td>who is written in the book of life</td>\n    </tr>\n    <tr>\n      <th>4</th>\n      <td>f9bac64d-957a-4f1a-9278-a65797895135</td>\n      <td>who was the girl in the video brenda got a baby</td>\n    </tr>\n    <tr>\n      <th>8</th>\n      <td>de988281-781c-4c09-b50b-34cbefa64741</td>\n      <td>elaboration likelihood model of persuasion central vs. peripheral route</td>\n    </tr>\n    <tr>\n      <th>9</th>\n      <td>28c6f706-232f-4cc9-a33e-73ab61d74d20</td>\n      <td>summary of famous five five go to smuggler's top</td>\n    </tr>\n    <tr>\n      <th>10</th>\n      <td>fcc7a732-c1de-4d35-9fa1-0c640e936b80</td>\n      <td>what was the actual year that the movie regarding the titans took place</td>\n    </tr>\n    <tr>\n      <th>13</th>\n      <td>fcc7a732-c1de-4d35-9fa1-0c640e936b80</td>\n      <td>where did remember the titans camp take place</td>\n    </tr>\n    <tr>\n      <th>16</th>\n      <td>fc9ffd90-afb8-4911-9a73-5e31e4e9f0ba</td>\n      <td>a man and a woman (un homme et une femme) (vocal)</td>\n    </tr>\n    <tr>\n      <th>17</th>\n      <td>df0b7caf-8f29-42f0-b970-87ce4d5fc11d</td>\n      <td>what was the final episode of quantum leap</td>\n    </tr>\n    <tr>\n      <th>18</th>\n      <td>d37f31ee-3775-45fd-ba86-a15a7cde92a3</td>\n      <td>where does junior want to go to find hope</td>\n    </tr>\n    <tr>\n      <th>19</th>\n      <td>e9a7d6bb-4f67-4050-940b-b276de7f9fdd</td>\n      <td>what is the form of mozart symphony no 40</td>\n    </tr>\n  </tbody>\n</table>\n</div>"
     },
     "metadata": {},
     "execution_count": 16
    }
   ],
   "source": [
    "labels_frame.head(10)"
   ]
  },
  {
   "cell_type": "code",
   "execution_count": 17,
   "metadata": {},
   "outputs": [
    {
     "output_type": "execute_result",
     "data": {
      "text/plain": [
       "(54, 2)"
      ]
     },
     "metadata": {},
     "execution_count": 17
    }
   ],
   "source": [
    "labels_frame.shape"
   ]
  },
  {
   "cell_type": "code",
   "execution_count": 18,
   "metadata": {},
   "outputs": [],
   "source": [
    "from utils import create_idx, insert_docs, find_text, delete_index"
   ]
  },
  {
   "cell_type": "code",
   "execution_count": 19,
   "metadata": {},
   "outputs": [
    {
     "output_type": "stream",
     "name": "stderr",
     "text": [
      "12/09/2020 20:49:11 - INFO - azure.core.pipeline.policies.http_logging_policy -   Request URL: 'https://alexa-for-docs.search.windows.net/indexes?api-version=REDACTED'\n",
      "12/09/2020 20:49:11 - INFO - azure.core.pipeline.policies.http_logging_policy -   Request method: 'POST'\n",
      "12/09/2020 20:49:11 - INFO - azure.core.pipeline.policies.http_logging_policy -   Request headers:\n",
      "12/09/2020 20:49:11 - INFO - azure.core.pipeline.policies.http_logging_policy -       'Content-Type': 'application/json'\n",
      "12/09/2020 20:49:11 - INFO - azure.core.pipeline.policies.http_logging_policy -       'Accept': 'application/json;odata.metadata=minimal'\n",
      "12/09/2020 20:49:11 - INFO - azure.core.pipeline.policies.http_logging_policy -       'Content-Length': '547'\n",
      "12/09/2020 20:49:11 - INFO - azure.core.pipeline.policies.http_logging_policy -       'x-ms-client-request-id': '9b85f81c-3a57-11eb-9706-74e5f9d04c29'\n",
      "12/09/2020 20:49:11 - INFO - azure.core.pipeline.policies.http_logging_policy -       'api-key': 'REDACTED'\n",
      "12/09/2020 20:49:11 - INFO - azure.core.pipeline.policies.http_logging_policy -       'User-Agent': 'azsdk-python-search-documents/11.0.0 Python/3.8.1 (Linux-5.4.0-54-generic-x86_64-with-glibc2.27)'\n",
      "12/09/2020 20:49:11 - INFO - azure.core.pipeline.policies.http_logging_policy -   A body is sent with the request\n",
      "12/09/2020 20:49:15 - INFO - azure.core.pipeline.policies.http_logging_policy -   Response status: 201\n",
      "12/09/2020 20:49:15 - INFO - azure.core.pipeline.policies.http_logging_policy -   Response headers:\n",
      "12/09/2020 20:49:15 - INFO - azure.core.pipeline.policies.http_logging_policy -       'Cache-Control': 'no-cache'\n",
      "12/09/2020 20:49:15 - INFO - azure.core.pipeline.policies.http_logging_policy -       'Pragma': 'no-cache'\n",
      "12/09/2020 20:49:15 - INFO - azure.core.pipeline.policies.http_logging_policy -       'Content-Type': 'application/json; odata.metadata=minimal'\n",
      "12/09/2020 20:49:15 - INFO - azure.core.pipeline.policies.http_logging_policy -       'Expires': '-1'\n",
      "12/09/2020 20:49:15 - INFO - azure.core.pipeline.policies.http_logging_policy -       'ETag': 'W/\"0x8D89C7B81F17748\"'\n",
      "12/09/2020 20:49:15 - INFO - azure.core.pipeline.policies.http_logging_policy -       'Location': 'REDACTED'\n",
      "12/09/2020 20:49:15 - INFO - azure.core.pipeline.policies.http_logging_policy -       'request-id': '9b85f81c-3a57-11eb-9706-74e5f9d04c29'\n",
      "12/09/2020 20:49:15 - INFO - azure.core.pipeline.policies.http_logging_policy -       'elapsed-time': 'REDACTED'\n",
      "12/09/2020 20:49:15 - INFO - azure.core.pipeline.policies.http_logging_policy -       'OData-Version': 'REDACTED'\n",
      "12/09/2020 20:49:15 - INFO - azure.core.pipeline.policies.http_logging_policy -       'Preference-Applied': 'REDACTED'\n",
      "12/09/2020 20:49:15 - INFO - azure.core.pipeline.policies.http_logging_policy -       'Strict-Transport-Security': 'REDACTED'\n",
      "12/09/2020 20:49:15 - INFO - azure.core.pipeline.policies.http_logging_policy -       'Date': 'Wed, 09 Dec 2020 19:49:14 GMT'\n",
      "12/09/2020 20:49:15 - INFO - azure.core.pipeline.policies.http_logging_policy -       'Content-Length': '890'\n",
      "12/09/2020 20:49:15 - WARNING - msrest.serialization -   hidden is not a known attribute of class <class 'azure.search.documents.indexes._internal._generated.models._models_py3.SearchField'> and will be ignored\n",
      "12/09/2020 20:49:15 - WARNING - msrest.serialization -   analyzer_name is not a known attribute of class <class 'azure.search.documents.indexes._internal._generated.models._models_py3.SearchField'> and will be ignored\n",
      "12/09/2020 20:49:15 - WARNING - msrest.serialization -   search_analyzer_name is not a known attribute of class <class 'azure.search.documents.indexes._internal._generated.models._models_py3.SearchField'> and will be ignored\n",
      "12/09/2020 20:49:15 - WARNING - msrest.serialization -   index_analyzer_name is not a known attribute of class <class 'azure.search.documents.indexes._internal._generated.models._models_py3.SearchField'> and will be ignored\n",
      "12/09/2020 20:49:15 - WARNING - msrest.serialization -   synonym_map_names is not a known attribute of class <class 'azure.search.documents.indexes._internal._generated.models._models_py3.SearchField'> and will be ignored\n",
      "12/09/2020 20:49:15 - WARNING - msrest.serialization -   hidden is not a known attribute of class <class 'azure.search.documents.indexes._internal._generated.models._models_py3.SearchField'> and will be ignored\n",
      "12/09/2020 20:49:15 - WARNING - msrest.serialization -   analyzer_name is not a known attribute of class <class 'azure.search.documents.indexes._internal._generated.models._models_py3.SearchField'> and will be ignored\n",
      "12/09/2020 20:49:15 - WARNING - msrest.serialization -   search_analyzer_name is not a known attribute of class <class 'azure.search.documents.indexes._internal._generated.models._models_py3.SearchField'> and will be ignored\n",
      "12/09/2020 20:49:15 - WARNING - msrest.serialization -   index_analyzer_name is not a known attribute of class <class 'azure.search.documents.indexes._internal._generated.models._models_py3.SearchField'> and will be ignored\n",
      "12/09/2020 20:49:15 - WARNING - msrest.serialization -   synonym_map_names is not a known attribute of class <class 'azure.search.documents.indexes._internal._generated.models._models_py3.SearchField'> and will be ignored\n"
     ]
    },
    {
     "output_type": "execute_result",
     "data": {
      "text/plain": [
       "<azure.search.documents.indexes._internal._index.SearchIndex at 0x7fa515537760>"
      ]
     },
     "metadata": {},
     "execution_count": 19
    }
   ],
   "source": [
    "index_name=\"evaluate\"\n",
    "create_idx(idx_name=index_name)"
   ]
  },
  {
   "cell_type": "code",
   "execution_count": 21,
   "metadata": {},
   "outputs": [
    {
     "output_type": "stream",
     "name": "stderr",
     "text": [
      "12/09/2020 20:49:31 - INFO - azure.core.pipeline.policies.http_logging_policy -   Request URL: \"https://alexa-for-docs.search.windows.net/indexes('evaluate')/docs/search.index?api-version=REDACTED\"\n",
      "12/09/2020 20:49:31 - INFO - azure.core.pipeline.policies.http_logging_policy -   Request method: 'POST'\n",
      "12/09/2020 20:49:31 - INFO - azure.core.pipeline.policies.http_logging_policy -   Request headers:\n",
      "12/09/2020 20:49:31 - INFO - azure.core.pipeline.policies.http_logging_policy -       'Content-Type': 'application/json'\n",
      "12/09/2020 20:49:31 - INFO - azure.core.pipeline.policies.http_logging_policy -       'Accept': 'application/json;odata.metadata=none'\n",
      "12/09/2020 20:49:31 - INFO - azure.core.pipeline.policies.http_logging_policy -       'Content-Length': '1714974'\n",
      "12/09/2020 20:49:31 - INFO - azure.core.pipeline.policies.http_logging_policy -       'x-ms-client-request-id': 'a77eee6c-3a57-11eb-9706-74e5f9d04c29'\n",
      "12/09/2020 20:49:31 - INFO - azure.core.pipeline.policies.http_logging_policy -       'api-key': 'REDACTED'\n",
      "12/09/2020 20:49:31 - INFO - azure.core.pipeline.policies.http_logging_policy -       'User-Agent': 'azsdk-python-search-documents/11.0.0 Python/3.8.1 (Linux-5.4.0-54-generic-x86_64-with-glibc2.27)'\n",
      "12/09/2020 20:49:31 - INFO - azure.core.pipeline.policies.http_logging_policy -   A body is sent with the request\n",
      "12/09/2020 20:49:33 - INFO - azure.core.pipeline.policies.http_logging_policy -   Response status: 200\n",
      "12/09/2020 20:49:33 - INFO - azure.core.pipeline.policies.http_logging_policy -   Response headers:\n",
      "12/09/2020 20:49:33 - INFO - azure.core.pipeline.policies.http_logging_policy -       'Cache-Control': 'no-cache'\n",
      "12/09/2020 20:49:33 - INFO - azure.core.pipeline.policies.http_logging_policy -       'Pragma': 'no-cache'\n",
      "12/09/2020 20:49:33 - INFO - azure.core.pipeline.policies.http_logging_policy -       'Content-Type': 'application/json; odata.metadata=none'\n",
      "12/09/2020 20:49:33 - INFO - azure.core.pipeline.policies.http_logging_policy -       'Content-Encoding': 'REDACTED'\n",
      "12/09/2020 20:49:33 - INFO - azure.core.pipeline.policies.http_logging_policy -       'Expires': '-1'\n",
      "12/09/2020 20:49:33 - INFO - azure.core.pipeline.policies.http_logging_policy -       'Vary': 'REDACTED'\n",
      "12/09/2020 20:49:33 - INFO - azure.core.pipeline.policies.http_logging_policy -       'request-id': 'a77eee6c-3a57-11eb-9706-74e5f9d04c29'\n",
      "12/09/2020 20:49:33 - INFO - azure.core.pipeline.policies.http_logging_policy -       'elapsed-time': 'REDACTED'\n",
      "12/09/2020 20:49:33 - INFO - azure.core.pipeline.policies.http_logging_policy -       'OData-Version': 'REDACTED'\n",
      "12/09/2020 20:49:33 - INFO - azure.core.pipeline.policies.http_logging_policy -       'Preference-Applied': 'REDACTED'\n",
      "12/09/2020 20:49:33 - INFO - azure.core.pipeline.policies.http_logging_policy -       'Strict-Transport-Security': 'REDACTED'\n",
      "12/09/2020 20:49:33 - INFO - azure.core.pipeline.policies.http_logging_policy -       'Date': 'Wed, 09 Dec 2020 19:49:33 GMT'\n",
      "12/09/2020 20:49:33 - INFO - azure.core.pipeline.policies.http_logging_policy -       'Content-Length': '1864'\n",
      "Upload of new document succeeded: True\n"
     ]
    }
   ],
   "source": [
    "insert_docs(idx_name=index_name, docs=dicts)"
   ]
  },
  {
   "cell_type": "code",
   "execution_count": 22,
   "metadata": {},
   "outputs": [
    {
     "output_type": "stream",
     "name": "stderr",
     "text": [
      "12/09/2020 20:49:47 - INFO - azure.core.pipeline.policies.http_logging_policy -   Request URL: \"https://alexa-for-docs.search.windows.net/indexes('evaluate')/docs/search.post.search?api-version=REDACTED\"\n",
      "12/09/2020 20:49:47 - INFO - azure.core.pipeline.policies.http_logging_policy -   Request method: 'POST'\n",
      "12/09/2020 20:49:47 - INFO - azure.core.pipeline.policies.http_logging_policy -   Request headers:\n",
      "12/09/2020 20:49:47 - INFO - azure.core.pipeline.policies.http_logging_policy -       'Content-Type': 'application/json'\n",
      "12/09/2020 20:49:47 - INFO - azure.core.pipeline.policies.http_logging_policy -       'Accept': 'application/json;odata.metadata=none'\n",
      "12/09/2020 20:49:47 - INFO - azure.core.pipeline.policies.http_logging_policy -       'Content-Length': '79'\n",
      "12/09/2020 20:49:47 - INFO - azure.core.pipeline.policies.http_logging_policy -       'x-ms-client-request-id': 'b14f3e7e-3a57-11eb-9706-74e5f9d04c29'\n",
      "12/09/2020 20:49:47 - INFO - azure.core.pipeline.policies.http_logging_policy -       'api-key': 'REDACTED'\n",
      "12/09/2020 20:49:47 - INFO - azure.core.pipeline.policies.http_logging_policy -       'User-Agent': 'azsdk-python-search-documents/11.0.0 Python/3.8.1 (Linux-5.4.0-54-generic-x86_64-with-glibc2.27)'\n",
      "12/09/2020 20:49:47 - INFO - azure.core.pipeline.policies.http_logging_policy -   A body is sent with the request\n",
      "12/09/2020 20:49:48 - INFO - azure.core.pipeline.policies.http_logging_policy -   Response status: 200\n",
      "12/09/2020 20:49:48 - INFO - azure.core.pipeline.policies.http_logging_policy -   Response headers:\n",
      "12/09/2020 20:49:48 - INFO - azure.core.pipeline.policies.http_logging_policy -       'Cache-Control': 'no-cache'\n",
      "12/09/2020 20:49:48 - INFO - azure.core.pipeline.policies.http_logging_policy -       'Pragma': 'no-cache'\n",
      "12/09/2020 20:49:48 - INFO - azure.core.pipeline.policies.http_logging_policy -       'Content-Type': 'application/json; odata.metadata=none'\n",
      "12/09/2020 20:49:48 - INFO - azure.core.pipeline.policies.http_logging_policy -       'Content-Encoding': 'REDACTED'\n",
      "12/09/2020 20:49:48 - INFO - azure.core.pipeline.policies.http_logging_policy -       'Expires': '-1'\n",
      "12/09/2020 20:49:48 - INFO - azure.core.pipeline.policies.http_logging_policy -       'Vary': 'REDACTED'\n",
      "12/09/2020 20:49:48 - INFO - azure.core.pipeline.policies.http_logging_policy -       'request-id': 'b14f3e7e-3a57-11eb-9706-74e5f9d04c29'\n",
      "12/09/2020 20:49:48 - INFO - azure.core.pipeline.policies.http_logging_policy -       'elapsed-time': 'REDACTED'\n",
      "12/09/2020 20:49:48 - INFO - azure.core.pipeline.policies.http_logging_policy -       'OData-Version': 'REDACTED'\n",
      "12/09/2020 20:49:48 - INFO - azure.core.pipeline.policies.http_logging_policy -       'Preference-Applied': 'REDACTED'\n",
      "12/09/2020 20:49:48 - INFO - azure.core.pipeline.policies.http_logging_policy -       'Strict-Transport-Security': 'REDACTED'\n",
      "12/09/2020 20:49:48 - INFO - azure.core.pipeline.policies.http_logging_policy -       'Date': 'Wed, 09 Dec 2020 19:49:47 GMT'\n",
      "12/09/2020 20:49:48 - INFO - azure.core.pipeline.policies.http_logging_policy -       'Content-Length': '64117'\n"
     ]
    }
   ],
   "source": [
    "result=find_text(query=labels_frame[\"question\"].iloc[0] ,idx_name=index_name, top_k=3)"
   ]
  },
  {
   "cell_type": "code",
   "execution_count": 23,
   "metadata": {},
   "outputs": [
    {
     "output_type": "execute_result",
     "data": {
      "text/plain": [
       "(list, 3, dict_keys(['Id', 'Score', 'text']))"
      ]
     },
     "metadata": {},
     "execution_count": 23
    }
   ],
   "source": [
    "type(result), len(result), result[0].keys()"
   ]
  },
  {
   "cell_type": "code",
   "execution_count": 28,
   "metadata": {},
   "outputs": [],
   "source": [
    "from utils import eval "
   ]
  },
  {
   "cell_type": "code",
   "execution_count": 29,
   "metadata": {
    "tags": [
     "outputPrepend"
    ]
   },
   "outputs": [
    {
     "output_type": "stream",
     "name": "stderr",
     "text": [
      "licies.http_logging_policy -       'Cache-Control': 'no-cache'\n",
      "12/09/2020 20:53:38 - INFO - azure.core.pipeline.policies.http_logging_policy -       'Pragma': 'no-cache'\n",
      "12/09/2020 20:53:38 - INFO - azure.core.pipeline.policies.http_logging_policy -       'Content-Type': 'application/json; odata.metadata=none'\n",
      "12/09/2020 20:53:38 - INFO - azure.core.pipeline.policies.http_logging_policy -       'Content-Encoding': 'REDACTED'\n",
      "12/09/2020 20:53:38 - INFO - azure.core.pipeline.policies.http_logging_policy -       'Expires': '-1'\n",
      "12/09/2020 20:53:38 - INFO - azure.core.pipeline.policies.http_logging_policy -       'Vary': 'REDACTED'\n",
      "12/09/2020 20:53:38 - INFO - azure.core.pipeline.policies.http_logging_policy -       'request-id': '39aa3457-3a58-11eb-9706-74e5f9d04c29'\n",
      "12/09/2020 20:53:38 - INFO - azure.core.pipeline.policies.http_logging_policy -       'elapsed-time': 'REDACTED'\n",
      "12/09/2020 20:53:38 - INFO - azure.core.pipeline.policies.http_logging_policy -       'OData-Version': 'REDACTED'\n",
      "12/09/2020 20:53:38 - INFO - azure.core.pipeline.policies.http_logging_policy -       'Preference-Applied': 'REDACTED'\n",
      "12/09/2020 20:53:38 - INFO - azure.core.pipeline.policies.http_logging_policy -       'Strict-Transport-Security': 'REDACTED'\n",
      "12/09/2020 20:53:38 - INFO - azure.core.pipeline.policies.http_logging_policy -       'Date': 'Wed, 09 Dec 2020 19:53:38 GMT'\n",
      "12/09/2020 20:53:38 - INFO - azure.core.pipeline.policies.http_logging_policy -       'Content-Length': '21830'\n",
      "12/09/2020 20:53:38 - INFO - azure.core.pipeline.policies.http_logging_policy -   Request URL: \"https://alexa-for-docs.search.windows.net/indexes('evaluate')/docs/search.post.search?api-version=REDACTED\"\n",
      "12/09/2020 20:53:38 - INFO - azure.core.pipeline.policies.http_logging_policy -   Request method: 'POST'\n",
      "12/09/2020 20:53:38 - INFO - azure.core.pipeline.policies.http_logging_policy -   Request headers:\n",
      "12/09/2020 20:53:38 - INFO - azure.core.pipeline.policies.http_logging_policy -       'Content-Type': 'application/json'\n",
      "12/09/2020 20:53:38 - INFO - azure.core.pipeline.policies.http_logging_policy -       'Accept': 'application/json;odata.metadata=none'\n",
      "12/09/2020 20:53:38 - INFO - azure.core.pipeline.policies.http_logging_policy -       'Content-Length': '94'\n",
      "12/09/2020 20:53:38 - INFO - azure.core.pipeline.policies.http_logging_policy -       'x-ms-client-request-id': '3acdf6e0-3a58-11eb-9706-74e5f9d04c29'\n",
      "12/09/2020 20:53:38 - INFO - azure.core.pipeline.policies.http_logging_policy -       'api-key': 'REDACTED'\n",
      "12/09/2020 20:53:38 - INFO - azure.core.pipeline.policies.http_logging_policy -       'User-Agent': 'azsdk-python-search-documents/11.0.0 Python/3.8.1 (Linux-5.4.0-54-generic-x86_64-with-glibc2.27)'\n",
      "12/09/2020 20:53:38 - INFO - azure.core.pipeline.policies.http_logging_policy -   A body is sent with the request\n",
      "12/09/2020 20:53:38 - INFO - azure.core.pipeline.policies.http_logging_policy -   Response status: 200\n",
      "12/09/2020 20:53:38 - INFO - azure.core.pipeline.policies.http_logging_policy -   Response headers:\n",
      "12/09/2020 20:53:38 - INFO - azure.core.pipeline.policies.http_logging_policy -       'Cache-Control': 'no-cache'\n",
      "12/09/2020 20:53:38 - INFO - azure.core.pipeline.policies.http_logging_policy -       'Pragma': 'no-cache'\n",
      "12/09/2020 20:53:38 - INFO - azure.core.pipeline.policies.http_logging_policy -       'Transfer-Encoding': 'chunked'\n",
      "12/09/2020 20:53:38 - INFO - azure.core.pipeline.policies.http_logging_policy -       'Content-Type': 'application/json; odata.metadata=none'\n",
      "12/09/2020 20:53:38 - INFO - azure.core.pipeline.policies.http_logging_policy -       'Content-Encoding': 'REDACTED'\n",
      "12/09/2020 20:53:38 - INFO - azure.core.pipeline.policies.http_logging_policy -       'Expires': '-1'\n",
      "12/09/2020 20:53:38 - INFO - azure.core.pipeline.policies.http_logging_policy -       'Vary': 'REDACTED'\n",
      "12/09/2020 20:53:38 - INFO - azure.core.pipeline.policies.http_logging_policy -       'request-id': '3acdf6e0-3a58-11eb-9706-74e5f9d04c29'\n",
      "12/09/2020 20:53:38 - INFO - azure.core.pipeline.policies.http_logging_policy -       'elapsed-time': 'REDACTED'\n",
      "12/09/2020 20:53:38 - INFO - azure.core.pipeline.policies.http_logging_policy -       'OData-Version': 'REDACTED'\n",
      "12/09/2020 20:53:38 - INFO - azure.core.pipeline.policies.http_logging_policy -       'Preference-Applied': 'REDACTED'\n",
      "12/09/2020 20:53:38 - INFO - azure.core.pipeline.policies.http_logging_policy -       'Strict-Transport-Security': 'REDACTED'\n",
      "12/09/2020 20:53:38 - INFO - azure.core.pipeline.policies.http_logging_policy -       'Date': 'Wed, 09 Dec 2020 19:53:37 GMT'\n",
      "12/09/2020 20:53:38 - INFO - azure.core.pipeline.policies.http_logging_policy -   Request URL: \"https://alexa-for-docs.search.windows.net/indexes('evaluate')/docs/search.post.search?api-version=REDACTED\"\n",
      "12/09/2020 20:53:38 - INFO - azure.core.pipeline.policies.http_logging_policy -   Request method: 'POST'\n",
      "12/09/2020 20:53:38 - INFO - azure.core.pipeline.policies.http_logging_policy -   Request headers:\n",
      "12/09/2020 20:53:38 - INFO - azure.core.pipeline.policies.http_logging_policy -       'Content-Type': 'application/json'\n",
      "12/09/2020 20:53:38 - INFO - azure.core.pipeline.policies.http_logging_policy -       'Accept': 'application/json;odata.metadata=none'\n",
      "12/09/2020 20:53:38 - INFO - azure.core.pipeline.policies.http_logging_policy -       'Content-Length': '93'\n",
      "12/09/2020 20:53:38 - INFO - azure.core.pipeline.policies.http_logging_policy -       'x-ms-client-request-id': '3acdf6e1-3a58-11eb-9706-74e5f9d04c29'\n",
      "12/09/2020 20:53:38 - INFO - azure.core.pipeline.policies.http_logging_policy -       'api-key': 'REDACTED'\n",
      "12/09/2020 20:53:38 - INFO - azure.core.pipeline.policies.http_logging_policy -       'User-Agent': 'azsdk-python-search-documents/11.0.0 Python/3.8.1 (Linux-5.4.0-54-generic-x86_64-with-glibc2.27)'\n",
      "12/09/2020 20:53:38 - INFO - azure.core.pipeline.policies.http_logging_policy -   A body is sent with the request\n",
      "12/09/2020 20:53:39 - INFO - azure.core.pipeline.policies.http_logging_policy -   Response status: 200\n",
      "12/09/2020 20:53:39 - INFO - azure.core.pipeline.policies.http_logging_policy -   Response headers:\n",
      "12/09/2020 20:53:39 - INFO - azure.core.pipeline.policies.http_logging_policy -       'Cache-Control': 'no-cache'\n",
      "12/09/2020 20:53:39 - INFO - azure.core.pipeline.policies.http_logging_policy -       'Pragma': 'no-cache'\n",
      "12/09/2020 20:53:39 - INFO - azure.core.pipeline.policies.http_logging_policy -       'Content-Type': 'application/json; odata.metadata=none'\n",
      "12/09/2020 20:53:39 - INFO - azure.core.pipeline.policies.http_logging_policy -       'Content-Encoding': 'REDACTED'\n",
      "12/09/2020 20:53:39 - INFO - azure.core.pipeline.policies.http_logging_policy -       'Expires': '-1'\n",
      "12/09/2020 20:53:39 - INFO - azure.core.pipeline.policies.http_logging_policy -       'Vary': 'REDACTED'\n",
      "12/09/2020 20:53:39 - INFO - azure.core.pipeline.policies.http_logging_policy -       'request-id': '3acdf6e1-3a58-11eb-9706-74e5f9d04c29'\n",
      "12/09/2020 20:53:39 - INFO - azure.core.pipeline.policies.http_logging_policy -       'elapsed-time': 'REDACTED'\n",
      "12/09/2020 20:53:39 - INFO - azure.core.pipeline.policies.http_logging_policy -       'OData-Version': 'REDACTED'\n",
      "12/09/2020 20:53:39 - INFO - azure.core.pipeline.policies.http_logging_policy -       'Preference-Applied': 'REDACTED'\n",
      "12/09/2020 20:53:39 - INFO - azure.core.pipeline.policies.http_logging_policy -       'Strict-Transport-Security': 'REDACTED'\n",
      "12/09/2020 20:53:39 - INFO - azure.core.pipeline.policies.http_logging_policy -       'Date': 'Wed, 09 Dec 2020 19:53:38 GMT'\n",
      "12/09/2020 20:53:39 - INFO - azure.core.pipeline.policies.http_logging_policy -       'Content-Length': '49155'\n",
      "12/09/2020 20:53:39 - INFO - azure.core.pipeline.policies.http_logging_policy -   Request URL: \"https://alexa-for-docs.search.windows.net/indexes('evaluate')/docs/search.post.search?api-version=REDACTED\"\n",
      "12/09/2020 20:53:39 - INFO - azure.core.pipeline.policies.http_logging_policy -   Request method: 'POST'\n",
      "12/09/2020 20:53:39 - INFO - azure.core.pipeline.policies.http_logging_policy -   Request headers:\n",
      "12/09/2020 20:53:39 - INFO - azure.core.pipeline.policies.http_logging_policy -       'Content-Type': 'application/json'\n",
      "12/09/2020 20:53:39 - INFO - azure.core.pipeline.policies.http_logging_policy -       'Accept': 'application/json;odata.metadata=none'\n",
      "12/09/2020 20:53:39 - INFO - azure.core.pipeline.policies.http_logging_policy -       'Content-Length': '90'\n",
      "12/09/2020 20:53:39 - INFO - azure.core.pipeline.policies.http_logging_policy -       'x-ms-client-request-id': '3acdf6e2-3a58-11eb-9706-74e5f9d04c29'\n",
      "12/09/2020 20:53:39 - INFO - azure.core.pipeline.policies.http_logging_policy -       'api-key': 'REDACTED'\n",
      "12/09/2020 20:53:39 - INFO - azure.core.pipeline.policies.http_logging_policy -       'User-Agent': 'azsdk-python-search-documents/11.0.0 Python/3.8.1 (Linux-5.4.0-54-generic-x86_64-with-glibc2.27)'\n",
      "12/09/2020 20:53:39 - INFO - azure.core.pipeline.policies.http_logging_policy -   A body is sent with the request\n",
      "12/09/2020 20:53:39 - INFO - azure.core.pipeline.policies.http_logging_policy -   Response status: 200\n",
      "12/09/2020 20:53:39 - INFO - azure.core.pipeline.policies.http_logging_policy -   Response headers:\n",
      "12/09/2020 20:53:39 - INFO - azure.core.pipeline.policies.http_logging_policy -       'Cache-Control': 'no-cache'\n",
      "12/09/2020 20:53:39 - INFO - azure.core.pipeline.policies.http_logging_policy -       'Pragma': 'no-cache'\n",
      "12/09/2020 20:53:39 - INFO - azure.core.pipeline.policies.http_logging_policy -       'Content-Type': 'application/json; odata.metadata=none'\n",
      "12/09/2020 20:53:39 - INFO - azure.core.pipeline.policies.http_logging_policy -       'Content-Encoding': 'REDACTED'\n",
      "12/09/2020 20:53:39 - INFO - azure.core.pipeline.policies.http_logging_policy -       'Expires': '-1'\n",
      "12/09/2020 20:53:39 - INFO - azure.core.pipeline.policies.http_logging_policy -       'Vary': 'REDACTED'\n",
      "12/09/2020 20:53:39 - INFO - azure.core.pipeline.policies.http_logging_policy -       'request-id': '3acdf6e2-3a58-11eb-9706-74e5f9d04c29'\n",
      "12/09/2020 20:53:39 - INFO - azure.core.pipeline.policies.http_logging_policy -       'elapsed-time': 'REDACTED'\n",
      "12/09/2020 20:53:39 - INFO - azure.core.pipeline.policies.http_logging_policy -       'OData-Version': 'REDACTED'\n",
      "12/09/2020 20:53:39 - INFO - azure.core.pipeline.policies.http_logging_policy -       'Preference-Applied': 'REDACTED'\n",
      "12/09/2020 20:53:39 - INFO - azure.core.pipeline.policies.http_logging_policy -       'Strict-Transport-Security': 'REDACTED'\n",
      "12/09/2020 20:53:39 - INFO - azure.core.pipeline.policies.http_logging_policy -       'Date': 'Wed, 09 Dec 2020 19:53:38 GMT'\n",
      "12/09/2020 20:53:39 - INFO - azure.core.pipeline.policies.http_logging_policy -       'Content-Length': '37125'\n",
      "12/09/2020 20:53:39 - INFO - azure.core.pipeline.policies.http_logging_policy -   Request URL: \"https://alexa-for-docs.search.windows.net/indexes('evaluate')/docs/search.post.search?api-version=REDACTED\"\n",
      "12/09/2020 20:53:39 - INFO - azure.core.pipeline.policies.http_logging_policy -   Request method: 'POST'\n",
      "12/09/2020 20:53:39 - INFO - azure.core.pipeline.policies.http_logging_policy -   Request headers:\n",
      "12/09/2020 20:53:39 - INFO - azure.core.pipeline.policies.http_logging_policy -       'Content-Type': 'application/json'\n",
      "12/09/2020 20:53:39 - INFO - azure.core.pipeline.policies.http_logging_policy -       'Accept': 'application/json;odata.metadata=none'\n",
      "12/09/2020 20:53:39 - INFO - azure.core.pipeline.policies.http_logging_policy -       'Content-Length': '82'\n",
      "12/09/2020 20:53:39 - INFO - azure.core.pipeline.policies.http_logging_policy -       'x-ms-client-request-id': '3acdf6e3-3a58-11eb-9706-74e5f9d04c29'\n",
      "12/09/2020 20:53:39 - INFO - azure.core.pipeline.policies.http_logging_policy -       'api-key': 'REDACTED'\n",
      "12/09/2020 20:53:39 - INFO - azure.core.pipeline.policies.http_logging_policy -       'User-Agent': 'azsdk-python-search-documents/11.0.0 Python/3.8.1 (Linux-5.4.0-54-generic-x86_64-with-glibc2.27)'\n",
      "12/09/2020 20:53:39 - INFO - azure.core.pipeline.policies.http_logging_policy -   A body is sent with the request\n",
      "12/09/2020 20:53:39 - INFO - azure.core.pipeline.policies.http_logging_policy -   Response status: 200\n",
      "12/09/2020 20:53:39 - INFO - azure.core.pipeline.policies.http_logging_policy -   Response headers:\n",
      "12/09/2020 20:53:39 - INFO - azure.core.pipeline.policies.http_logging_policy -       'Cache-Control': 'no-cache'\n",
      "12/09/2020 20:53:39 - INFO - azure.core.pipeline.policies.http_logging_policy -       'Pragma': 'no-cache'\n",
      "12/09/2020 20:53:39 - INFO - azure.core.pipeline.policies.http_logging_policy -       'Content-Type': 'application/json; odata.metadata=none'\n",
      "12/09/2020 20:53:39 - INFO - azure.core.pipeline.policies.http_logging_policy -       'Content-Encoding': 'REDACTED'\n",
      "12/09/2020 20:53:39 - INFO - azure.core.pipeline.policies.http_logging_policy -       'Expires': '-1'\n",
      "12/09/2020 20:53:39 - INFO - azure.core.pipeline.policies.http_logging_policy -       'Vary': 'REDACTED'\n",
      "12/09/2020 20:53:39 - INFO - azure.core.pipeline.policies.http_logging_policy -       'request-id': '3acdf6e3-3a58-11eb-9706-74e5f9d04c29'\n",
      "12/09/2020 20:53:39 - INFO - azure.core.pipeline.policies.http_logging_policy -       'elapsed-time': 'REDACTED'\n",
      "12/09/2020 20:53:39 - INFO - azure.core.pipeline.policies.http_logging_policy -       'OData-Version': 'REDACTED'\n",
      "12/09/2020 20:53:39 - INFO - azure.core.pipeline.policies.http_logging_policy -       'Preference-Applied': 'REDACTED'\n",
      "12/09/2020 20:53:39 - INFO - azure.core.pipeline.policies.http_logging_policy -       'Strict-Transport-Security': 'REDACTED'\n",
      "12/09/2020 20:53:39 - INFO - azure.core.pipeline.policies.http_logging_policy -       'Date': 'Wed, 09 Dec 2020 19:53:39 GMT'\n",
      "12/09/2020 20:53:39 - INFO - azure.core.pipeline.policies.http_logging_policy -       'Content-Length': '36421'\n",
      "12/09/2020 20:53:39 - INFO - azure.core.pipeline.policies.http_logging_policy -   Request URL: \"https://alexa-for-docs.search.windows.net/indexes('evaluate')/docs/search.post.search?api-version=REDACTED\"\n",
      "12/09/2020 20:53:39 - INFO - azure.core.pipeline.policies.http_logging_policy -   Request method: 'POST'\n",
      "12/09/2020 20:53:39 - INFO - azure.core.pipeline.policies.http_logging_policy -   Request headers:\n",
      "12/09/2020 20:53:40 - INFO - azure.core.pipeline.policies.http_logging_policy -       'Content-Type': 'application/json'\n",
      "12/09/2020 20:53:40 - INFO - azure.core.pipeline.policies.http_logging_policy -       'Accept': 'application/json;odata.metadata=none'\n",
      "12/09/2020 20:53:40 - INFO - azure.core.pipeline.policies.http_logging_policy -       'Content-Length': '109'\n",
      "12/09/2020 20:53:40 - INFO - azure.core.pipeline.policies.http_logging_policy -       'x-ms-client-request-id': '3acdf6e4-3a58-11eb-9706-74e5f9d04c29'\n",
      "12/09/2020 20:53:40 - INFO - azure.core.pipeline.policies.http_logging_policy -       'api-key': 'REDACTED'\n",
      "12/09/2020 20:53:40 - INFO - azure.core.pipeline.policies.http_logging_policy -       'User-Agent': 'azsdk-python-search-documents/11.0.0 Python/3.8.1 (Linux-5.4.0-54-generic-x86_64-with-glibc2.27)'\n",
      "12/09/2020 20:53:40 - INFO - azure.core.pipeline.policies.http_logging_policy -   A body is sent with the request\n",
      "12/09/2020 20:53:40 - INFO - azure.core.pipeline.policies.http_logging_policy -   Response status: 200\n",
      "12/09/2020 20:53:40 - INFO - azure.core.pipeline.policies.http_logging_policy -   Response headers:\n",
      "12/09/2020 20:53:40 - INFO - azure.core.pipeline.policies.http_logging_policy -       'Cache-Control': 'no-cache'\n",
      "12/09/2020 20:53:40 - INFO - azure.core.pipeline.policies.http_logging_policy -       'Pragma': 'no-cache'\n",
      "12/09/2020 20:53:40 - INFO - azure.core.pipeline.policies.http_logging_policy -       'Content-Type': 'application/json; odata.metadata=none'\n",
      "12/09/2020 20:53:40 - INFO - azure.core.pipeline.policies.http_logging_policy -       'Content-Encoding': 'REDACTED'\n",
      "12/09/2020 20:53:40 - INFO - azure.core.pipeline.policies.http_logging_policy -       'Expires': '-1'\n",
      "12/09/2020 20:53:40 - INFO - azure.core.pipeline.policies.http_logging_policy -       'Vary': 'REDACTED'\n",
      "12/09/2020 20:53:40 - INFO - azure.core.pipeline.policies.http_logging_policy -       'request-id': '3acdf6e4-3a58-11eb-9706-74e5f9d04c29'\n",
      "12/09/2020 20:53:40 - INFO - azure.core.pipeline.policies.http_logging_policy -       'elapsed-time': 'REDACTED'\n",
      "12/09/2020 20:53:40 - INFO - azure.core.pipeline.policies.http_logging_policy -       'OData-Version': 'REDACTED'\n",
      "12/09/2020 20:53:40 - INFO - azure.core.pipeline.policies.http_logging_policy -       'Preference-Applied': 'REDACTED'\n",
      "12/09/2020 20:53:40 - INFO - azure.core.pipeline.policies.http_logging_policy -       'Strict-Transport-Security': 'REDACTED'\n",
      "12/09/2020 20:53:40 - INFO - azure.core.pipeline.policies.http_logging_policy -       'Date': 'Wed, 09 Dec 2020 19:53:40 GMT'\n",
      "12/09/2020 20:53:40 - INFO - azure.core.pipeline.policies.http_logging_policy -       'Content-Length': '47189'\n",
      "12/09/2020 20:53:40 - INFO - azure.core.pipeline.policies.http_logging_policy -   Request URL: \"https://alexa-for-docs.search.windows.net/indexes('evaluate')/docs/search.post.search?api-version=REDACTED\"\n",
      "12/09/2020 20:53:40 - INFO - azure.core.pipeline.policies.http_logging_policy -   Request method: 'POST'\n",
      "12/09/2020 20:53:40 - INFO - azure.core.pipeline.policies.http_logging_policy -   Request headers:\n",
      "12/09/2020 20:53:40 - INFO - azure.core.pipeline.policies.http_logging_policy -       'Content-Type': 'application/json'\n",
      "12/09/2020 20:53:40 - INFO - azure.core.pipeline.policies.http_logging_policy -       'Accept': 'application/json;odata.metadata=none'\n",
      "12/09/2020 20:53:40 - INFO - azure.core.pipeline.policies.http_logging_policy -       'Content-Length': '90'\n",
      "12/09/2020 20:53:40 - INFO - azure.core.pipeline.policies.http_logging_policy -       'x-ms-client-request-id': '3c113cf6-3a58-11eb-9706-74e5f9d04c29'\n",
      "12/09/2020 20:53:40 - INFO - azure.core.pipeline.policies.http_logging_policy -       'api-key': 'REDACTED'\n",
      "12/09/2020 20:53:40 - INFO - azure.core.pipeline.policies.http_logging_policy -       'User-Agent': 'azsdk-python-search-documents/11.0.0 Python/3.8.1 (Linux-5.4.0-54-generic-x86_64-with-glibc2.27)'\n",
      "12/09/2020 20:53:40 - INFO - azure.core.pipeline.policies.http_logging_policy -   A body is sent with the request\n",
      "12/09/2020 20:53:40 - INFO - azure.core.pipeline.policies.http_logging_policy -   Response status: 200\n",
      "12/09/2020 20:53:40 - INFO - azure.core.pipeline.policies.http_logging_policy -   Response headers:\n",
      "12/09/2020 20:53:40 - INFO - azure.core.pipeline.policies.http_logging_policy -       'Cache-Control': 'no-cache'\n",
      "12/09/2020 20:53:40 - INFO - azure.core.pipeline.policies.http_logging_policy -       'Pragma': 'no-cache'\n",
      "12/09/2020 20:53:40 - INFO - azure.core.pipeline.policies.http_logging_policy -       'Transfer-Encoding': 'chunked'\n",
      "12/09/2020 20:53:40 - INFO - azure.core.pipeline.policies.http_logging_policy -       'Content-Type': 'application/json; odata.metadata=none'\n",
      "12/09/2020 20:53:40 - INFO - azure.core.pipeline.policies.http_logging_policy -       'Content-Encoding': 'REDACTED'\n",
      "12/09/2020 20:53:40 - INFO - azure.core.pipeline.policies.http_logging_policy -       'Expires': '-1'\n",
      "12/09/2020 20:53:40 - INFO - azure.core.pipeline.policies.http_logging_policy -       'Vary': 'REDACTED'\n",
      "12/09/2020 20:53:40 - INFO - azure.core.pipeline.policies.http_logging_policy -       'request-id': '3c113cf6-3a58-11eb-9706-74e5f9d04c29'\n",
      "12/09/2020 20:53:40 - INFO - azure.core.pipeline.policies.http_logging_policy -       'elapsed-time': 'REDACTED'\n",
      "12/09/2020 20:53:40 - INFO - azure.core.pipeline.policies.http_logging_policy -       'OData-Version': 'REDACTED'\n",
      "12/09/2020 20:53:40 - INFO - azure.core.pipeline.policies.http_logging_policy -       'Preference-Applied': 'REDACTED'\n",
      "12/09/2020 20:53:40 - INFO - azure.core.pipeline.policies.http_logging_policy -       'Strict-Transport-Security': 'REDACTED'\n",
      "12/09/2020 20:53:40 - INFO - azure.core.pipeline.policies.http_logging_policy -       'Date': 'Wed, 09 Dec 2020 19:53:40 GMT'\n"
     ]
    }
   ],
   "source": [
    "metric=eval(labels_frame=labels_frame, top_k=3)"
   ]
  },
  {
   "cell_type": "code",
   "execution_count": 30,
   "metadata": {},
   "outputs": [
    {
     "output_type": "execute_result",
     "data": {
      "text/plain": [
       "{'correct_retrievals': 52, 'recall': 0.9629629629629629, 'top_k': 3}"
      ]
     },
     "metadata": {},
     "execution_count": 30
    }
   ],
   "source": [
    "metric"
   ]
  },
  {
   "cell_type": "code",
   "execution_count": null,
   "metadata": {},
   "outputs": [],
   "source": []
  }
 ]
}