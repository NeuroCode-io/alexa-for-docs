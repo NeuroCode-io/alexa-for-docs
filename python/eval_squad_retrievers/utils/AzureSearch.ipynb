{
 "metadata": {
  "language_info": {
   "codemirror_mode": {
    "name": "ipython",
    "version": 3
   },
   "file_extension": ".py",
   "mimetype": "text/x-python",
   "name": "python",
   "nbconvert_exporter": "python",
   "pygments_lexer": "ipython3",
   "version": "3.8.1-final"
  },
  "orig_nbformat": 2,
  "kernelspec": {
   "name": "python3",
   "display_name": "Python 3",
   "language": "python"
  }
 },
 "nbformat": 4,
 "nbformat_minor": 2,
 "cells": [
  {
   "cell_type": "code",
   "execution_count": 1,
   "metadata": {},
   "outputs": [],
   "source": [
    "from az_utils import create_idx, insert_docs, find_text, eval, label_to_frame"
   ]
  },
  {
   "cell_type": "code",
   "execution_count": 2,
   "metadata": {},
   "outputs": [
    {
     "output_type": "stream",
     "name": "stderr",
     "text": [
      "12/27/2020 20:54:34 - INFO - faiss -   Loading faiss with AVX2 support.\n",
      "12/27/2020 20:54:34 - INFO - faiss -   Loading faiss.\n"
     ]
    }
   ],
   "source": [
    "from utils import load_and_prepare_data\n",
    "\n",
    "filename = \"../data/train-v2.0.json\"\n",
    "doc_index = \"evaluation_docs\"\n",
    "label_index = \"evaluation_labels\"\n",
    "\n",
    "docs, labels = load_and_prepare_data(filename)"
   ]
  },
  {
   "cell_type": "code",
   "execution_count": 3,
   "metadata": {},
   "outputs": [],
   "source": [
    "dicts=[]\n",
    "for i in range(len(docs)):\n",
    "    entry=docs[i].to_dict()\n",
    "    dicts.append({\"Id\": entry[\"id\"], \"text\": entry[\"text\"]})"
   ]
  },
  {
   "cell_type": "code",
   "execution_count": 4,
   "metadata": {},
   "outputs": [],
   "source": [
    "dicts_labels=[]\n",
    "for i in range(len(labels)):\n",
    "    entry=labels[i].to_dict()\n",
    "    dicts_labels.append({\"Id\": entry[\"document_id\"], \"question\": entry[\"question\"]})"
   ]
  },
  {
   "cell_type": "code",
   "execution_count": 5,
   "metadata": {},
   "outputs": [],
   "source": [
    "index_name=\"evaluate-squad-data\""
   ]
  },
  {
   "cell_type": "code",
   "execution_count": 7,
   "metadata": {},
   "outputs": [
    {
     "output_type": "stream",
     "name": "stderr",
     "text": [
      "12/27/2020 20:53:27 - INFO - azure.core.pipeline.policies.http_logging_policy -   Request URL: 'https://ne-bobby-search.search.windows.net/indexes?api-version=REDACTED'\n",
      "12/27/2020 20:53:27 - INFO - azure.core.pipeline.policies.http_logging_policy -   Request method: 'POST'\n",
      "12/27/2020 20:53:27 - INFO - azure.core.pipeline.policies.http_logging_policy -   Request headers:\n",
      "12/27/2020 20:53:27 - INFO - azure.core.pipeline.policies.http_logging_policy -       'Content-Type': 'application/json'\n",
      "12/27/2020 20:53:27 - INFO - azure.core.pipeline.policies.http_logging_policy -       'Accept': 'application/json;odata.metadata=minimal'\n",
      "12/27/2020 20:53:27 - INFO - azure.core.pipeline.policies.http_logging_policy -       'Content-Length': '558'\n",
      "12/27/2020 20:53:27 - INFO - azure.core.pipeline.policies.http_logging_policy -       'x-ms-client-request-id': '2fe01668-487d-11eb-9b7a-74e5f9d04c29'\n",
      "12/27/2020 20:53:27 - INFO - azure.core.pipeline.policies.http_logging_policy -       'api-key': 'REDACTED'\n",
      "12/27/2020 20:53:27 - INFO - azure.core.pipeline.policies.http_logging_policy -       'User-Agent': 'azsdk-python-search-documents/11.0.0 Python/3.8.1 (Linux-5.4.0-58-generic-x86_64-with-glibc2.27)'\n",
      "12/27/2020 20:53:27 - INFO - azure.core.pipeline.policies.http_logging_policy -   A body is sent with the request\n",
      "12/27/2020 20:53:29 - INFO - azure.core.pipeline.policies.http_logging_policy -   Response status: 201\n",
      "12/27/2020 20:53:29 - INFO - azure.core.pipeline.policies.http_logging_policy -   Response headers:\n",
      "12/27/2020 20:53:29 - INFO - azure.core.pipeline.policies.http_logging_policy -       'Cache-Control': 'no-cache'\n",
      "12/27/2020 20:53:29 - INFO - azure.core.pipeline.policies.http_logging_policy -       'Pragma': 'no-cache'\n",
      "12/27/2020 20:53:29 - INFO - azure.core.pipeline.policies.http_logging_policy -       'Content-Type': 'application/json; odata.metadata=minimal'\n",
      "12/27/2020 20:53:29 - INFO - azure.core.pipeline.policies.http_logging_policy -       'Expires': '-1'\n",
      "12/27/2020 20:53:29 - INFO - azure.core.pipeline.policies.http_logging_policy -       'ETag': 'W/\"0x8D8AAA11597064C\"'\n",
      "12/27/2020 20:53:29 - INFO - azure.core.pipeline.policies.http_logging_policy -       'Location': 'REDACTED'\n",
      "12/27/2020 20:53:29 - INFO - azure.core.pipeline.policies.http_logging_policy -       'request-id': '2fe01668-487d-11eb-9b7a-74e5f9d04c29'\n",
      "12/27/2020 20:53:29 - INFO - azure.core.pipeline.policies.http_logging_policy -       'elapsed-time': 'REDACTED'\n",
      "12/27/2020 20:53:29 - INFO - azure.core.pipeline.policies.http_logging_policy -       'OData-Version': 'REDACTED'\n",
      "12/27/2020 20:53:29 - INFO - azure.core.pipeline.policies.http_logging_policy -       'Preference-Applied': 'REDACTED'\n",
      "12/27/2020 20:53:29 - INFO - azure.core.pipeline.policies.http_logging_policy -       'Strict-Transport-Security': 'REDACTED'\n",
      "12/27/2020 20:53:29 - INFO - azure.core.pipeline.policies.http_logging_policy -       'Date': 'Sun, 27 Dec 2020 19:53:30 GMT'\n",
      "12/27/2020 20:53:29 - INFO - azure.core.pipeline.policies.http_logging_policy -       'Content-Length': '902'\n",
      "12/27/2020 20:53:29 - WARNING - msrest.serialization -   hidden is not a known attribute of class <class 'azure.search.documents.indexes._internal._generated.models._models_py3.SearchField'> and will be ignored\n",
      "12/27/2020 20:53:29 - WARNING - msrest.serialization -   analyzer_name is not a known attribute of class <class 'azure.search.documents.indexes._internal._generated.models._models_py3.SearchField'> and will be ignored\n",
      "12/27/2020 20:53:29 - WARNING - msrest.serialization -   search_analyzer_name is not a known attribute of class <class 'azure.search.documents.indexes._internal._generated.models._models_py3.SearchField'> and will be ignored\n",
      "12/27/2020 20:53:29 - WARNING - msrest.serialization -   index_analyzer_name is not a known attribute of class <class 'azure.search.documents.indexes._internal._generated.models._models_py3.SearchField'> and will be ignored\n",
      "12/27/2020 20:53:29 - WARNING - msrest.serialization -   synonym_map_names is not a known attribute of class <class 'azure.search.documents.indexes._internal._generated.models._models_py3.SearchField'> and will be ignored\n",
      "12/27/2020 20:53:29 - WARNING - msrest.serialization -   hidden is not a known attribute of class <class 'azure.search.documents.indexes._internal._generated.models._models_py3.SearchField'> and will be ignored\n",
      "12/27/2020 20:53:29 - WARNING - msrest.serialization -   analyzer_name is not a known attribute of class <class 'azure.search.documents.indexes._internal._generated.models._models_py3.SearchField'> and will be ignored\n",
      "12/27/2020 20:53:29 - WARNING - msrest.serialization -   search_analyzer_name is not a known attribute of class <class 'azure.search.documents.indexes._internal._generated.models._models_py3.SearchField'> and will be ignored\n",
      "12/27/2020 20:53:29 - WARNING - msrest.serialization -   index_analyzer_name is not a known attribute of class <class 'azure.search.documents.indexes._internal._generated.models._models_py3.SearchField'> and will be ignored\n",
      "12/27/2020 20:53:29 - WARNING - msrest.serialization -   synonym_map_names is not a known attribute of class <class 'azure.search.documents.indexes._internal._generated.models._models_py3.SearchField'> and will be ignored\n"
     ]
    },
    {
     "output_type": "execute_result",
     "data": {
      "text/plain": [
       "<azure.search.documents.indexes._internal._index.SearchIndex at 0x7f2bedaaa220>"
      ]
     },
     "metadata": {},
     "execution_count": 7
    }
   ],
   "source": [
    "create_idx(idx_name=index_name)"
   ]
  },
  {
   "cell_type": "code",
   "execution_count": 8,
   "metadata": {},
   "outputs": [
    {
     "output_type": "stream",
     "name": "stderr",
     "text": [
      "12/27/2020 20:53:35 - INFO - azure.core.pipeline.policies.http_logging_policy -   Request URL: \"https://ne-bobby-search.search.windows.net/indexes('evaluate-squad-data')/docs/search.index?api-version=REDACTED\"\n",
      "12/27/2020 20:53:35 - INFO - azure.core.pipeline.policies.http_logging_policy -   Request method: 'POST'\n",
      "12/27/2020 20:53:35 - INFO - azure.core.pipeline.policies.http_logging_policy -   Request headers:\n",
      "12/27/2020 20:53:35 - INFO - azure.core.pipeline.policies.http_logging_policy -       'Content-Type': 'application/json'\n",
      "12/27/2020 20:53:35 - INFO - azure.core.pipeline.policies.http_logging_policy -       'Accept': 'application/json;odata.metadata=none'\n",
      "12/27/2020 20:53:35 - INFO - azure.core.pipeline.policies.http_logging_policy -       'Content-Length': '2021457'\n",
      "12/27/2020 20:53:35 - INFO - azure.core.pipeline.policies.http_logging_policy -       'x-ms-client-request-id': '34cc8314-487d-11eb-9b7a-74e5f9d04c29'\n",
      "12/27/2020 20:53:35 - INFO - azure.core.pipeline.policies.http_logging_policy -       'api-key': 'REDACTED'\n",
      "12/27/2020 20:53:35 - INFO - azure.core.pipeline.policies.http_logging_policy -       'User-Agent': 'azsdk-python-search-documents/11.0.0 Python/3.8.1 (Linux-5.4.0-58-generic-x86_64-with-glibc2.27)'\n",
      "12/27/2020 20:53:35 - INFO - azure.core.pipeline.policies.http_logging_policy -   A body is sent with the request\n",
      "12/27/2020 20:53:40 - INFO - azure.core.pipeline.policies.http_logging_policy -   Response status: 200\n",
      "12/27/2020 20:53:40 - INFO - azure.core.pipeline.policies.http_logging_policy -   Response headers:\n",
      "12/27/2020 20:53:40 - INFO - azure.core.pipeline.policies.http_logging_policy -       'Cache-Control': 'no-cache'\n",
      "12/27/2020 20:53:40 - INFO - azure.core.pipeline.policies.http_logging_policy -       'Pragma': 'no-cache'\n",
      "12/27/2020 20:53:40 - INFO - azure.core.pipeline.policies.http_logging_policy -       'Transfer-Encoding': 'chunked'\n",
      "12/27/2020 20:53:40 - INFO - azure.core.pipeline.policies.http_logging_policy -       'Content-Type': 'application/json; odata.metadata=none'\n",
      "12/27/2020 20:53:40 - INFO - azure.core.pipeline.policies.http_logging_policy -       'Content-Encoding': 'REDACTED'\n",
      "12/27/2020 20:53:40 - INFO - azure.core.pipeline.policies.http_logging_policy -       'Expires': '-1'\n",
      "12/27/2020 20:53:40 - INFO - azure.core.pipeline.policies.http_logging_policy -       'Vary': 'REDACTED'\n",
      "12/27/2020 20:53:40 - INFO - azure.core.pipeline.policies.http_logging_policy -       'request-id': '34cc8314-487d-11eb-9b7a-74e5f9d04c29'\n",
      "12/27/2020 20:53:40 - INFO - azure.core.pipeline.policies.http_logging_policy -       'elapsed-time': 'REDACTED'\n",
      "12/27/2020 20:53:40 - INFO - azure.core.pipeline.policies.http_logging_policy -       'OData-Version': 'REDACTED'\n",
      "12/27/2020 20:53:40 - INFO - azure.core.pipeline.policies.http_logging_policy -       'Preference-Applied': 'REDACTED'\n",
      "12/27/2020 20:53:40 - INFO - azure.core.pipeline.policies.http_logging_policy -       'Strict-Transport-Security': 'REDACTED'\n",
      "12/27/2020 20:53:40 - INFO - azure.core.pipeline.policies.http_logging_policy -       'Date': 'Sun, 27 Dec 2020 19:53:40 GMT'\n",
      "Upload of new document succeeded: True\n"
     ]
    }
   ],
   "source": [
    "insert_docs(idx_name=index_name, docs=dicts)"
   ]
  },
  {
   "cell_type": "code",
   "execution_count": 7,
   "metadata": {},
   "outputs": [],
   "source": [
    "labels_frame=label_to_frame(dicts_labels=dicts_labels)"
   ]
  },
  {
   "cell_type": "code",
   "execution_count": 11,
   "metadata": {},
   "outputs": [
    {
     "output_type": "execute_result",
     "data": {
      "text/plain": [
       "(2001, 2)"
      ]
     },
     "metadata": {},
     "execution_count": 11
    }
   ],
   "source": [
    "labels_frame.shape"
   ]
  },
  {
   "cell_type": "code",
   "execution_count": 8,
   "metadata": {
    "tags": [
     "outputPrepend"
    ]
   },
   "outputs": [
    {
     "output_type": "stream",
     "name": "stderr",
     "text": [
      "che'\n",
      "12/27/2020 21:07:28 - INFO - azure.core.pipeline.policies.http_logging_policy -       'Pragma': 'no-cache'\n",
      "12/27/2020 21:07:28 - INFO - azure.core.pipeline.policies.http_logging_policy -       'Content-Type': 'application/json; odata.metadata=none'\n",
      "12/27/2020 21:07:28 - INFO - azure.core.pipeline.policies.http_logging_policy -       'Content-Encoding': 'REDACTED'\n",
      "12/27/2020 21:07:28 - INFO - azure.core.pipeline.policies.http_logging_policy -       'Expires': '-1'\n",
      "12/27/2020 21:07:28 - INFO - azure.core.pipeline.policies.http_logging_policy -       'Vary': 'REDACTED'\n",
      "12/27/2020 21:07:28 - INFO - azure.core.pipeline.policies.http_logging_policy -       'request-id': '23b1afac-487f-11eb-9b7a-74e5f9d04c29'\n",
      "12/27/2020 21:07:28 - INFO - azure.core.pipeline.policies.http_logging_policy -       'elapsed-time': 'REDACTED'\n",
      "12/27/2020 21:07:28 - INFO - azure.core.pipeline.policies.http_logging_policy -       'OData-Version': 'REDACTED'\n",
      "12/27/2020 21:07:28 - INFO - azure.core.pipeline.policies.http_logging_policy -       'Preference-Applied': 'REDACTED'\n",
      "12/27/2020 21:07:28 - INFO - azure.core.pipeline.policies.http_logging_policy -       'Strict-Transport-Security': 'REDACTED'\n",
      "12/27/2020 21:07:28 - INFO - azure.core.pipeline.policies.http_logging_policy -       'Date': 'Sun, 27 Dec 2020 20:07:27 GMT'\n",
      "12/27/2020 21:07:28 - INFO - azure.core.pipeline.policies.http_logging_policy -       'Content-Length': '1589'\n",
      "12/27/2020 21:07:28 - INFO - azure.core.pipeline.policies.http_logging_policy -   Request URL: \"https://ne-bobby-search.search.windows.net/indexes('evaluate-squad-data')/docs/search.post.search?api-version=REDACTED\"\n",
      "12/27/2020 21:07:28 - INFO - azure.core.pipeline.policies.http_logging_policy -   Request method: 'POST'\n",
      "12/27/2020 21:07:28 - INFO - azure.core.pipeline.policies.http_logging_policy -   Request headers:\n",
      "12/27/2020 21:07:28 - INFO - azure.core.pipeline.policies.http_logging_policy -       'Content-Type': 'application/json'\n",
      "12/27/2020 21:07:28 - INFO - azure.core.pipeline.policies.http_logging_policy -       'Accept': 'application/json;odata.metadata=none'\n",
      "12/27/2020 21:07:28 - INFO - azure.core.pipeline.policies.http_logging_policy -       'Content-Length': '127'\n",
      "12/27/2020 21:07:28 - INFO - azure.core.pipeline.policies.http_logging_policy -       'x-ms-client-request-id': '24eaa064-487f-11eb-9b7a-74e5f9d04c29'\n",
      "12/27/2020 21:07:28 - INFO - azure.core.pipeline.policies.http_logging_policy -       'api-key': 'REDACTED'\n",
      "12/27/2020 21:07:28 - INFO - azure.core.pipeline.policies.http_logging_policy -       'User-Agent': 'azsdk-python-search-documents/11.0.0 Python/3.8.1 (Linux-5.4.0-58-generic-x86_64-with-glibc2.27)'\n",
      "12/27/2020 21:07:28 - INFO - azure.core.pipeline.policies.http_logging_policy -   A body is sent with the request\n",
      "12/27/2020 21:07:28 - INFO - azure.core.pipeline.policies.http_logging_policy -   Response status: 200\n",
      "12/27/2020 21:07:28 - INFO - azure.core.pipeline.policies.http_logging_policy -   Response headers:\n",
      "12/27/2020 21:07:28 - INFO - azure.core.pipeline.policies.http_logging_policy -       'Cache-Control': 'no-cache'\n",
      "12/27/2020 21:07:28 - INFO - azure.core.pipeline.policies.http_logging_policy -       'Pragma': 'no-cache'\n",
      "12/27/2020 21:07:28 - INFO - azure.core.pipeline.policies.http_logging_policy -       'Content-Type': 'application/json; odata.metadata=none'\n",
      "12/27/2020 21:07:28 - INFO - azure.core.pipeline.policies.http_logging_policy -       'Content-Encoding': 'REDACTED'\n",
      "12/27/2020 21:07:28 - INFO - azure.core.pipeline.policies.http_logging_policy -       'Expires': '-1'\n",
      "12/27/2020 21:07:28 - INFO - azure.core.pipeline.policies.http_logging_policy -       'Vary': 'REDACTED'\n",
      "12/27/2020 21:07:28 - INFO - azure.core.pipeline.policies.http_logging_policy -       'request-id': '24eaa064-487f-11eb-9b7a-74e5f9d04c29'\n",
      "12/27/2020 21:07:28 - INFO - azure.core.pipeline.policies.http_logging_policy -       'elapsed-time': 'REDACTED'\n",
      "12/27/2020 21:07:28 - INFO - azure.core.pipeline.policies.http_logging_policy -       'OData-Version': 'REDACTED'\n",
      "12/27/2020 21:07:28 - INFO - azure.core.pipeline.policies.http_logging_policy -       'Preference-Applied': 'REDACTED'\n",
      "12/27/2020 21:07:28 - INFO - azure.core.pipeline.policies.http_logging_policy -       'Strict-Transport-Security': 'REDACTED'\n",
      "12/27/2020 21:07:28 - INFO - azure.core.pipeline.policies.http_logging_policy -       'Date': 'Sun, 27 Dec 2020 20:07:29 GMT'\n",
      "12/27/2020 21:07:28 - INFO - azure.core.pipeline.policies.http_logging_policy -       'Content-Length': '1301'\n",
      "12/27/2020 21:07:28 - INFO - azure.core.pipeline.policies.http_logging_policy -   Request URL: \"https://ne-bobby-search.search.windows.net/indexes('evaluate-squad-data')/docs/search.post.search?api-version=REDACTED\"\n",
      "12/27/2020 21:07:28 - INFO - azure.core.pipeline.policies.http_logging_policy -   Request method: 'POST'\n",
      "12/27/2020 21:07:28 - INFO - azure.core.pipeline.policies.http_logging_policy -   Request headers:\n",
      "12/27/2020 21:07:28 - INFO - azure.core.pipeline.policies.http_logging_policy -       'Content-Type': 'application/json'\n",
      "12/27/2020 21:07:28 - INFO - azure.core.pipeline.policies.http_logging_policy -       'Accept': 'application/json;odata.metadata=none'\n",
      "12/27/2020 21:07:28 - INFO - azure.core.pipeline.policies.http_logging_policy -       'Content-Length': '112'\n",
      "12/27/2020 21:07:28 - INFO - azure.core.pipeline.policies.http_logging_policy -       'x-ms-client-request-id': '24eaa065-487f-11eb-9b7a-74e5f9d04c29'\n",
      "12/27/2020 21:07:28 - INFO - azure.core.pipeline.policies.http_logging_policy -       'api-key': 'REDACTED'\n",
      "12/27/2020 21:07:28 - INFO - azure.core.pipeline.policies.http_logging_policy -       'User-Agent': 'azsdk-python-search-documents/11.0.0 Python/3.8.1 (Linux-5.4.0-58-generic-x86_64-with-glibc2.27)'\n",
      "12/27/2020 21:07:28 - INFO - azure.core.pipeline.policies.http_logging_policy -   A body is sent with the request\n",
      "12/27/2020 21:07:28 - INFO - azure.core.pipeline.policies.http_logging_policy -   Response status: 200\n",
      "12/27/2020 21:07:28 - INFO - azure.core.pipeline.policies.http_logging_policy -   Response headers:\n",
      "12/27/2020 21:07:28 - INFO - azure.core.pipeline.policies.http_logging_policy -       'Cache-Control': 'no-cache'\n",
      "12/27/2020 21:07:28 - INFO - azure.core.pipeline.policies.http_logging_policy -       'Pragma': 'no-cache'\n",
      "12/27/2020 21:07:28 - INFO - azure.core.pipeline.policies.http_logging_policy -       'Content-Type': 'application/json; odata.metadata=none'\n",
      "12/27/2020 21:07:28 - INFO - azure.core.pipeline.policies.http_logging_policy -       'Content-Encoding': 'REDACTED'\n",
      "12/27/2020 21:07:28 - INFO - azure.core.pipeline.policies.http_logging_policy -       'Expires': '-1'\n",
      "12/27/2020 21:07:28 - INFO - azure.core.pipeline.policies.http_logging_policy -       'Vary': 'REDACTED'\n",
      "12/27/2020 21:07:28 - INFO - azure.core.pipeline.policies.http_logging_policy -       'request-id': '24eaa065-487f-11eb-9b7a-74e5f9d04c29'\n",
      "12/27/2020 21:07:28 - INFO - azure.core.pipeline.policies.http_logging_policy -       'elapsed-time': 'REDACTED'\n",
      "12/27/2020 21:07:28 - INFO - azure.core.pipeline.policies.http_logging_policy -       'OData-Version': 'REDACTED'\n",
      "12/27/2020 21:07:28 - INFO - azure.core.pipeline.policies.http_logging_policy -       'Preference-Applied': 'REDACTED'\n",
      "12/27/2020 21:07:28 - INFO - azure.core.pipeline.policies.http_logging_policy -       'Strict-Transport-Security': 'REDACTED'\n",
      "12/27/2020 21:07:28 - INFO - azure.core.pipeline.policies.http_logging_policy -       'Date': 'Sun, 27 Dec 2020 20:07:29 GMT'\n",
      "12/27/2020 21:07:28 - INFO - azure.core.pipeline.policies.http_logging_policy -       'Content-Length': '1471'\n",
      "12/27/2020 21:07:28 - INFO - azure.core.pipeline.policies.http_logging_policy -   Request URL: \"https://ne-bobby-search.search.windows.net/indexes('evaluate-squad-data')/docs/search.post.search?api-version=REDACTED\"\n",
      "12/27/2020 21:07:28 - INFO - azure.core.pipeline.policies.http_logging_policy -   Request method: 'POST'\n",
      "12/27/2020 21:07:28 - INFO - azure.core.pipeline.policies.http_logging_policy -   Request headers:\n",
      "12/27/2020 21:07:28 - INFO - azure.core.pipeline.policies.http_logging_policy -       'Content-Type': 'application/json'\n",
      "12/27/2020 21:07:28 - INFO - azure.core.pipeline.policies.http_logging_policy -       'Accept': 'application/json;odata.metadata=none'\n",
      "12/27/2020 21:07:28 - INFO - azure.core.pipeline.policies.http_logging_policy -       'Content-Length': '87'\n",
      "12/27/2020 21:07:28 - INFO - azure.core.pipeline.policies.http_logging_policy -       'x-ms-client-request-id': '24eaa066-487f-11eb-9b7a-74e5f9d04c29'\n",
      "12/27/2020 21:07:28 - INFO - azure.core.pipeline.policies.http_logging_policy -       'api-key': 'REDACTED'\n",
      "12/27/2020 21:07:28 - INFO - azure.core.pipeline.policies.http_logging_policy -       'User-Agent': 'azsdk-python-search-documents/11.0.0 Python/3.8.1 (Linux-5.4.0-58-generic-x86_64-with-glibc2.27)'\n",
      "12/27/2020 21:07:28 - INFO - azure.core.pipeline.policies.http_logging_policy -   A body is sent with the request\n",
      "12/27/2020 21:07:29 - INFO - azure.core.pipeline.policies.http_logging_policy -   Response status: 200\n",
      "12/27/2020 21:07:29 - INFO - azure.core.pipeline.policies.http_logging_policy -   Response headers:\n",
      "12/27/2020 21:07:29 - INFO - azure.core.pipeline.policies.http_logging_policy -       'Cache-Control': 'no-cache'\n",
      "12/27/2020 21:07:29 - INFO - azure.core.pipeline.policies.http_logging_policy -       'Pragma': 'no-cache'\n",
      "12/27/2020 21:07:29 - INFO - azure.core.pipeline.policies.http_logging_policy -       'Content-Type': 'application/json; odata.metadata=none'\n",
      "12/27/2020 21:07:29 - INFO - azure.core.pipeline.policies.http_logging_policy -       'Content-Encoding': 'REDACTED'\n",
      "12/27/2020 21:07:29 - INFO - azure.core.pipeline.policies.http_logging_policy -       'Expires': '-1'\n",
      "12/27/2020 21:07:29 - INFO - azure.core.pipeline.policies.http_logging_policy -       'Vary': 'REDACTED'\n",
      "12/27/2020 21:07:29 - INFO - azure.core.pipeline.policies.http_logging_policy -       'request-id': '24eaa066-487f-11eb-9b7a-74e5f9d04c29'\n",
      "12/27/2020 21:07:29 - INFO - azure.core.pipeline.policies.http_logging_policy -       'elapsed-time': 'REDACTED'\n",
      "12/27/2020 21:07:29 - INFO - azure.core.pipeline.policies.http_logging_policy -       'OData-Version': 'REDACTED'\n",
      "12/27/2020 21:07:29 - INFO - azure.core.pipeline.policies.http_logging_policy -       'Preference-Applied': 'REDACTED'\n",
      "12/27/2020 21:07:29 - INFO - azure.core.pipeline.policies.http_logging_policy -       'Strict-Transport-Security': 'REDACTED'\n",
      "12/27/2020 21:07:29 - INFO - azure.core.pipeline.policies.http_logging_policy -       'Date': 'Sun, 27 Dec 2020 20:07:29 GMT'\n",
      "12/27/2020 21:07:29 - INFO - azure.core.pipeline.policies.http_logging_policy -       'Content-Length': '1892'\n",
      "12/27/2020 21:07:29 - INFO - azure.core.pipeline.policies.http_logging_policy -   Request URL: \"https://ne-bobby-search.search.windows.net/indexes('evaluate-squad-data')/docs/search.post.search?api-version=REDACTED\"\n",
      "12/27/2020 21:07:29 - INFO - azure.core.pipeline.policies.http_logging_policy -   Request method: 'POST'\n",
      "12/27/2020 21:07:29 - INFO - azure.core.pipeline.policies.http_logging_policy -   Request headers:\n",
      "12/27/2020 21:07:29 - INFO - azure.core.pipeline.policies.http_logging_policy -       'Content-Type': 'application/json'\n",
      "12/27/2020 21:07:29 - INFO - azure.core.pipeline.policies.http_logging_policy -       'Accept': 'application/json;odata.metadata=none'\n",
      "12/27/2020 21:07:29 - INFO - azure.core.pipeline.policies.http_logging_policy -       'Content-Length': '99'\n",
      "12/27/2020 21:07:29 - INFO - azure.core.pipeline.policies.http_logging_policy -       'x-ms-client-request-id': '24eaa067-487f-11eb-9b7a-74e5f9d04c29'\n",
      "12/27/2020 21:07:29 - INFO - azure.core.pipeline.policies.http_logging_policy -       'api-key': 'REDACTED'\n",
      "12/27/2020 21:07:29 - INFO - azure.core.pipeline.policies.http_logging_policy -       'User-Agent': 'azsdk-python-search-documents/11.0.0 Python/3.8.1 (Linux-5.4.0-58-generic-x86_64-with-glibc2.27)'\n",
      "12/27/2020 21:07:29 - INFO - azure.core.pipeline.policies.http_logging_policy -   A body is sent with the request\n",
      "12/27/2020 21:07:29 - INFO - azure.core.pipeline.policies.http_logging_policy -   Response status: 200\n",
      "12/27/2020 21:07:29 - INFO - azure.core.pipeline.policies.http_logging_policy -   Response headers:\n",
      "12/27/2020 21:07:29 - INFO - azure.core.pipeline.policies.http_logging_policy -       'Cache-Control': 'no-cache'\n",
      "12/27/2020 21:07:29 - INFO - azure.core.pipeline.policies.http_logging_policy -       'Pragma': 'no-cache'\n",
      "12/27/2020 21:07:29 - INFO - azure.core.pipeline.policies.http_logging_policy -       'Content-Type': 'application/json; odata.metadata=none'\n",
      "12/27/2020 21:07:29 - INFO - azure.core.pipeline.policies.http_logging_policy -       'Content-Encoding': 'REDACTED'\n",
      "12/27/2020 21:07:29 - INFO - azure.core.pipeline.policies.http_logging_policy -       'Expires': '-1'\n",
      "12/27/2020 21:07:29 - INFO - azure.core.pipeline.policies.http_logging_policy -       'Vary': 'REDACTED'\n",
      "12/27/2020 21:07:29 - INFO - azure.core.pipeline.policies.http_logging_policy -       'request-id': '24eaa067-487f-11eb-9b7a-74e5f9d04c29'\n",
      "12/27/2020 21:07:29 - INFO - azure.core.pipeline.policies.http_logging_policy -       'elapsed-time': 'REDACTED'\n",
      "12/27/2020 21:07:29 - INFO - azure.core.pipeline.policies.http_logging_policy -       'OData-Version': 'REDACTED'\n",
      "12/27/2020 21:07:29 - INFO - azure.core.pipeline.policies.http_logging_policy -       'Preference-Applied': 'REDACTED'\n",
      "12/27/2020 21:07:29 - INFO - azure.core.pipeline.policies.http_logging_policy -       'Strict-Transport-Security': 'REDACTED'\n",
      "12/27/2020 21:07:29 - INFO - azure.core.pipeline.policies.http_logging_policy -       'Date': 'Sun, 27 Dec 2020 20:07:30 GMT'\n",
      "12/27/2020 21:07:29 - INFO - azure.core.pipeline.policies.http_logging_policy -       'Content-Length': '1931'\n",
      "12/27/2020 21:07:29 - INFO - azure.core.pipeline.policies.http_logging_policy -   Request URL: \"https://ne-bobby-search.search.windows.net/indexes('evaluate-squad-data')/docs/search.post.search?api-version=REDACTED\"\n",
      "12/27/2020 21:07:29 - INFO - azure.core.pipeline.policies.http_logging_policy -   Request method: 'POST'\n",
      "12/27/2020 21:07:29 - INFO - azure.core.pipeline.policies.http_logging_policy -   Request headers:\n",
      "12/27/2020 21:07:29 - INFO - azure.core.pipeline.policies.http_logging_policy -       'Content-Type': 'application/json'\n",
      "12/27/2020 21:07:29 - INFO - azure.core.pipeline.policies.http_logging_policy -       'Accept': 'application/json;odata.metadata=none'\n",
      "12/27/2020 21:07:29 - INFO - azure.core.pipeline.policies.http_logging_policy -       'Content-Length': '106'\n",
      "12/27/2020 21:07:29 - INFO - azure.core.pipeline.policies.http_logging_policy -       'x-ms-client-request-id': '24eaa068-487f-11eb-9b7a-74e5f9d04c29'\n",
      "12/27/2020 21:07:29 - INFO - azure.core.pipeline.policies.http_logging_policy -       'api-key': 'REDACTED'\n",
      "12/27/2020 21:07:29 - INFO - azure.core.pipeline.policies.http_logging_policy -       'User-Agent': 'azsdk-python-search-documents/11.0.0 Python/3.8.1 (Linux-5.4.0-58-generic-x86_64-with-glibc2.27)'\n",
      "12/27/2020 21:07:29 - INFO - azure.core.pipeline.policies.http_logging_policy -   A body is sent with the request\n",
      "12/27/2020 21:07:30 - INFO - azure.core.pipeline.policies.http_logging_policy -   Response status: 200\n",
      "12/27/2020 21:07:30 - INFO - azure.core.pipeline.policies.http_logging_policy -   Response headers:\n",
      "12/27/2020 21:07:30 - INFO - azure.core.pipeline.policies.http_logging_policy -       'Cache-Control': 'no-cache'\n",
      "12/27/2020 21:07:30 - INFO - azure.core.pipeline.policies.http_logging_policy -       'Pragma': 'no-cache'\n",
      "12/27/2020 21:07:30 - INFO - azure.core.pipeline.policies.http_logging_policy -       'Content-Type': 'application/json; odata.metadata=none'\n",
      "12/27/2020 21:07:30 - INFO - azure.core.pipeline.policies.http_logging_policy -       'Content-Encoding': 'REDACTED'\n",
      "12/27/2020 21:07:30 - INFO - azure.core.pipeline.policies.http_logging_policy -       'Expires': '-1'\n",
      "12/27/2020 21:07:30 - INFO - azure.core.pipeline.policies.http_logging_policy -       'Vary': 'REDACTED'\n",
      "12/27/2020 21:07:30 - INFO - azure.core.pipeline.policies.http_logging_policy -       'request-id': '24eaa068-487f-11eb-9b7a-74e5f9d04c29'\n",
      "12/27/2020 21:07:30 - INFO - azure.core.pipeline.policies.http_logging_policy -       'elapsed-time': 'REDACTED'\n",
      "12/27/2020 21:07:30 - INFO - azure.core.pipeline.policies.http_logging_policy -       'OData-Version': 'REDACTED'\n",
      "12/27/2020 21:07:30 - INFO - azure.core.pipeline.policies.http_logging_policy -       'Preference-Applied': 'REDACTED'\n",
      "12/27/2020 21:07:30 - INFO - azure.core.pipeline.policies.http_logging_policy -       'Strict-Transport-Security': 'REDACTED'\n",
      "12/27/2020 21:07:30 - INFO - azure.core.pipeline.policies.http_logging_policy -       'Date': 'Sun, 27 Dec 2020 20:07:30 GMT'\n",
      "12/27/2020 21:07:30 - INFO - azure.core.pipeline.policies.http_logging_policy -       'Content-Length': '1737'\n",
      "12/27/2020 21:07:30 - INFO - azure.core.pipeline.policies.http_logging_policy -   Request URL: \"https://ne-bobby-search.search.windows.net/indexes('evaluate-squad-data')/docs/search.post.search?api-version=REDACTED\"\n",
      "12/27/2020 21:07:30 - INFO - azure.core.pipeline.policies.http_logging_policy -   Request method: 'POST'\n",
      "12/27/2020 21:07:30 - INFO - azure.core.pipeline.policies.http_logging_policy -   Request headers:\n",
      "12/27/2020 21:07:30 - INFO - azure.core.pipeline.policies.http_logging_policy -       'Content-Type': 'application/json'\n",
      "12/27/2020 21:07:30 - INFO - azure.core.pipeline.policies.http_logging_policy -       'Accept': 'application/json;odata.metadata=none'\n",
      "12/27/2020 21:07:30 - INFO - azure.core.pipeline.policies.http_logging_policy -       'Content-Length': '110'\n",
      "12/27/2020 21:07:30 - INFO - azure.core.pipeline.policies.http_logging_policy -       'x-ms-client-request-id': '260dce12-487f-11eb-9b7a-74e5f9d04c29'\n",
      "12/27/2020 21:07:30 - INFO - azure.core.pipeline.policies.http_logging_policy -       'api-key': 'REDACTED'\n",
      "12/27/2020 21:07:30 - INFO - azure.core.pipeline.policies.http_logging_policy -       'User-Agent': 'azsdk-python-search-documents/11.0.0 Python/3.8.1 (Linux-5.4.0-58-generic-x86_64-with-glibc2.27)'\n",
      "12/27/2020 21:07:30 - INFO - azure.core.pipeline.policies.http_logging_policy -   A body is sent with the request\n",
      "12/27/2020 21:07:30 - INFO - azure.core.pipeline.policies.http_logging_policy -   Response status: 200\n",
      "12/27/2020 21:07:30 - INFO - azure.core.pipeline.policies.http_logging_policy -   Response headers:\n",
      "12/27/2020 21:07:30 - INFO - azure.core.pipeline.policies.http_logging_policy -       'Cache-Control': 'no-cache'\n",
      "12/27/2020 21:07:30 - INFO - azure.core.pipeline.policies.http_logging_policy -       'Pragma': 'no-cache'\n",
      "12/27/2020 21:07:30 - INFO - azure.core.pipeline.policies.http_logging_policy -       'Content-Type': 'application/json; odata.metadata=none'\n",
      "12/27/2020 21:07:30 - INFO - azure.core.pipeline.policies.http_logging_policy -       'Content-Encoding': 'REDACTED'\n",
      "12/27/2020 21:07:30 - INFO - azure.core.pipeline.policies.http_logging_policy -       'Expires': '-1'\n",
      "12/27/2020 21:07:30 - INFO - azure.core.pipeline.policies.http_logging_policy -       'Vary': 'REDACTED'\n",
      "12/27/2020 21:07:30 - INFO - azure.core.pipeline.policies.http_logging_policy -       'request-id': '260dce12-487f-11eb-9b7a-74e5f9d04c29'\n",
      "12/27/2020 21:07:30 - INFO - azure.core.pipeline.policies.http_logging_policy -       'elapsed-time': 'REDACTED'\n",
      "12/27/2020 21:07:30 - INFO - azure.core.pipeline.policies.http_logging_policy -       'OData-Version': 'REDACTED'\n",
      "12/27/2020 21:07:30 - INFO - azure.core.pipeline.policies.http_logging_policy -       'Preference-Applied': 'REDACTED'\n",
      "12/27/2020 21:07:30 - INFO - azure.core.pipeline.policies.http_logging_policy -       'Strict-Transport-Security': 'REDACTED'\n",
      "12/27/2020 21:07:30 - INFO - azure.core.pipeline.policies.http_logging_policy -       'Date': 'Sun, 27 Dec 2020 20:07:30 GMT'\n",
      "12/27/2020 21:07:30 - INFO - azure.core.pipeline.policies.http_logging_policy -       'Content-Length': '1097'\n"
     ]
    }
   ],
   "source": [
    "metric=eval(labels_frame=labels_frame, top_k=3, index_name=index_name)"
   ]
  },
  {
   "cell_type": "code",
   "execution_count": 9,
   "metadata": {},
   "outputs": [
    {
     "output_type": "execute_result",
     "data": {
      "text/plain": [
       "{'correct_retrievals': 0, 'recall': 0.0, 'top_k': 3}"
      ]
     },
     "metadata": {},
     "execution_count": 9
    }
   ],
   "source": [
    "metric"
   ]
  },
  {
   "cell_type": "code",
   "execution_count": 10,
   "metadata": {},
   "outputs": [
    {
     "output_type": "stream",
     "name": "stderr",
     "text": [
      "12/27/2020 21:09:42 - INFO - azure.core.pipeline.policies.http_logging_policy -   Request URL: \"https://ne-bobby-search.search.windows.net/indexes('evaluate-squad-data')/docs/search.post.search?api-version=REDACTED\"\n",
      "12/27/2020 21:09:42 - INFO - azure.core.pipeline.policies.http_logging_policy -   Request method: 'POST'\n",
      "12/27/2020 21:09:42 - INFO - azure.core.pipeline.policies.http_logging_policy -   Request headers:\n",
      "12/27/2020 21:09:42 - INFO - azure.core.pipeline.policies.http_logging_policy -       'Content-Type': 'application/json'\n",
      "12/27/2020 21:09:42 - INFO - azure.core.pipeline.policies.http_logging_policy -       'Accept': 'application/json;odata.metadata=none'\n",
      "12/27/2020 21:09:42 - INFO - azure.core.pipeline.policies.http_logging_policy -       'Content-Length': '103'\n",
      "12/27/2020 21:09:42 - INFO - azure.core.pipeline.policies.http_logging_policy -       'x-ms-client-request-id': '752e048a-487f-11eb-9b7a-74e5f9d04c29'\n",
      "12/27/2020 21:09:42 - INFO - azure.core.pipeline.policies.http_logging_policy -       'api-key': 'REDACTED'\n",
      "12/27/2020 21:09:42 - INFO - azure.core.pipeline.policies.http_logging_policy -       'User-Agent': 'azsdk-python-search-documents/11.0.0 Python/3.8.1 (Linux-5.4.0-58-generic-x86_64-with-glibc2.27)'\n",
      "12/27/2020 21:09:42 - INFO - azure.core.pipeline.policies.http_logging_policy -   A body is sent with the request\n",
      "12/27/2020 21:09:43 - INFO - azure.core.pipeline.policies.http_logging_policy -   Response status: 200\n",
      "12/27/2020 21:09:43 - INFO - azure.core.pipeline.policies.http_logging_policy -   Response headers:\n",
      "12/27/2020 21:09:43 - INFO - azure.core.pipeline.policies.http_logging_policy -       'Cache-Control': 'no-cache'\n",
      "12/27/2020 21:09:43 - INFO - azure.core.pipeline.policies.http_logging_policy -       'Pragma': 'no-cache'\n",
      "12/27/2020 21:09:43 - INFO - azure.core.pipeline.policies.http_logging_policy -       'Content-Type': 'application/json; odata.metadata=none'\n",
      "12/27/2020 21:09:43 - INFO - azure.core.pipeline.policies.http_logging_policy -       'Content-Encoding': 'REDACTED'\n",
      "12/27/2020 21:09:43 - INFO - azure.core.pipeline.policies.http_logging_policy -       'Expires': '-1'\n",
      "12/27/2020 21:09:43 - INFO - azure.core.pipeline.policies.http_logging_policy -       'Vary': 'REDACTED'\n",
      "12/27/2020 21:09:43 - INFO - azure.core.pipeline.policies.http_logging_policy -       'request-id': '752e048a-487f-11eb-9b7a-74e5f9d04c29'\n",
      "12/27/2020 21:09:43 - INFO - azure.core.pipeline.policies.http_logging_policy -       'elapsed-time': 'REDACTED'\n",
      "12/27/2020 21:09:43 - INFO - azure.core.pipeline.policies.http_logging_policy -       'OData-Version': 'REDACTED'\n",
      "12/27/2020 21:09:43 - INFO - azure.core.pipeline.policies.http_logging_policy -       'Preference-Applied': 'REDACTED'\n",
      "12/27/2020 21:09:43 - INFO - azure.core.pipeline.policies.http_logging_policy -       'Strict-Transport-Security': 'REDACTED'\n",
      "12/27/2020 21:09:43 - INFO - azure.core.pipeline.policies.http_logging_policy -       'Date': 'Sun, 27 Dec 2020 20:09:44 GMT'\n",
      "12/27/2020 21:09:43 - INFO - azure.core.pipeline.policies.http_logging_policy -       'Content-Length': '1849'\n"
     ]
    }
   ],
   "source": [
    "result=find_text(query=labels_frame[\"question\"].iloc[1], idx_name=index_name, top_k=3)"
   ]
  },
  {
   "cell_type": "code",
   "execution_count": 11,
   "metadata": {},
   "outputs": [
    {
     "output_type": "execute_result",
     "data": {
      "text/plain": [
       "[{'Id': 'a4d978bd-6ad5-48c9-84c1-ce62a6c0c5f7',\n",
       "  'Score': 14.339582,\n",
       "  'text': 'Beyoncé names Michael Jackson as her major musical influence. Aged five, Beyoncé attended her first ever concert where Jackson performed and she claims to have realised her purpose. When she presented him with a tribute award at the World Music Awards in 2006, Beyoncé said, \"if it wasn\\'t for Michael Jackson, I would never ever have performed.\" She admires Diana Ross as an \"all-around entertainer\" and Whitney Houston, who she said \"inspired me to get up there and do what she did.\" She credits Mariah Carey\\'s singing and her song \"Vision of Love\" as influencing her to begin practicing vocal runs as a child. Her other musical influences include Aaliyah, Prince, Lauryn Hill, Sade Adu, Donna Summer, Mary J. Blige, Janet Jackson, Anita Baker and Rachelle Ferrell.'},\n",
       " {'Id': '65bdc8a9-1626-4d9e-b3a8-62566940f88e',\n",
       "  'Score': 13.692284,\n",
       "  'text': 'In August, the couple attended the 2011 MTV Video Music Awards, at which Beyoncé performed \"Love on Top\" and started the performance saying \"Tonight I want you to stand up on your feet, I want you to feel the love that\\'s growing inside of me\". At the end of the performance, she dropped her microphone, unbuttoned her blazer and rubbed her stomach, confirming her pregnancy she had alluded to earlier in the evening. Her appearance helped that year\\'s MTV Video Music Awards become the most-watched broadcast in MTV history, pulling in 12.4 million viewers; the announcement was listed in Guinness World Records for \"most tweets per second recorded for a single event\" on Twitter, receiving 8,868 tweets per second and \"Beyonce pregnant\" was the most Googled term the week of August 29, 2011.'},\n",
       " {'Id': 'fc894d76-05c2-4420-9c66-7b59c686f2fe',\n",
       "  'Score': 12.182626,\n",
       "  'text': 'West demonstrated an affinity for the arts at an early age; he began writing poetry when he was five years old. His mother recalled that she first took notice of West\\'s passion for drawing and music when he was in the third grade. Growing up in the city,[which?] West became deeply involved in its hip hop scene. He started rapping in the third grade and began making musical compositions in the seventh grade, eventually selling them to other artists. At age thirteen, West wrote a rap song called \"Green Eggs and Ham\" and began to persuade his mother to pay $25 an hour for time in a recording studio. It was a small, crude basement studio where a microphone hung from the ceiling by a wire clothes hanger. Although this wasn\\'t what West\\'s mother wanted, she nonetheless supported him. West crossed paths with producer/DJ No I.D., with whom he quickly formed a close friendship. No I.D. soon became West\\'s mentor, and it was from him that West learned how to sample and program beats after he received his first sampler at age 15.'}]"
      ]
     },
     "metadata": {},
     "execution_count": 11
    }
   ],
   "source": [
    "result"
   ]
  },
  {
   "cell_type": "code",
   "execution_count": 12,
   "metadata": {},
   "outputs": [
    {
     "output_type": "execute_result",
     "data": {
      "text/plain": [
       "                                     Id  \\\n",
       "0  b194c430-66de-49e4-a167-9bbf8e693ec4   \n",
       "1  b194c430-66de-49e4-a167-9bbf8e693ec4   \n",
       "2  b194c430-66de-49e4-a167-9bbf8e693ec4   \n",
       "3  b194c430-66de-49e4-a167-9bbf8e693ec4   \n",
       "4  b194c430-66de-49e4-a167-9bbf8e693ec4   \n",
       "\n",
       "                                                           question  \n",
       "0                          When did Beyonce start becoming popular?  \n",
       "1        What areas did Beyonce compete in when she was growing up?  \n",
       "2  When did Beyonce leave Destiny's Child and become a solo singer?  \n",
       "3                     In what city and state did Beyonce  grow up?   \n",
       "4                        In which decade did Beyonce become famous?  "
      ],
      "text/html": "<div>\n<style scoped>\n    .dataframe tbody tr th:only-of-type {\n        vertical-align: middle;\n    }\n\n    .dataframe tbody tr th {\n        vertical-align: top;\n    }\n\n    .dataframe thead th {\n        text-align: right;\n    }\n</style>\n<table border=\"1\" class=\"dataframe\">\n  <thead>\n    <tr style=\"text-align: right;\">\n      <th></th>\n      <th>Id</th>\n      <th>question</th>\n    </tr>\n  </thead>\n  <tbody>\n    <tr>\n      <th>0</th>\n      <td>b194c430-66de-49e4-a167-9bbf8e693ec4</td>\n      <td>When did Beyonce start becoming popular?</td>\n    </tr>\n    <tr>\n      <th>1</th>\n      <td>b194c430-66de-49e4-a167-9bbf8e693ec4</td>\n      <td>What areas did Beyonce compete in when she was growing up?</td>\n    </tr>\n    <tr>\n      <th>2</th>\n      <td>b194c430-66de-49e4-a167-9bbf8e693ec4</td>\n      <td>When did Beyonce leave Destiny's Child and become a solo singer?</td>\n    </tr>\n    <tr>\n      <th>3</th>\n      <td>b194c430-66de-49e4-a167-9bbf8e693ec4</td>\n      <td>In what city and state did Beyonce  grow up?</td>\n    </tr>\n    <tr>\n      <th>4</th>\n      <td>b194c430-66de-49e4-a167-9bbf8e693ec4</td>\n      <td>In which decade did Beyonce become famous?</td>\n    </tr>\n  </tbody>\n</table>\n</div>"
     },
     "metadata": {},
     "execution_count": 12
    }
   ],
   "source": [
    "labels_frame.head()"
   ]
  },
  {
   "cell_type": "code",
   "execution_count": null,
   "metadata": {},
   "outputs": [],
   "source": []
  }
 ]
}