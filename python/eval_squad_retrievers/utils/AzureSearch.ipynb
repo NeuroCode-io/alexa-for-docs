{
 "metadata": {
  "language_info": {
   "codemirror_mode": {
    "name": "ipython",
    "version": 3
   },
   "file_extension": ".py",
   "mimetype": "text/x-python",
   "name": "python",
   "nbconvert_exporter": "python",
   "pygments_lexer": "ipython3",
   "version": "3.8.1-final"
  },
  "orig_nbformat": 2,
  "kernelspec": {
   "name": "python3",
   "display_name": "Python 3",
   "language": "python"
  }
 },
 "nbformat": 4,
 "nbformat_minor": 2,
 "cells": [
  {
   "cell_type": "code",
   "execution_count": 1,
   "metadata": {},
   "outputs": [],
   "source": [
    "from az_utils import create_idx, insert_docs, find_text, eval, label_to_frame"
   ]
  },
  {
   "cell_type": "code",
   "execution_count": 2,
   "metadata": {},
   "outputs": [
    {
     "output_type": "stream",
     "name": "stderr",
     "text": [
      "01/05/2021 13:53:48 - INFO - faiss -   Loading faiss with AVX2 support.\n",
      "01/05/2021 13:53:48 - INFO - faiss -   Loading faiss.\n"
     ]
    }
   ],
   "source": [
    "from utils import load_and_prepare_data\n",
    "\n",
    "filename = \"../data/train-v2.0.json\"\n",
    "doc_index = \"evaluation_docs\"\n",
    "label_index = \"evaluation_labels\"\n",
    "\n",
    "docs, labels = load_and_prepare_data(filename)"
   ]
  },
  {
   "cell_type": "code",
   "execution_count": 3,
   "metadata": {},
   "outputs": [],
   "source": [
    "dicts=[]\n",
    "for i in range(len(docs)):\n",
    "    entry=docs[i].to_dict()\n",
    "    dicts.append({\"Id\": entry[\"id\"], \"text\": entry[\"text\"]})"
   ]
  },
  {
   "cell_type": "code",
   "execution_count": 5,
   "metadata": {},
   "outputs": [],
   "source": [
    "dicts_labels=[]\n",
    "for i in range(len(labels)):\n",
    "    entry=labels[i].to_dict()\n",
    "    dicts_labels.append({\"Id\": entry[\"document_id\"], \"question\": entry[\"question\"]})"
   ]
  },
  {
   "cell_type": "code",
   "execution_count": 6,
   "metadata": {},
   "outputs": [],
   "source": [
    "index_name=\"evaluate-squad-data\""
   ]
  },
  {
   "cell_type": "code",
   "execution_count": 7,
   "metadata": {},
   "outputs": [
    {
     "output_type": "stream",
     "name": "stderr",
     "text": [
      "01/05/2021 13:54:04 - INFO - azure.core.pipeline.policies.http_logging_policy -   Request URL: 'https://ne-prod-search.search.windows.net/indexes?api-version=REDACTED'\n",
      "01/05/2021 13:54:04 - INFO - azure.core.pipeline.policies.http_logging_policy -   Request method: 'POST'\n",
      "01/05/2021 13:54:04 - INFO - azure.core.pipeline.policies.http_logging_policy -   Request headers:\n",
      "01/05/2021 13:54:04 - INFO - azure.core.pipeline.policies.http_logging_policy -       'Content-Type': 'application/json'\n",
      "01/05/2021 13:54:04 - INFO - azure.core.pipeline.policies.http_logging_policy -       'Accept': 'application/json;odata.metadata=minimal'\n",
      "01/05/2021 13:54:04 - INFO - azure.core.pipeline.policies.http_logging_policy -       'Content-Length': '376'\n",
      "01/05/2021 13:54:04 - INFO - azure.core.pipeline.policies.http_logging_policy -       'x-ms-client-request-id': '16f59e64-4f55-11eb-9297-74e5f9d04c29'\n",
      "01/05/2021 13:54:04 - INFO - azure.core.pipeline.policies.http_logging_policy -       'api-key': 'REDACTED'\n",
      "01/05/2021 13:54:04 - INFO - azure.core.pipeline.policies.http_logging_policy -       'User-Agent': 'azsdk-python-search-documents/11.0.0 Python/3.8.1 (Linux-5.4.0-58-generic-x86_64-with-glibc2.27)'\n",
      "01/05/2021 13:54:04 - INFO - azure.core.pipeline.policies.http_logging_policy -   A body is sent with the request\n",
      "01/05/2021 13:54:05 - INFO - azure.core.pipeline.policies.http_logging_policy -   Response status: 201\n",
      "01/05/2021 13:54:05 - INFO - azure.core.pipeline.policies.http_logging_policy -   Response headers:\n",
      "01/05/2021 13:54:05 - INFO - azure.core.pipeline.policies.http_logging_policy -       'Cache-Control': 'no-cache'\n",
      "01/05/2021 13:54:05 - INFO - azure.core.pipeline.policies.http_logging_policy -       'Pragma': 'no-cache'\n",
      "01/05/2021 13:54:05 - INFO - azure.core.pipeline.policies.http_logging_policy -       'Content-Type': 'application/json; odata.metadata=minimal'\n",
      "01/05/2021 13:54:05 - INFO - azure.core.pipeline.policies.http_logging_policy -       'Expires': '-1'\n",
      "01/05/2021 13:54:05 - INFO - azure.core.pipeline.policies.http_logging_policy -       'ETag': 'W/\"0x8D8B178FC242295\"'\n",
      "01/05/2021 13:54:05 - INFO - azure.core.pipeline.policies.http_logging_policy -       'Location': 'REDACTED'\n",
      "01/05/2021 13:54:05 - INFO - azure.core.pipeline.policies.http_logging_policy -       'request-id': '16f59e64-4f55-11eb-9297-74e5f9d04c29'\n",
      "01/05/2021 13:54:05 - INFO - azure.core.pipeline.policies.http_logging_policy -       'elapsed-time': 'REDACTED'\n",
      "01/05/2021 13:54:05 - INFO - azure.core.pipeline.policies.http_logging_policy -       'OData-Version': 'REDACTED'\n",
      "01/05/2021 13:54:05 - INFO - azure.core.pipeline.policies.http_logging_policy -       'Preference-Applied': 'REDACTED'\n",
      "01/05/2021 13:54:05 - INFO - azure.core.pipeline.policies.http_logging_policy -       'Strict-Transport-Security': 'REDACTED'\n",
      "01/05/2021 13:54:05 - INFO - azure.core.pipeline.policies.http_logging_policy -       'Date': 'Tue, 05 Jan 2021 12:54:05 GMT'\n",
      "01/05/2021 13:54:05 - INFO - azure.core.pipeline.policies.http_logging_policy -       'Content-Length': '862'\n",
      "01/05/2021 13:54:05 - WARNING - msrest.serialization -   hidden is not a known attribute of class <class 'azure.search.documents.indexes._internal._generated.models._models_py3.SearchField'> and will be ignored\n",
      "01/05/2021 13:54:05 - WARNING - msrest.serialization -   analyzer_name is not a known attribute of class <class 'azure.search.documents.indexes._internal._generated.models._models_py3.SearchField'> and will be ignored\n",
      "01/05/2021 13:54:05 - WARNING - msrest.serialization -   search_analyzer_name is not a known attribute of class <class 'azure.search.documents.indexes._internal._generated.models._models_py3.SearchField'> and will be ignored\n",
      "01/05/2021 13:54:05 - WARNING - msrest.serialization -   index_analyzer_name is not a known attribute of class <class 'azure.search.documents.indexes._internal._generated.models._models_py3.SearchField'> and will be ignored\n",
      "01/05/2021 13:54:05 - WARNING - msrest.serialization -   synonym_map_names is not a known attribute of class <class 'azure.search.documents.indexes._internal._generated.models._models_py3.SearchField'> and will be ignored\n",
      "01/05/2021 13:54:05 - WARNING - msrest.serialization -   hidden is not a known attribute of class <class 'azure.search.documents.indexes._internal._generated.models._models_py3.SearchField'> and will be ignored\n",
      "01/05/2021 13:54:05 - WARNING - msrest.serialization -   analyzer_name is not a known attribute of class <class 'azure.search.documents.indexes._internal._generated.models._models_py3.SearchField'> and will be ignored\n",
      "01/05/2021 13:54:05 - WARNING - msrest.serialization -   search_analyzer_name is not a known attribute of class <class 'azure.search.documents.indexes._internal._generated.models._models_py3.SearchField'> and will be ignored\n",
      "01/05/2021 13:54:05 - WARNING - msrest.serialization -   index_analyzer_name is not a known attribute of class <class 'azure.search.documents.indexes._internal._generated.models._models_py3.SearchField'> and will be ignored\n",
      "01/05/2021 13:54:05 - WARNING - msrest.serialization -   synonym_map_names is not a known attribute of class <class 'azure.search.documents.indexes._internal._generated.models._models_py3.SearchField'> and will be ignored\n"
     ]
    },
    {
     "output_type": "execute_result",
     "data": {
      "text/plain": [
       "<azure.search.documents.indexes._internal._index.SearchIndex at 0x7f2cb39aecd0>"
      ]
     },
     "metadata": {},
     "execution_count": 7
    }
   ],
   "source": [
    "create_idx(idx_name=index_name)"
   ]
  },
  {
   "cell_type": "code",
   "execution_count": 8,
   "metadata": {},
   "outputs": [
    {
     "output_type": "stream",
     "name": "stderr",
     "text": [
      "01/05/2021 13:54:15 - INFO - azure.core.pipeline.policies.http_logging_policy -   Request URL: \"https://ne-prod-search.search.windows.net/indexes('evaluate-squad-data')/docs/search.index?api-version=REDACTED\"\n",
      "01/05/2021 13:54:15 - INFO - azure.core.pipeline.policies.http_logging_policy -   Request method: 'POST'\n",
      "01/05/2021 13:54:15 - INFO - azure.core.pipeline.policies.http_logging_policy -   Request headers:\n",
      "01/05/2021 13:54:15 - INFO - azure.core.pipeline.policies.http_logging_policy -       'Content-Type': 'application/json'\n",
      "01/05/2021 13:54:15 - INFO - azure.core.pipeline.policies.http_logging_policy -       'Accept': 'application/json;odata.metadata=none'\n",
      "01/05/2021 13:54:15 - INFO - azure.core.pipeline.policies.http_logging_policy -       'Content-Length': '2021457'\n",
      "01/05/2021 13:54:15 - INFO - azure.core.pipeline.policies.http_logging_policy -       'x-ms-client-request-id': '1db4aa88-4f55-11eb-9297-74e5f9d04c29'\n",
      "01/05/2021 13:54:15 - INFO - azure.core.pipeline.policies.http_logging_policy -       'api-key': 'REDACTED'\n",
      "01/05/2021 13:54:15 - INFO - azure.core.pipeline.policies.http_logging_policy -       'User-Agent': 'azsdk-python-search-documents/11.0.0 Python/3.8.1 (Linux-5.4.0-58-generic-x86_64-with-glibc2.27)'\n",
      "01/05/2021 13:54:15 - INFO - azure.core.pipeline.policies.http_logging_policy -   A body is sent with the request\n",
      "01/05/2021 13:54:19 - INFO - azure.core.pipeline.policies.http_logging_policy -   Response status: 200\n",
      "01/05/2021 13:54:19 - INFO - azure.core.pipeline.policies.http_logging_policy -   Response headers:\n",
      "01/05/2021 13:54:19 - INFO - azure.core.pipeline.policies.http_logging_policy -       'Cache-Control': 'no-cache'\n",
      "01/05/2021 13:54:19 - INFO - azure.core.pipeline.policies.http_logging_policy -       'Pragma': 'no-cache'\n",
      "01/05/2021 13:54:19 - INFO - azure.core.pipeline.policies.http_logging_policy -       'Transfer-Encoding': 'chunked'\n",
      "01/05/2021 13:54:19 - INFO - azure.core.pipeline.policies.http_logging_policy -       'Content-Type': 'application/json; odata.metadata=none'\n",
      "01/05/2021 13:54:19 - INFO - azure.core.pipeline.policies.http_logging_policy -       'Content-Encoding': 'REDACTED'\n",
      "01/05/2021 13:54:19 - INFO - azure.core.pipeline.policies.http_logging_policy -       'Expires': '-1'\n",
      "01/05/2021 13:54:19 - INFO - azure.core.pipeline.policies.http_logging_policy -       'Vary': 'REDACTED'\n",
      "01/05/2021 13:54:19 - INFO - azure.core.pipeline.policies.http_logging_policy -       'request-id': '1db4aa88-4f55-11eb-9297-74e5f9d04c29'\n",
      "01/05/2021 13:54:19 - INFO - azure.core.pipeline.policies.http_logging_policy -       'elapsed-time': 'REDACTED'\n",
      "01/05/2021 13:54:19 - INFO - azure.core.pipeline.policies.http_logging_policy -       'OData-Version': 'REDACTED'\n",
      "01/05/2021 13:54:19 - INFO - azure.core.pipeline.policies.http_logging_policy -       'Preference-Applied': 'REDACTED'\n",
      "01/05/2021 13:54:19 - INFO - azure.core.pipeline.policies.http_logging_policy -       'Strict-Transport-Security': 'REDACTED'\n",
      "01/05/2021 13:54:19 - INFO - azure.core.pipeline.policies.http_logging_policy -       'Date': 'Tue, 05 Jan 2021 12:54:18 GMT'\n",
      "Upload of new document succeeded: True\n"
     ]
    }
   ],
   "source": [
    "insert_docs(idx_name=index_name, docs=dicts)"
   ]
  },
  {
   "cell_type": "code",
   "execution_count": 9,
   "metadata": {},
   "outputs": [],
   "source": [
    "labels_frame=label_to_frame(dicts_labels=dicts_labels)"
   ]
  },
  {
   "cell_type": "code",
   "execution_count": 10,
   "metadata": {},
   "outputs": [
    {
     "output_type": "execute_result",
     "data": {
      "text/plain": [
       "(2001, 2)"
      ]
     },
     "metadata": {},
     "execution_count": 10
    }
   ],
   "source": [
    "labels_frame.shape"
   ]
  },
  {
   "cell_type": "code",
   "execution_count": 11,
   "metadata": {
    "tags": [
     "outputPrepend"
    ]
   },
   "outputs": [
    {
     "output_type": "stream",
     "name": "stderr",
     "text": [
      "'no-cache'\n",
      "01/05/2021 14:06:34 - INFO - azure.core.pipeline.policies.http_logging_policy -       'Pragma': 'no-cache'\n",
      "01/05/2021 14:06:34 - INFO - azure.core.pipeline.policies.http_logging_policy -       'Content-Type': 'application/json; odata.metadata=none'\n",
      "01/05/2021 14:06:34 - INFO - azure.core.pipeline.policies.http_logging_policy -       'Content-Encoding': 'REDACTED'\n",
      "01/05/2021 14:06:34 - INFO - azure.core.pipeline.policies.http_logging_policy -       'Expires': '-1'\n",
      "01/05/2021 14:06:34 - INFO - azure.core.pipeline.policies.http_logging_policy -       'Vary': 'REDACTED'\n",
      "01/05/2021 14:06:34 - INFO - azure.core.pipeline.policies.http_logging_policy -       'request-id': 'd56caa29-4f56-11eb-9297-74e5f9d04c29'\n",
      "01/05/2021 14:06:34 - INFO - azure.core.pipeline.policies.http_logging_policy -       'elapsed-time': 'REDACTED'\n",
      "01/05/2021 14:06:34 - INFO - azure.core.pipeline.policies.http_logging_policy -       'OData-Version': 'REDACTED'\n",
      "01/05/2021 14:06:34 - INFO - azure.core.pipeline.policies.http_logging_policy -       'Preference-Applied': 'REDACTED'\n",
      "01/05/2021 14:06:34 - INFO - azure.core.pipeline.policies.http_logging_policy -       'Strict-Transport-Security': 'REDACTED'\n",
      "01/05/2021 14:06:34 - INFO - azure.core.pipeline.policies.http_logging_policy -       'Date': 'Tue, 05 Jan 2021 13:06:34 GMT'\n",
      "01/05/2021 14:06:34 - INFO - azure.core.pipeline.policies.http_logging_policy -       'Content-Length': '1587'\n",
      "01/05/2021 14:06:34 - INFO - azure.core.pipeline.policies.http_logging_policy -   Request URL: \"https://ne-prod-search.search.windows.net/indexes('evaluate-squad-data')/docs/search.post.search?api-version=REDACTED\"\n",
      "01/05/2021 14:06:34 - INFO - azure.core.pipeline.policies.http_logging_policy -   Request method: 'POST'\n",
      "01/05/2021 14:06:34 - INFO - azure.core.pipeline.policies.http_logging_policy -   Request headers:\n",
      "01/05/2021 14:06:34 - INFO - azure.core.pipeline.policies.http_logging_policy -       'Content-Type': 'application/json'\n",
      "01/05/2021 14:06:34 - INFO - azure.core.pipeline.policies.http_logging_policy -       'Accept': 'application/json;odata.metadata=none'\n",
      "01/05/2021 14:06:34 - INFO - azure.core.pipeline.policies.http_logging_policy -       'Content-Length': '127'\n",
      "01/05/2021 14:06:34 - INFO - azure.core.pipeline.policies.http_logging_policy -       'x-ms-client-request-id': 'd56caa2a-4f56-11eb-9297-74e5f9d04c29'\n",
      "01/05/2021 14:06:34 - INFO - azure.core.pipeline.policies.http_logging_policy -       'api-key': 'REDACTED'\n",
      "01/05/2021 14:06:34 - INFO - azure.core.pipeline.policies.http_logging_policy -       'User-Agent': 'azsdk-python-search-documents/11.0.0 Python/3.8.1 (Linux-5.4.0-58-generic-x86_64-with-glibc2.27)'\n",
      "01/05/2021 14:06:34 - INFO - azure.core.pipeline.policies.http_logging_policy -   A body is sent with the request\n",
      "01/05/2021 14:06:34 - INFO - azure.core.pipeline.policies.http_logging_policy -   Response status: 200\n",
      "01/05/2021 14:06:34 - INFO - azure.core.pipeline.policies.http_logging_policy -   Response headers:\n",
      "01/05/2021 14:06:34 - INFO - azure.core.pipeline.policies.http_logging_policy -       'Cache-Control': 'no-cache'\n",
      "01/05/2021 14:06:34 - INFO - azure.core.pipeline.policies.http_logging_policy -       'Pragma': 'no-cache'\n",
      "01/05/2021 14:06:34 - INFO - azure.core.pipeline.policies.http_logging_policy -       'Content-Type': 'application/json; odata.metadata=none'\n",
      "01/05/2021 14:06:34 - INFO - azure.core.pipeline.policies.http_logging_policy -       'Content-Encoding': 'REDACTED'\n",
      "01/05/2021 14:06:34 - INFO - azure.core.pipeline.policies.http_logging_policy -       'Expires': '-1'\n",
      "01/05/2021 14:06:34 - INFO - azure.core.pipeline.policies.http_logging_policy -       'Vary': 'REDACTED'\n",
      "01/05/2021 14:06:34 - INFO - azure.core.pipeline.policies.http_logging_policy -       'request-id': 'd56caa2a-4f56-11eb-9297-74e5f9d04c29'\n",
      "01/05/2021 14:06:34 - INFO - azure.core.pipeline.policies.http_logging_policy -       'elapsed-time': 'REDACTED'\n",
      "01/05/2021 14:06:34 - INFO - azure.core.pipeline.policies.http_logging_policy -       'OData-Version': 'REDACTED'\n",
      "01/05/2021 14:06:34 - INFO - azure.core.pipeline.policies.http_logging_policy -       'Preference-Applied': 'REDACTED'\n",
      "01/05/2021 14:06:34 - INFO - azure.core.pipeline.policies.http_logging_policy -       'Strict-Transport-Security': 'REDACTED'\n",
      "01/05/2021 14:06:34 - INFO - azure.core.pipeline.policies.http_logging_policy -       'Date': 'Tue, 05 Jan 2021 13:06:34 GMT'\n",
      "01/05/2021 14:06:34 - INFO - azure.core.pipeline.policies.http_logging_policy -       'Content-Length': '1205'\n",
      "01/05/2021 14:06:34 - INFO - azure.core.pipeline.policies.http_logging_policy -   Request URL: \"https://ne-prod-search.search.windows.net/indexes('evaluate-squad-data')/docs/search.post.search?api-version=REDACTED\"\n",
      "01/05/2021 14:06:34 - INFO - azure.core.pipeline.policies.http_logging_policy -   Request method: 'POST'\n",
      "01/05/2021 14:06:34 - INFO - azure.core.pipeline.policies.http_logging_policy -   Request headers:\n",
      "01/05/2021 14:06:34 - INFO - azure.core.pipeline.policies.http_logging_policy -       'Content-Type': 'application/json'\n",
      "01/05/2021 14:06:34 - INFO - azure.core.pipeline.policies.http_logging_policy -       'Accept': 'application/json;odata.metadata=none'\n",
      "01/05/2021 14:06:34 - INFO - azure.core.pipeline.policies.http_logging_policy -       'Content-Length': '112'\n",
      "01/05/2021 14:06:34 - INFO - azure.core.pipeline.policies.http_logging_policy -       'x-ms-client-request-id': 'd56caa2b-4f56-11eb-9297-74e5f9d04c29'\n",
      "01/05/2021 14:06:34 - INFO - azure.core.pipeline.policies.http_logging_policy -       'api-key': 'REDACTED'\n",
      "01/05/2021 14:06:34 - INFO - azure.core.pipeline.policies.http_logging_policy -       'User-Agent': 'azsdk-python-search-documents/11.0.0 Python/3.8.1 (Linux-5.4.0-58-generic-x86_64-with-glibc2.27)'\n",
      "01/05/2021 14:06:34 - INFO - azure.core.pipeline.policies.http_logging_policy -   A body is sent with the request\n",
      "01/05/2021 14:06:35 - INFO - azure.core.pipeline.policies.http_logging_policy -   Response status: 200\n",
      "01/05/2021 14:06:35 - INFO - azure.core.pipeline.policies.http_logging_policy -   Response headers:\n",
      "01/05/2021 14:06:35 - INFO - azure.core.pipeline.policies.http_logging_policy -       'Cache-Control': 'no-cache'\n",
      "01/05/2021 14:06:35 - INFO - azure.core.pipeline.policies.http_logging_policy -       'Pragma': 'no-cache'\n",
      "01/05/2021 14:06:35 - INFO - azure.core.pipeline.policies.http_logging_policy -       'Content-Type': 'application/json; odata.metadata=none'\n",
      "01/05/2021 14:06:35 - INFO - azure.core.pipeline.policies.http_logging_policy -       'Content-Encoding': 'REDACTED'\n",
      "01/05/2021 14:06:35 - INFO - azure.core.pipeline.policies.http_logging_policy -       'Expires': '-1'\n",
      "01/05/2021 14:06:35 - INFO - azure.core.pipeline.policies.http_logging_policy -       'Vary': 'REDACTED'\n",
      "01/05/2021 14:06:35 - INFO - azure.core.pipeline.policies.http_logging_policy -       'request-id': 'd56caa2b-4f56-11eb-9297-74e5f9d04c29'\n",
      "01/05/2021 14:06:35 - INFO - azure.core.pipeline.policies.http_logging_policy -       'elapsed-time': 'REDACTED'\n",
      "01/05/2021 14:06:35 - INFO - azure.core.pipeline.policies.http_logging_policy -       'OData-Version': 'REDACTED'\n",
      "01/05/2021 14:06:35 - INFO - azure.core.pipeline.policies.http_logging_policy -       'Preference-Applied': 'REDACTED'\n",
      "01/05/2021 14:06:35 - INFO - azure.core.pipeline.policies.http_logging_policy -       'Strict-Transport-Security': 'REDACTED'\n",
      "01/05/2021 14:06:35 - INFO - azure.core.pipeline.policies.http_logging_policy -       'Date': 'Tue, 05 Jan 2021 13:06:35 GMT'\n",
      "01/05/2021 14:06:35 - INFO - azure.core.pipeline.policies.http_logging_policy -       'Content-Length': '1271'\n",
      "01/05/2021 14:06:35 - INFO - azure.core.pipeline.policies.http_logging_policy -   Request URL: \"https://ne-prod-search.search.windows.net/indexes('evaluate-squad-data')/docs/search.post.search?api-version=REDACTED\"\n",
      "01/05/2021 14:06:35 - INFO - azure.core.pipeline.policies.http_logging_policy -   Request method: 'POST'\n",
      "01/05/2021 14:06:35 - INFO - azure.core.pipeline.policies.http_logging_policy -   Request headers:\n",
      "01/05/2021 14:06:35 - INFO - azure.core.pipeline.policies.http_logging_policy -       'Content-Type': 'application/json'\n",
      "01/05/2021 14:06:35 - INFO - azure.core.pipeline.policies.http_logging_policy -       'Accept': 'application/json;odata.metadata=none'\n",
      "01/05/2021 14:06:35 - INFO - azure.core.pipeline.policies.http_logging_policy -       'Content-Length': '87'\n",
      "01/05/2021 14:06:35 - INFO - azure.core.pipeline.policies.http_logging_policy -       'x-ms-client-request-id': 'd6b87374-4f56-11eb-9297-74e5f9d04c29'\n",
      "01/05/2021 14:06:35 - INFO - azure.core.pipeline.policies.http_logging_policy -       'api-key': 'REDACTED'\n",
      "01/05/2021 14:06:35 - INFO - azure.core.pipeline.policies.http_logging_policy -       'User-Agent': 'azsdk-python-search-documents/11.0.0 Python/3.8.1 (Linux-5.4.0-58-generic-x86_64-with-glibc2.27)'\n",
      "01/05/2021 14:06:35 - INFO - azure.core.pipeline.policies.http_logging_policy -   A body is sent with the request\n",
      "01/05/2021 14:06:35 - INFO - azure.core.pipeline.policies.http_logging_policy -   Response status: 200\n",
      "01/05/2021 14:06:35 - INFO - azure.core.pipeline.policies.http_logging_policy -   Response headers:\n",
      "01/05/2021 14:06:35 - INFO - azure.core.pipeline.policies.http_logging_policy -       'Cache-Control': 'no-cache'\n",
      "01/05/2021 14:06:35 - INFO - azure.core.pipeline.policies.http_logging_policy -       'Pragma': 'no-cache'\n",
      "01/05/2021 14:06:35 - INFO - azure.core.pipeline.policies.http_logging_policy -       'Content-Type': 'application/json; odata.metadata=none'\n",
      "01/05/2021 14:06:35 - INFO - azure.core.pipeline.policies.http_logging_policy -       'Content-Encoding': 'REDACTED'\n",
      "01/05/2021 14:06:35 - INFO - azure.core.pipeline.policies.http_logging_policy -       'Expires': '-1'\n",
      "01/05/2021 14:06:35 - INFO - azure.core.pipeline.policies.http_logging_policy -       'Vary': 'REDACTED'\n",
      "01/05/2021 14:06:35 - INFO - azure.core.pipeline.policies.http_logging_policy -       'request-id': 'd6b87374-4f56-11eb-9297-74e5f9d04c29'\n",
      "01/05/2021 14:06:35 - INFO - azure.core.pipeline.policies.http_logging_policy -       'elapsed-time': 'REDACTED'\n",
      "01/05/2021 14:06:35 - INFO - azure.core.pipeline.policies.http_logging_policy -       'OData-Version': 'REDACTED'\n",
      "01/05/2021 14:06:35 - INFO - azure.core.pipeline.policies.http_logging_policy -       'Preference-Applied': 'REDACTED'\n",
      "01/05/2021 14:06:35 - INFO - azure.core.pipeline.policies.http_logging_policy -       'Strict-Transport-Security': 'REDACTED'\n",
      "01/05/2021 14:06:35 - INFO - azure.core.pipeline.policies.http_logging_policy -       'Date': 'Tue, 05 Jan 2021 13:06:35 GMT'\n",
      "01/05/2021 14:06:35 - INFO - azure.core.pipeline.policies.http_logging_policy -       'Content-Length': '1499'\n",
      "01/05/2021 14:06:35 - INFO - azure.core.pipeline.policies.http_logging_policy -   Request URL: \"https://ne-prod-search.search.windows.net/indexes('evaluate-squad-data')/docs/search.post.search?api-version=REDACTED\"\n",
      "01/05/2021 14:06:35 - INFO - azure.core.pipeline.policies.http_logging_policy -   Request method: 'POST'\n",
      "01/05/2021 14:06:35 - INFO - azure.core.pipeline.policies.http_logging_policy -   Request headers:\n",
      "01/05/2021 14:06:35 - INFO - azure.core.pipeline.policies.http_logging_policy -       'Content-Type': 'application/json'\n",
      "01/05/2021 14:06:35 - INFO - azure.core.pipeline.policies.http_logging_policy -       'Accept': 'application/json;odata.metadata=none'\n",
      "01/05/2021 14:06:35 - INFO - azure.core.pipeline.policies.http_logging_policy -       'Content-Length': '99'\n",
      "01/05/2021 14:06:35 - INFO - azure.core.pipeline.policies.http_logging_policy -       'x-ms-client-request-id': 'd6b87375-4f56-11eb-9297-74e5f9d04c29'\n",
      "01/05/2021 14:06:35 - INFO - azure.core.pipeline.policies.http_logging_policy -       'api-key': 'REDACTED'\n",
      "01/05/2021 14:06:35 - INFO - azure.core.pipeline.policies.http_logging_policy -       'User-Agent': 'azsdk-python-search-documents/11.0.0 Python/3.8.1 (Linux-5.4.0-58-generic-x86_64-with-glibc2.27)'\n",
      "01/05/2021 14:06:35 - INFO - azure.core.pipeline.policies.http_logging_policy -   A body is sent with the request\n",
      "01/05/2021 14:06:36 - INFO - azure.core.pipeline.policies.http_logging_policy -   Response status: 200\n",
      "01/05/2021 14:06:36 - INFO - azure.core.pipeline.policies.http_logging_policy -   Response headers:\n",
      "01/05/2021 14:06:36 - INFO - azure.core.pipeline.policies.http_logging_policy -       'Cache-Control': 'no-cache'\n",
      "01/05/2021 14:06:36 - INFO - azure.core.pipeline.policies.http_logging_policy -       'Pragma': 'no-cache'\n",
      "01/05/2021 14:06:36 - INFO - azure.core.pipeline.policies.http_logging_policy -       'Content-Type': 'application/json; odata.metadata=none'\n",
      "01/05/2021 14:06:36 - INFO - azure.core.pipeline.policies.http_logging_policy -       'Content-Encoding': 'REDACTED'\n",
      "01/05/2021 14:06:36 - INFO - azure.core.pipeline.policies.http_logging_policy -       'Expires': '-1'\n",
      "01/05/2021 14:06:36 - INFO - azure.core.pipeline.policies.http_logging_policy -       'Vary': 'REDACTED'\n",
      "01/05/2021 14:06:36 - INFO - azure.core.pipeline.policies.http_logging_policy -       'request-id': 'd6b87375-4f56-11eb-9297-74e5f9d04c29'\n",
      "01/05/2021 14:06:36 - INFO - azure.core.pipeline.policies.http_logging_policy -       'elapsed-time': 'REDACTED'\n",
      "01/05/2021 14:06:36 - INFO - azure.core.pipeline.policies.http_logging_policy -       'OData-Version': 'REDACTED'\n",
      "01/05/2021 14:06:36 - INFO - azure.core.pipeline.policies.http_logging_policy -       'Preference-Applied': 'REDACTED'\n",
      "01/05/2021 14:06:36 - INFO - azure.core.pipeline.policies.http_logging_policy -       'Strict-Transport-Security': 'REDACTED'\n",
      "01/05/2021 14:06:36 - INFO - azure.core.pipeline.policies.http_logging_policy -       'Date': 'Tue, 05 Jan 2021 13:06:35 GMT'\n",
      "01/05/2021 14:06:36 - INFO - azure.core.pipeline.policies.http_logging_policy -       'Content-Length': '1868'\n",
      "01/05/2021 14:06:36 - INFO - azure.core.pipeline.policies.http_logging_policy -   Request URL: \"https://ne-prod-search.search.windows.net/indexes('evaluate-squad-data')/docs/search.post.search?api-version=REDACTED\"\n",
      "01/05/2021 14:06:36 - INFO - azure.core.pipeline.policies.http_logging_policy -   Request method: 'POST'\n",
      "01/05/2021 14:06:36 - INFO - azure.core.pipeline.policies.http_logging_policy -   Request headers:\n",
      "01/05/2021 14:06:36 - INFO - azure.core.pipeline.policies.http_logging_policy -       'Content-Type': 'application/json'\n",
      "01/05/2021 14:06:36 - INFO - azure.core.pipeline.policies.http_logging_policy -       'Accept': 'application/json;odata.metadata=none'\n",
      "01/05/2021 14:06:36 - INFO - azure.core.pipeline.policies.http_logging_policy -       'Content-Length': '106'\n",
      "01/05/2021 14:06:36 - INFO - azure.core.pipeline.policies.http_logging_policy -       'x-ms-client-request-id': 'd6b87376-4f56-11eb-9297-74e5f9d04c29'\n",
      "01/05/2021 14:06:36 - INFO - azure.core.pipeline.policies.http_logging_policy -       'api-key': 'REDACTED'\n",
      "01/05/2021 14:06:36 - INFO - azure.core.pipeline.policies.http_logging_policy -       'User-Agent': 'azsdk-python-search-documents/11.0.0 Python/3.8.1 (Linux-5.4.0-58-generic-x86_64-with-glibc2.27)'\n",
      "01/05/2021 14:06:36 - INFO - azure.core.pipeline.policies.http_logging_policy -   A body is sent with the request\n",
      "01/05/2021 14:06:36 - INFO - azure.core.pipeline.policies.http_logging_policy -   Response status: 200\n",
      "01/05/2021 14:06:36 - INFO - azure.core.pipeline.policies.http_logging_policy -   Response headers:\n",
      "01/05/2021 14:06:36 - INFO - azure.core.pipeline.policies.http_logging_policy -       'Cache-Control': 'no-cache'\n",
      "01/05/2021 14:06:36 - INFO - azure.core.pipeline.policies.http_logging_policy -       'Pragma': 'no-cache'\n",
      "01/05/2021 14:06:36 - INFO - azure.core.pipeline.policies.http_logging_policy -       'Content-Type': 'application/json; odata.metadata=none'\n",
      "01/05/2021 14:06:36 - INFO - azure.core.pipeline.policies.http_logging_policy -       'Content-Encoding': 'REDACTED'\n",
      "01/05/2021 14:06:36 - INFO - azure.core.pipeline.policies.http_logging_policy -       'Expires': '-1'\n",
      "01/05/2021 14:06:36 - INFO - azure.core.pipeline.policies.http_logging_policy -       'Vary': 'REDACTED'\n",
      "01/05/2021 14:06:36 - INFO - azure.core.pipeline.policies.http_logging_policy -       'request-id': 'd6b87376-4f56-11eb-9297-74e5f9d04c29'\n",
      "01/05/2021 14:06:36 - INFO - azure.core.pipeline.policies.http_logging_policy -       'elapsed-time': 'REDACTED'\n",
      "01/05/2021 14:06:36 - INFO - azure.core.pipeline.policies.http_logging_policy -       'OData-Version': 'REDACTED'\n",
      "01/05/2021 14:06:36 - INFO - azure.core.pipeline.policies.http_logging_policy -       'Preference-Applied': 'REDACTED'\n",
      "01/05/2021 14:06:36 - INFO - azure.core.pipeline.policies.http_logging_policy -       'Strict-Transport-Security': 'REDACTED'\n",
      "01/05/2021 14:06:36 - INFO - azure.core.pipeline.policies.http_logging_policy -       'Date': 'Tue, 05 Jan 2021 13:06:35 GMT'\n",
      "01/05/2021 14:06:36 - INFO - azure.core.pipeline.policies.http_logging_policy -       'Content-Length': '1744'\n",
      "01/05/2021 14:06:36 - INFO - azure.core.pipeline.policies.http_logging_policy -   Request URL: \"https://ne-prod-search.search.windows.net/indexes('evaluate-squad-data')/docs/search.post.search?api-version=REDACTED\"\n",
      "01/05/2021 14:06:36 - INFO - azure.core.pipeline.policies.http_logging_policy -   Request method: 'POST'\n",
      "01/05/2021 14:06:36 - INFO - azure.core.pipeline.policies.http_logging_policy -   Request headers:\n",
      "01/05/2021 14:06:36 - INFO - azure.core.pipeline.policies.http_logging_policy -       'Content-Type': 'application/json'\n",
      "01/05/2021 14:06:36 - INFO - azure.core.pipeline.policies.http_logging_policy -       'Accept': 'application/json;odata.metadata=none'\n",
      "01/05/2021 14:06:36 - INFO - azure.core.pipeline.policies.http_logging_policy -       'Content-Length': '110'\n",
      "01/05/2021 14:06:36 - INFO - azure.core.pipeline.policies.http_logging_policy -       'x-ms-client-request-id': 'd6b87377-4f56-11eb-9297-74e5f9d04c29'\n",
      "01/05/2021 14:06:36 - INFO - azure.core.pipeline.policies.http_logging_policy -       'api-key': 'REDACTED'\n",
      "01/05/2021 14:06:36 - INFO - azure.core.pipeline.policies.http_logging_policy -       'User-Agent': 'azsdk-python-search-documents/11.0.0 Python/3.8.1 (Linux-5.4.0-58-generic-x86_64-with-glibc2.27)'\n",
      "01/05/2021 14:06:36 - INFO - azure.core.pipeline.policies.http_logging_policy -   A body is sent with the request\n",
      "01/05/2021 14:06:36 - INFO - azure.core.pipeline.policies.http_logging_policy -   Response status: 200\n",
      "01/05/2021 14:06:36 - INFO - azure.core.pipeline.policies.http_logging_policy -   Response headers:\n",
      "01/05/2021 14:06:36 - INFO - azure.core.pipeline.policies.http_logging_policy -       'Cache-Control': 'no-cache'\n",
      "01/05/2021 14:06:36 - INFO - azure.core.pipeline.policies.http_logging_policy -       'Pragma': 'no-cache'\n",
      "01/05/2021 14:06:36 - INFO - azure.core.pipeline.policies.http_logging_policy -       'Content-Type': 'application/json; odata.metadata=none'\n",
      "01/05/2021 14:06:36 - INFO - azure.core.pipeline.policies.http_logging_policy -       'Content-Encoding': 'REDACTED'\n",
      "01/05/2021 14:06:36 - INFO - azure.core.pipeline.policies.http_logging_policy -       'Expires': '-1'\n",
      "01/05/2021 14:06:36 - INFO - azure.core.pipeline.policies.http_logging_policy -       'Vary': 'REDACTED'\n",
      "01/05/2021 14:06:36 - INFO - azure.core.pipeline.policies.http_logging_policy -       'request-id': 'd6b87377-4f56-11eb-9297-74e5f9d04c29'\n",
      "01/05/2021 14:06:36 - INFO - azure.core.pipeline.policies.http_logging_policy -       'elapsed-time': 'REDACTED'\n",
      "01/05/2021 14:06:36 - INFO - azure.core.pipeline.policies.http_logging_policy -       'OData-Version': 'REDACTED'\n",
      "01/05/2021 14:06:36 - INFO - azure.core.pipeline.policies.http_logging_policy -       'Preference-Applied': 'REDACTED'\n",
      "01/05/2021 14:06:36 - INFO - azure.core.pipeline.policies.http_logging_policy -       'Strict-Transport-Security': 'REDACTED'\n",
      "01/05/2021 14:06:36 - INFO - azure.core.pipeline.policies.http_logging_policy -       'Date': 'Tue, 05 Jan 2021 13:06:36 GMT'\n",
      "01/05/2021 14:06:36 - INFO - azure.core.pipeline.policies.http_logging_policy -       'Content-Length': '1086'\n"
     ]
    }
   ],
   "source": [
    "metric=eval(labels_frame=labels_frame, top_k=3, index_name=index_name)"
   ]
  },
  {
   "cell_type": "code",
   "execution_count": 12,
   "metadata": {},
   "outputs": [
    {
     "output_type": "execute_result",
     "data": {
      "text/plain": [
       "{'correct_retrievals': 1626, 'recall': 0.8125937031484258, 'top_k': 3}"
      ]
     },
     "metadata": {},
     "execution_count": 12
    }
   ],
   "source": [
    "metric"
   ]
  },
  {
   "cell_type": "code",
   "execution_count": 16,
   "metadata": {},
   "outputs": [
    {
     "output_type": "stream",
     "name": "stdout",
     "text": [
      "{'correct_retrievals': 1626, 'recall': 0.8125937031484258, 'top_k': 3}\n"
     ]
    }
   ],
   "source": [
    "print(metric)"
   ]
  },
  {
   "cell_type": "code",
   "execution_count": null,
   "metadata": {},
   "outputs": [],
   "source": []
  }
 ]
}