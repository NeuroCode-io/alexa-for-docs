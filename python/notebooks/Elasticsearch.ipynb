{
 "metadata": {
  "language_info": {
   "codemirror_mode": {
    "name": "ipython",
    "version": 3
   },
   "file_extension": ".py",
   "mimetype": "text/x-python",
   "name": "python",
   "nbconvert_exporter": "python",
   "pygments_lexer": "ipython3",
   "version": "3.8.1-final"
  },
  "orig_nbformat": 2,
  "kernelspec": {
   "name": "python3",
   "display_name": "Python 3.8.1 64-bit ('.venv': venv)",
   "metadata": {
    "interpreter": {
     "hash": "5bdca235408bc63495fd8719d073449338626e85bb6ce08bacdb45b63101d775"
    }
   }
  }
 },
 "nbformat": 4,
 "nbformat_minor": 2,
 "cells": [
  {
   "cell_type": "code",
   "execution_count": 1,
   "metadata": {
    "tags": []
   },
   "outputs": [
    {
     "output_type": "stream",
     "name": "stderr",
     "text": [
      "12/09/2020 13:28:41 - INFO - faiss -   Loading faiss with AVX2 support.\n",
      "12/09/2020 13:28:41 - INFO - faiss -   Loading faiss.\n",
      "12/09/2020 13:28:42 - INFO - farm.utils -   device: cpu n_gpu: 0, distributed training: False, automatic mixed precision training: None\n",
      "12/09/2020 13:28:42 - INFO - farm.infer -   Could not find `deepset/roberta-base-squad2` locally. Try to download from model hub ...\n",
      "Some weights of RobertaModel were not initialized from the model checkpoint at deepset/roberta-base-squad2 and are newly initialized: ['roberta.pooler.dense.weight', 'roberta.pooler.dense.bias']\n",
      "You should probably TRAIN this model on a down-stream task to be able to use it for predictions and inference.\n",
      "12/09/2020 13:28:46 - WARNING - farm.modeling.language_model -   Could not automatically detect from language model name what language it is. \n",
      "\t We guess it's an *ENGLISH* model ... \n",
      "\t If not: Init the language model by supplying the 'language' param.\n",
      "12/09/2020 13:28:55 - INFO - farm.utils -   device: cpu n_gpu: 0, distributed training: False, automatic mixed precision training: None\n",
      "12/09/2020 13:28:55 - INFO - farm.infer -   Got ya 3 parallel workers to do inference ...\n",
      "12/09/2020 13:28:55 - INFO - farm.infer -    0    0    0 \n",
      "12/09/2020 13:28:55 - INFO - farm.infer -   /w\\  /w\\  /w\\\n",
      "12/09/2020 13:28:55 - INFO - farm.infer -   /'\\  / \\  /'\\\n",
      "12/09/2020 13:28:55 - INFO - farm.infer -       \n"
     ]
    }
   ],
   "source": [
    "from haystack.reader.farm import FARMReader\n",
    "farm_reader = FARMReader(model_name_or_path=\"deepset/roberta-base-squad2\", use_gpu=False)"
   ]
  },
  {
   "cell_type": "code",
   "execution_count": 2,
   "metadata": {},
   "outputs": [
    {
     "output_type": "stream",
     "name": "stderr",
     "text": [
      "12/09/2020 13:28:58 - INFO - elasticsearch -   HEAD http://localhost:9200/document [status:200 request:0.006s]\n",
      "12/09/2020 13:28:58 - INFO - elasticsearch -   GET http://localhost:9200/document [status:200 request:0.003s]\n",
      "12/09/2020 13:28:58 - INFO - elasticsearch -   PUT http://localhost:9200/document/_mapping [status:200 request:0.021s]\n",
      "12/09/2020 13:28:58 - INFO - elasticsearch -   HEAD http://localhost:9200/label [status:200 request:0.003s]\n"
     ]
    }
   ],
   "source": [
    "from haystack.document_store.elasticsearch import ElasticsearchDocumentStore\n",
    "document_store = ElasticsearchDocumentStore(host=\"localhost\", username=\"\", password=\"\", index=\"document\")"
   ]
  },
  {
   "cell_type": "code",
   "execution_count": 3,
   "metadata": {},
   "outputs": [],
   "source": [
    "from haystack.retriever.sparse import ElasticsearchRetriever\n",
    "retriever = ElasticsearchRetriever(document_store=document_store)"
   ]
  },
  {
   "cell_type": "code",
   "execution_count": 4,
   "metadata": {},
   "outputs": [
    {
     "output_type": "stream",
     "name": "stderr",
     "text": [
      "12/09/2020 13:29:01 - WARNING - haystack.preprocessor.utils -   Skipped file data/nq/nq_dev_subset_v2.json as type .json is not supported here. See haystack.file_converter for support of more file types\n",
      "12/09/2020 13:29:01 - INFO - haystack.preprocessor.utils -   Converting data/9781839217579-THE_DEEP_LEARNING_WITH_KERAS_WORKSHOP_SECOND_EDITION.pdf\n"
     ]
    }
   ],
   "source": [
    "from haystack.preprocessor.utils import convert_files_to_dicts\n",
    "dicts=convert_files_to_dicts(\"./data/\", split_paragraphs=True) # no cleaning function applied"
   ]
  },
  {
   "cell_type": "code",
   "execution_count": 5,
   "metadata": {},
   "outputs": [
    {
     "output_type": "stream",
     "name": "stderr",
     "text": [
      "12/09/2020 13:29:05 - INFO - elasticsearch -   POST http://localhost:9200/_bulk?refresh=wait_for [status:200 request:0.969s]\n",
      "12/09/2020 13:29:06 - INFO - elasticsearch -   POST http://localhost:9200/_bulk?refresh=wait_for [status:200 request:0.930s]\n",
      "12/09/2020 13:29:07 - INFO - elasticsearch -   POST http://localhost:9200/_bulk?refresh=wait_for [status:200 request:1.043s]\n"
     ]
    }
   ],
   "source": [
    "document_store.write_documents(dicts)"
   ]
  },
  {
   "cell_type": "code",
   "execution_count": 6,
   "metadata": {},
   "outputs": [],
   "source": [
    "retriever = ElasticsearchRetriever(document_store=document_store)"
   ]
  },
  {
   "cell_type": "code",
   "execution_count": 7,
   "metadata": {},
   "outputs": [],
   "source": [
    "from haystack import Finder"
   ]
  },
  {
   "cell_type": "code",
   "execution_count": 8,
   "metadata": {},
   "outputs": [],
   "source": [
    "from haystack.utils import print_answers"
   ]
  },
  {
   "cell_type": "code",
   "execution_count": 9,
   "metadata": {},
   "outputs": [],
   "source": [
    "finder = Finder(farm_reader, retriever)"
   ]
  },
  {
   "cell_type": "code",
   "execution_count": 10,
   "metadata": {},
   "outputs": [
    {
     "output_type": "stream",
     "name": "stderr",
     "text": [
      "12/09/2020 13:29:16 - INFO - elasticsearch -   POST http://localhost:9200/document/_search [status:200 request:0.115s]\n",
      "12/09/2020 13:29:16 - INFO - haystack.finder -   Got 10 candidates from retriever\n",
      "12/09/2020 13:29:16 - INFO - haystack.finder -   Reader is looking for detailed answer in 5105 chars ...\n",
      "Inferencing Samples: 100%|██████████| 1/1 [00:00<00:00,  1.25 Batches/s]\n",
      "Inferencing Samples: 100%|██████████| 1/1 [00:00<00:00,  1.34 Batches/s]\n",
      "Inferencing Samples: 100%|██████████| 1/1 [00:00<00:00,  2.02 Batches/s]\n",
      "Inferencing Samples: 100%|██████████| 1/1 [00:00<00:00,  2.24 Batches/s]\n",
      "Inferencing Samples: 100%|██████████| 1/1 [00:00<00:00,  2.05 Batches/s]\n",
      "Inferencing Samples: 100%|██████████| 1/1 [00:00<00:00,  2.10 Batches/s]\n",
      "Inferencing Samples: 100%|██████████| 1/1 [00:00<00:00,  1.90 Batches/s]\n",
      "Inferencing Samples: 100%|██████████| 1/1 [00:00<00:00,  1.91 Batches/s]\n",
      "Inferencing Samples: 100%|██████████| 1/1 [00:00<00:00,  2.03 Batches/s]\n",
      "Inferencing Samples: 100%|██████████| 1/1 [00:00<00:00,  2.01 Batches/s]\n"
     ]
    }
   ],
   "source": [
    "prediction = finder.get_answers(question=\"What is RNN?\", top_k_retriever=10, top_k_reader=3)"
   ]
  },
  {
   "cell_type": "code",
   "execution_count": 11,
   "metadata": {},
   "outputs": [
    {
     "output_type": "stream",
     "name": "stdout",
     "text": [
      "[   {   'answer': 'Recurrent Neural Networks',\n        'context': 'rthermore, we will learn\\n'\n                   'how sequential modeling is related to Recurrent Neural '\n                   'Networks (RNN). We will\\n'\n                   'learn about the vanishing gradient problem in ',\n        'score': 15.890447616577148},\n    {   'answer': 'Recurrent Neural Networks',\n        'context': 'Recurrent Neural Networks (RNNs)\\n'\n                   'RNNs are a class of neural networks that are built on the '\n                   'concept of sequential\\n'\n                   'memory. Unlike traditional neural net',\n        'score': 11.025992393493652},\n    {   'answer': '100 units in each\\nLSTM layer',\n        'context': ' next activity, we will experiment with building an RNN '\n                   'with 100 units in each\\n'\n                   'LSTM layer and compare this with how the RNN performed '\n                   'with only 50 uni',\n        'score': 7.586048126220703}]\n"
     ]
    }
   ],
   "source": [
    "print_answers(prediction, details=\"medium\")"
   ]
  },
  {
   "cell_type": "code",
   "execution_count": 12,
   "metadata": {},
   "outputs": [
    {
     "output_type": "stream",
     "name": "stderr",
     "text": [
      "12/09/2020 13:29:26 - INFO - elasticsearch -   POST http://localhost:9200/document/_search [status:200 request:0.029s]\n",
      "12/09/2020 13:29:26 - INFO - haystack.finder -   Got 10 candidates from retriever\n",
      "12/09/2020 13:29:26 - INFO - haystack.finder -   Reader is looking for detailed answer in 9976 chars ...\n",
      "Inferencing Samples: 100%|██████████| 1/1 [00:00<00:00,  1.24 Batches/s]\n",
      "Inferencing Samples: 100%|██████████| 1/1 [00:00<00:00,  1.21 Batches/s]\n",
      "Inferencing Samples: 100%|██████████| 1/1 [00:00<00:00,  1.03 Batches/s]\n",
      "Inferencing Samples: 100%|██████████| 1/1 [00:00<00:00,  2.06 Batches/s]\n",
      "Inferencing Samples: 100%|██████████| 1/1 [00:00<00:00,  2.04 Batches/s]\n",
      "Inferencing Samples: 100%|██████████| 1/1 [00:01<00:00,  1.11s/ Batches]\n",
      "Inferencing Samples: 100%|██████████| 1/1 [00:00<00:00,  1.84 Batches/s]\n",
      "Inferencing Samples: 100%|██████████| 1/1 [00:00<00:00,  1.74 Batches/s]\n",
      "Inferencing Samples: 100%|██████████| 1/1 [00:00<00:00,  1.09 Batches/s]\n",
      "Inferencing Samples: 100%|██████████| 1/1 [00:00<00:00,  1.01 Batches/s]\n"
     ]
    }
   ],
   "source": [
    "prediction = finder.get_answers(question=\"What is a layer?\", top_k_retriever=10, top_k_reader=3)"
   ]
  },
  {
   "cell_type": "code",
   "execution_count": 13,
   "metadata": {},
   "outputs": [
    {
     "output_type": "stream",
     "name": "stdout",
     "text": [
      "[   {   'answer': 'user-defined layer',\n        'context': 'tially, what we will do is\\n'\n                   'replace the last layer of VGG16 with a user-defined '\n                   'layer.\\n'\n                   'Before we begin, ensure you have downloaded the image '\n                   'datasets f',\n        'score': 10.495277404785156},\n    {   'answer': 'one hidden layer',\n        'context': 'ogistic\\n'\n                   'regression involves a very simple neural network with only '\n                   'one hidden layer and only\\n'\n                   'one node in its hidden layer.\\n'\n                   'An overview of the logistic',\n        'score': 6.236577987670898},\n    {   'answer': 'pooling layer',\n        'context': 'e feature map derived from the convolution layer is passed '\n                   'through a pooling layer\\n'\n                   'to further reduce the image, all while preserving the most '\n                   'relevant',\n        'score': 5.443607330322266}]\n"
     ]
    }
   ],
   "source": [
    "print_answers(prediction, details=\"medium\")"
   ]
  },
  {
   "cell_type": "code",
   "execution_count": 14,
   "metadata": {},
   "outputs": [
    {
     "output_type": "stream",
     "name": "stderr",
     "text": [
      "12/09/2020 13:29:39 - INFO - elasticsearch -   POST http://localhost:9200/document/_search [status:200 request:0.026s]\n",
      "12/09/2020 13:29:39 - INFO - haystack.finder -   Got 10 candidates from retriever\n",
      "12/09/2020 13:29:39 - INFO - haystack.finder -   Reader is looking for detailed answer in 10155 chars ...\n",
      "Inferencing Samples: 100%|██████████| 1/1 [00:00<00:00,  1.29 Batches/s]\n",
      "Inferencing Samples: 100%|██████████| 1/1 [00:00<00:00,  1.49 Batches/s]\n",
      "Inferencing Samples: 100%|██████████| 1/1 [00:00<00:00,  1.49 Batches/s]\n",
      "Inferencing Samples: 100%|██████████| 1/1 [00:00<00:00,  1.53 Batches/s]\n",
      "Inferencing Samples: 100%|██████████| 1/1 [00:00<00:00,  2.09 Batches/s]\n",
      "Inferencing Samples: 100%|██████████| 1/1 [00:00<00:00,  1.82 Batches/s]\n",
      "Inferencing Samples: 100%|██████████| 1/1 [00:01<00:00,  1.41s/ Batches]\n",
      "Inferencing Samples: 100%|██████████| 1/1 [00:00<00:00,  1.00 Batches/s]\n",
      "Inferencing Samples: 100%|██████████| 1/1 [00:01<00:00,  1.60s/ Batches]\n",
      "Inferencing Samples: 100%|██████████| 1/1 [00:00<00:00,  2.17 Batches/s]\n"
     ]
    }
   ],
   "source": [
    "prediction = finder.get_answers(question=\"What is deep learning?\", top_k_retriever=10, top_k_reader=3)"
   ]
  },
  {
   "cell_type": "code",
   "execution_count": 15,
   "metadata": {},
   "outputs": [
    {
     "output_type": "stream",
     "name": "stdout",
     "text": [
      "[   {   'answer': 'supervised learning',\n        'context': 'ns of deep learning. The vast majority\\n'\n                   'of deep learning tasks are supervised learning, in which '\n                   'there is a given target,\\n'\n                   'and we want to fit a model so',\n        'score': 10.356269836425781},\n    {   'answer': 'a neural network',\n        'context': ' sky, and furniture.\\n'\n                   'So, a pre-trained network is a saved network (a neural '\n                   'network, in the case of deep\\n'\n                   'learning) that was trained on a very large da',\n        'score': 4.090447425842285},\n    {   'answer': 'The Deep Learning with Keras Workshop',\n        'context': ' be successful, in whatever it is that you choose to do.\\n'\n                   'The Deep Learning with Keras Workshop is an ideal tutorial '\n                   'for the programmer who is\\n'\n                   'getting ',\n        'score': 3.2932965755462646}]\n"
     ]
    }
   ],
   "source": [
    "print_answers(prediction, details=\"medium\")"
   ]
  },
  {
   "cell_type": "code",
   "execution_count": 16,
   "metadata": {},
   "outputs": [
    {
     "output_type": "stream",
     "name": "stderr",
     "text": [
      "12/09/2020 13:29:53 - INFO - elasticsearch -   POST http://localhost:9200/document/_search [status:200 request:0.018s]\n",
      "12/09/2020 13:29:53 - INFO - haystack.finder -   Got 10 candidates from retriever\n",
      "12/09/2020 13:29:53 - INFO - haystack.finder -   Reader is looking for detailed answer in 6261 chars ...\n",
      "Inferencing Samples: 100%|██████████| 1/1 [00:00<00:00,  1.30 Batches/s]\n",
      "Inferencing Samples: 100%|██████████| 1/1 [00:00<00:00,  1.08 Batches/s]\n",
      "Inferencing Samples: 100%|██████████| 1/1 [00:00<00:00,  1.56 Batches/s]\n",
      "Inferencing Samples: 100%|██████████| 1/1 [00:00<00:00,  2.24 Batches/s]\n",
      "Inferencing Samples: 100%|██████████| 1/1 [00:00<00:00,  2.10 Batches/s]\n",
      "Inferencing Samples: 100%|██████████| 1/1 [00:00<00:00,  2.02 Batches/s]\n",
      "Inferencing Samples: 100%|██████████| 1/1 [00:00<00:00,  2.06 Batches/s]\n",
      "Inferencing Samples: 100%|██████████| 1/1 [00:00<00:00,  1.07 Batches/s]\n",
      "Inferencing Samples: 100%|██████████| 1/1 [00:00<00:00,  1.76 Batches/s]\n",
      "Inferencing Samples: 100%|██████████| 1/1 [00:00<00:00,  2.11 Batches/s]\n"
     ]
    }
   ],
   "source": [
    "prediction = finder.get_answers(question=\"What is logistic regression?\", top_k_retriever=10, top_k_reader=3)"
   ]
  },
  {
   "cell_type": "code",
   "execution_count": 17,
   "metadata": {},
   "outputs": [
    {
     "output_type": "stream",
     "name": "stdout",
     "text": [
      "[   {   'answer': 'classification tasks',\n        'context': 'at other algorithms can\\n'\n                   'perform, such as logistic regression for classification '\n                   'tasks, linear\\n'\n                   'regression for regression problems, and k-means for clus',\n        'score': 13.997730255126953},\n    {   'answer': 'a very simple neural network with only one hidden layer and '\n                  'only\\n'\n                  'one node in its hidden layer',\n        'context': 'logistic\\n'\n                   'regression involves a very simple neural network with only '\n                   'one hidden layer and only\\n'\n                   'one node in its hidden layer.\\n'\n                   'An overview of the logisti',\n        'score': 10.00578498840332},\n    {   'answer': 'algorithm',\n        'context': ' the output of the previous layer to replicate\\n'\n                   'the logistic regression algorithm:\\n'\n                   'from keras.layers import Activation\\n'\n                   \"model.add(Activation('sigmoid'))\",\n        'score': 2.9144444465637207}]\n"
     ]
    }
   ],
   "source": [
    "print_answers(prediction, details=\"medium\")"
   ]
  },
  {
   "cell_type": "code",
   "execution_count": 18,
   "metadata": {},
   "outputs": [
    {
     "output_type": "stream",
     "name": "stderr",
     "text": [
      "12/09/2020 13:30:04 - INFO - elasticsearch -   POST http://localhost:9200/document/_search [status:200 request:0.014s]\n",
      "12/09/2020 13:30:04 - INFO - haystack.finder -   Got 10 candidates from retriever\n",
      "12/09/2020 13:30:04 - INFO - haystack.finder -   Reader is looking for detailed answer in 4737 chars ...\n",
      "Inferencing Samples: 100%|██████████| 1/1 [00:00<00:00,  1.72 Batches/s]\n",
      "Inferencing Samples: 100%|██████████| 1/1 [00:00<00:00,  1.16 Batches/s]\n",
      "Inferencing Samples: 100%|██████████| 1/1 [00:00<00:00,  2.26 Batches/s]\n",
      "Inferencing Samples: 100%|██████████| 1/1 [00:00<00:00,  2.29 Batches/s]\n",
      "Inferencing Samples: 100%|██████████| 1/1 [00:00<00:00,  1.95 Batches/s]\n",
      "Inferencing Samples: 100%|██████████| 1/1 [00:00<00:00,  2.09 Batches/s]\n",
      "Inferencing Samples: 100%|██████████| 1/1 [00:00<00:00,  1.50 Batches/s]\n",
      "Inferencing Samples: 100%|██████████| 1/1 [00:00<00:00,  1.50 Batches/s]\n",
      "Inferencing Samples: 100%|██████████| 1/1 [00:00<00:00,  1.04 Batches/s]\n",
      "Inferencing Samples: 100%|██████████| 1/1 [00:00<00:00,  2.24 Batches/s]\n"
     ]
    }
   ],
   "source": [
    "prediction = finder.get_answers(question=\"What is early stopping?\", top_k_retriever=10, top_k_reader=3)"
   ]
  },
  {
   "cell_type": "code",
   "execution_count": 19,
   "metadata": {},
   "outputs": [
    {
     "output_type": "stream",
     "name": "stdout",
     "text": [
      "[   {   'answer': 'patience=0',\n        'context': 'Figure 5.10: Plot of training error and validation error '\n                   'while training the model\\n'\n                   'with early stopping (patience=0)',\n        'score': 11.892475128173828},\n    {   'answer': 'forcing the Keras model to stop the training when a desired '\n                  'metric—for example,\\n'\n                  'the test error rate—is not improving anymore',\n        'context': '. This\\n'\n                   'means forcing the Keras model to stop the training when a '\n                   'desired metric—for example,\\n'\n                   'the test error rate—is not improving anymore. In order to',\n        'score': 10.376293182373047},\n    {   'answer': 'patience=10',\n        'context': 'Figure 5.11: Plot of training error and validation error '\n                   'while training the model with early\\n'\n                   'stopping (patience=10)',\n        'score': 10.056264877319336}]\n"
     ]
    }
   ],
   "source": [
    "print_answers(prediction, details=\"medium\")"
   ]
  },
  {
   "cell_type": "code",
   "execution_count": 20,
   "metadata": {},
   "outputs": [
    {
     "output_type": "stream",
     "name": "stderr",
     "text": [
      "12/09/2020 13:30:15 - INFO - elasticsearch -   POST http://localhost:9200/document/_search [status:200 request:0.015s]\n",
      "12/09/2020 13:30:15 - INFO - haystack.finder -   Got 10 candidates from retriever\n",
      "12/09/2020 13:30:15 - INFO - haystack.finder -   Reader is looking for detailed answer in 5022 chars ...\n",
      "Inferencing Samples: 100%|██████████| 1/1 [00:00<00:00,  1.66 Batches/s]\n",
      "Inferencing Samples: 100%|██████████| 1/1 [00:00<00:00,  1.18 Batches/s]\n",
      "Inferencing Samples: 100%|██████████| 1/1 [00:00<00:00,  2.17 Batches/s]\n",
      "Inferencing Samples: 100%|██████████| 1/1 [00:00<00:00,  2.27 Batches/s]\n",
      "Inferencing Samples: 100%|██████████| 1/1 [00:00<00:00,  1.67 Batches/s]\n",
      "Inferencing Samples: 100%|██████████| 1/1 [00:00<00:00,  1.46 Batches/s]\n",
      "Inferencing Samples: 100%|██████████| 1/1 [00:00<00:00,  2.26 Batches/s]\n",
      "Inferencing Samples: 100%|██████████| 1/1 [00:00<00:00,  1.16 Batches/s]\n",
      "Inferencing Samples: 100%|██████████| 1/1 [00:00<00:00,  2.06 Batches/s]\n",
      "Inferencing Samples: 100%|██████████| 1/1 [00:00<00:00,  2.25 Batches/s]\n"
     ]
    }
   ],
   "source": [
    "prediction = finder.get_answers(question=\"What is early stopping used for?\", top_k_retriever=10, top_k_reader=3)"
   ]
  },
  {
   "cell_type": "code",
   "execution_count": 21,
   "metadata": {},
   "outputs": [
    {
     "output_type": "stream",
     "name": "stdout",
     "text": [
      "[   {   'answer': 'monitor the desired metric',\n        'context': 'mber of epochs to give the early stopping method some\\n'\n                   'time to monitor the desired metric for longer before '\n                   'stopping the training process:\\n'\n                   'es_callback ',\n        'score': 10.788822174072266},\n    {   'answer': 'forcing the Keras model to stop the training when a desired '\n                  'metric—for example,\\n'\n                  'the test error rate—is not improving anymore',\n        'context': '. This\\n'\n                   'means forcing the Keras model to stop the training when a '\n                   'desired metric—for example,\\n'\n                   'the test error rate—is not improving anymore. In order to',\n        'score': 8.451149940490723},\n    {   'answer': 'training',\n        'context': 'By adding the early stopping callback with patience=0 to '\n                   'the model, the training\\n'\n                   'process automatically stops after about 39 epochs.',\n        'score': 5.937946796417236}]\n"
     ]
    }
   ],
   "source": [
    "print_answers(prediction, details=\"medium\")"
   ]
  },
  {
   "cell_type": "code",
   "execution_count": 23,
   "metadata": {},
   "outputs": [
    {
     "output_type": "stream",
     "name": "stderr",
     "text": [
      "12/09/2020 13:30:46 - INFO - haystack.preprocessor.utils -   Fetching from https://s3.eu-central-1.amazonaws.com/deepset.ai-farm-qa/datasets/nq_dev_subset_v2.json.zip to `./data/nq`\n",
      "100%|██████████| 622006/622006 [00:00<00:00, 4812441.44B/s]\n"
     ]
    },
    {
     "output_type": "execute_result",
     "data": {
      "text/plain": [
       "True"
      ]
     },
     "metadata": {},
     "execution_count": 23
    }
   ],
   "source": [
    "# EVALUATING\n",
    "\n",
    "\n",
    "\n",
    "from haystack.preprocessor.utils import fetch_archive_from_http\n",
    "\n",
    "# Download evaluation data, which is a subset of Natural Questions development set containing 50 documents\n",
    "doc_dir = \"./data/nq\"\n",
    "s3_url = \"https://s3.eu-central-1.amazonaws.com/deepset.ai-farm-qa/datasets/nq_dev_subset_v2.json.zip\"\n",
    "fetch_archive_from_http(url=s3_url, output_dir=doc_dir)"
   ]
  },
  {
   "cell_type": "code",
   "execution_count": 24,
   "metadata": {},
   "outputs": [],
   "source": [
    "# make sure these indices do not collide with existing ones, the indices will be wiped clean before data is inserted\n",
    "doc_index = \"evaluation_docs\"\n",
    "label_index = \"evaluation_labels\""
   ]
  },
  {
   "cell_type": "code",
   "execution_count": 25,
   "metadata": {},
   "outputs": [
    {
     "output_type": "stream",
     "name": "stderr",
     "text": [
      "12/09/2020 13:30:51 - INFO - elasticsearch -   POST http://localhost:9200/document/_delete_by_query [status:200 request:0.455s]\n"
     ]
    }
   ],
   "source": [
    "document_store.delete_all_documents(index='document')"
   ]
  },
  {
   "cell_type": "code",
   "execution_count": 26,
   "metadata": {},
   "outputs": [],
   "source": [
    "document_store = ElasticsearchDocumentStore(host=\"localhost\", username=\"\", password=\"\", index=\"document\",\n",
    "                                            create_index=False, embedding_field=\"emb\",\n",
    "                                            embedding_dim=768, excluded_meta_data=[\"emb\"])"
   ]
  },
  {
   "cell_type": "code",
   "execution_count": 27,
   "metadata": {},
   "outputs": [
    {
     "output_type": "stream",
     "name": "stderr",
     "text": [
      "12/09/2020 13:30:55 - INFO - elasticsearch -   POST http://localhost:9200/evaluation_docs/_delete_by_query [status:404 request:0.007s]\n",
      "12/09/2020 13:30:56 - INFO - elasticsearch -   POST http://localhost:9200/evaluation_labels/_delete_by_query [status:404 request:0.008s]\n",
      "12/09/2020 13:30:57 - INFO - elasticsearch -   PUT http://localhost:9200/evaluation_docs [status:200 request:0.235s]\n",
      "12/09/2020 13:30:59 - INFO - elasticsearch -   POST http://localhost:9200/_bulk?refresh=wait_for [status:200 request:1.305s]\n",
      "12/09/2020 13:30:59 - INFO - elasticsearch -   PUT http://localhost:9200/evaluation_labels [status:200 request:0.203s]\n",
      "12/09/2020 13:31:00 - INFO - elasticsearch -   POST http://localhost:9200/_bulk?refresh=wait_for [status:200 request:0.889s]\n"
     ]
    }
   ],
   "source": [
    "# Add evaluation data to Elasticsearch Document Store\n",
    "# We first delete the custom tutorial indices to not have duplicate elements\n",
    "document_store.delete_all_documents(index=doc_index)\n",
    "document_store.delete_all_documents(index=label_index)\n",
    "document_store.add_eval_data(filename=\"../data/nq/nq_dev_subset_v2.json\", doc_index=doc_index, label_index=label_index)"
   ]
  },
  {
   "cell_type": "code",
   "execution_count": 28,
   "metadata": {},
   "outputs": [],
   "source": [
    "retriever = ElasticsearchRetriever(document_store=document_store)"
   ]
  },
  {
   "cell_type": "code",
   "execution_count": 29,
   "metadata": {},
   "outputs": [],
   "source": [
    "finder = Finder(farm_reader, retriever)"
   ]
  },
  {
   "cell_type": "code",
   "execution_count": 31,
   "metadata": {},
   "outputs": [
    {
     "output_type": "stream",
     "name": "stderr",
     "text": [
      "12/09/2020 13:31:22 - INFO - elasticsearch -   POST http://localhost:9200/evaluation_labels/_search?scroll=5m&size=1000 [status:200 request:0.008s]\n",
      "12/09/2020 13:31:22 - INFO - elasticsearch -   POST http://localhost:9200/_search/scroll [status:200 request:0.004s]\n",
      "12/09/2020 13:31:22 - INFO - elasticsearch -   DELETE http://localhost:9200/_search/scroll [status:200 request:0.003s]\n",
      "12/09/2020 13:31:22 - INFO - haystack.retriever.base -   Performing eval queries...\n",
      "  0%|          | 0/54 [00:00<?, ?it/s]12/09/2020 13:31:22 - INFO - elasticsearch -   POST http://localhost:9200/evaluation_docs/_search [status:200 request:0.010s]\n",
      "12/09/2020 13:31:22 - INFO - elasticsearch -   POST http://localhost:9200/evaluation_docs/_search [status:200 request:0.009s]\n",
      "12/09/2020 13:31:22 - INFO - elasticsearch -   POST http://localhost:9200/evaluation_docs/_search [status:200 request:0.011s]\n",
      "12/09/2020 13:31:22 - INFO - elasticsearch -   POST http://localhost:9200/evaluation_docs/_search [status:200 request:0.013s]\n",
      "12/09/2020 13:31:22 - INFO - elasticsearch -   POST http://localhost:9200/evaluation_docs/_search [status:200 request:0.013s]\n",
      "12/09/2020 13:31:22 - INFO - elasticsearch -   POST http://localhost:9200/evaluation_docs/_search [status:200 request:0.014s]\n",
      "12/09/2020 13:31:22 - INFO - elasticsearch -   POST http://localhost:9200/evaluation_docs/_search [status:200 request:0.011s]\n",
      " 13%|█▎        | 7/54 [00:00<00:00, 69.32it/s]12/09/2020 13:31:22 - INFO - elasticsearch -   POST http://localhost:9200/evaluation_docs/_search [status:200 request:0.011s]\n",
      "12/09/2020 13:31:22 - INFO - elasticsearch -   POST http://localhost:9200/evaluation_docs/_search [status:200 request:0.007s]\n",
      "12/09/2020 13:31:22 - INFO - elasticsearch -   POST http://localhost:9200/evaluation_docs/_search [status:200 request:0.013s]\n",
      "12/09/2020 13:31:22 - INFO - elasticsearch -   POST http://localhost:9200/evaluation_docs/_search [status:200 request:0.011s]\n",
      "12/09/2020 13:31:22 - INFO - elasticsearch -   POST http://localhost:9200/evaluation_docs/_search [status:200 request:0.017s]\n",
      "12/09/2020 13:31:22 - INFO - elasticsearch -   POST http://localhost:9200/evaluation_docs/_search [status:200 request:0.010s]\n",
      "12/09/2020 13:31:22 - INFO - elasticsearch -   POST http://localhost:9200/evaluation_docs/_search [status:200 request:0.016s]\n",
      " 26%|██▌       | 14/54 [00:00<00:00, 67.59it/s]12/09/2020 13:31:22 - INFO - elasticsearch -   POST http://localhost:9200/evaluation_docs/_search [status:200 request:0.012s]\n",
      "12/09/2020 13:31:22 - INFO - elasticsearch -   POST http://localhost:9200/evaluation_docs/_search [status:200 request:0.015s]\n",
      "12/09/2020 13:31:22 - INFO - elasticsearch -   POST http://localhost:9200/evaluation_docs/_search [status:200 request:0.024s]\n",
      "12/09/2020 13:31:22 - INFO - elasticsearch -   POST http://localhost:9200/evaluation_docs/_search [status:200 request:0.016s]\n",
      "12/09/2020 13:31:22 - INFO - elasticsearch -   POST http://localhost:9200/evaluation_docs/_search [status:200 request:0.012s]\n",
      "12/09/2020 13:31:22 - INFO - elasticsearch -   POST http://localhost:9200/evaluation_docs/_search [status:200 request:0.015s]\n",
      " 37%|███▋      | 20/54 [00:00<00:00, 62.22it/s]12/09/2020 13:31:22 - INFO - elasticsearch -   POST http://localhost:9200/evaluation_docs/_search [status:200 request:0.016s]\n",
      "12/09/2020 13:31:22 - INFO - elasticsearch -   POST http://localhost:9200/evaluation_docs/_search [status:200 request:0.010s]\n",
      "12/09/2020 13:31:22 - INFO - elasticsearch -   POST http://localhost:9200/evaluation_docs/_search [status:200 request:0.009s]\n",
      "12/09/2020 13:31:22 - INFO - elasticsearch -   POST http://localhost:9200/evaluation_docs/_search [status:200 request:0.014s]\n",
      "12/09/2020 13:31:22 - INFO - elasticsearch -   POST http://localhost:9200/evaluation_docs/_search [status:200 request:0.017s]\n",
      "12/09/2020 13:31:22 - INFO - elasticsearch -   POST http://localhost:9200/evaluation_docs/_search [status:200 request:0.011s]\n",
      "12/09/2020 13:31:22 - INFO - elasticsearch -   POST http://localhost:9200/evaluation_docs/_search [status:200 request:0.019s]\n",
      " 50%|█████     | 27/54 [00:00<00:00, 62.15it/s]12/09/2020 13:31:22 - INFO - elasticsearch -   POST http://localhost:9200/evaluation_docs/_search [status:200 request:0.007s]\n",
      "12/09/2020 13:31:22 - INFO - elasticsearch -   POST http://localhost:9200/evaluation_docs/_search [status:200 request:0.007s]\n",
      "12/09/2020 13:31:22 - INFO - elasticsearch -   POST http://localhost:9200/evaluation_docs/_search [status:200 request:0.023s]\n",
      "12/09/2020 13:31:22 - INFO - elasticsearch -   POST http://localhost:9200/evaluation_docs/_search [status:200 request:0.017s]\n",
      "12/09/2020 13:31:22 - INFO - elasticsearch -   POST http://localhost:9200/evaluation_docs/_search [status:200 request:0.015s]\n",
      "12/09/2020 13:31:22 - INFO - elasticsearch -   POST http://localhost:9200/evaluation_docs/_search [status:200 request:0.016s]\n",
      " 61%|██████    | 33/54 [00:00<00:00, 60.36it/s]12/09/2020 13:31:22 - INFO - elasticsearch -   POST http://localhost:9200/evaluation_docs/_search [status:200 request:0.028s]\n",
      "12/09/2020 13:31:22 - INFO - elasticsearch -   POST http://localhost:9200/evaluation_docs/_search [status:200 request:0.017s]\n",
      "12/09/2020 13:31:22 - INFO - elasticsearch -   POST http://localhost:9200/evaluation_docs/_search [status:200 request:0.014s]\n",
      "12/09/2020 13:31:22 - INFO - elasticsearch -   POST http://localhost:9200/evaluation_docs/_search [status:200 request:0.012s]\n",
      "12/09/2020 13:31:22 - INFO - elasticsearch -   POST http://localhost:9200/evaluation_docs/_search [status:200 request:0.011s]\n",
      " 70%|███████   | 38/54 [00:00<00:00, 56.44it/s]12/09/2020 13:31:22 - INFO - elasticsearch -   POST http://localhost:9200/evaluation_docs/_search [status:200 request:0.007s]\n",
      "12/09/2020 13:31:22 - INFO - elasticsearch -   POST http://localhost:9200/evaluation_docs/_search [status:200 request:0.013s]\n",
      "12/09/2020 13:31:22 - INFO - elasticsearch -   POST http://localhost:9200/evaluation_docs/_search [status:200 request:0.012s]\n",
      "12/09/2020 13:31:22 - INFO - elasticsearch -   POST http://localhost:9200/evaluation_docs/_search [status:200 request:0.021s]\n",
      "12/09/2020 13:31:22 - INFO - elasticsearch -   POST http://localhost:9200/evaluation_docs/_search [status:200 request:0.011s]\n",
      "12/09/2020 13:31:22 - INFO - elasticsearch -   POST http://localhost:9200/evaluation_docs/_search [status:200 request:0.021s]\n",
      " 81%|████████▏ | 44/54 [00:00<00:00, 56.65it/s]12/09/2020 13:31:22 - INFO - elasticsearch -   POST http://localhost:9200/evaluation_docs/_search [status:200 request:0.011s]\n",
      "12/09/2020 13:31:22 - INFO - elasticsearch -   POST http://localhost:9200/evaluation_docs/_search [status:200 request:0.015s]\n",
      "12/09/2020 13:31:22 - INFO - elasticsearch -   POST http://localhost:9200/evaluation_docs/_search [status:200 request:0.023s]\n",
      "12/09/2020 13:31:22 - INFO - elasticsearch -   POST http://localhost:9200/evaluation_docs/_search [status:200 request:0.022s]\n",
      "12/09/2020 13:31:22 - INFO - elasticsearch -   POST http://localhost:9200/evaluation_docs/_search [status:200 request:0.011s]\n",
      "12/09/2020 13:31:22 - INFO - elasticsearch -   POST http://localhost:9200/evaluation_docs/_search [status:200 request:0.016s]\n",
      " 93%|█████████▎| 50/54 [00:00<00:00, 54.17it/s]12/09/2020 13:31:22 - INFO - elasticsearch -   POST http://localhost:9200/evaluation_docs/_search [status:200 request:0.009s]\n",
      "12/09/2020 13:31:22 - INFO - elasticsearch -   POST http://localhost:9200/evaluation_docs/_search [status:200 request:0.014s]\n",
      "12/09/2020 13:31:23 - INFO - elasticsearch -   POST http://localhost:9200/evaluation_docs/_search [status:200 request:0.017s]\n",
      "12/09/2020 13:31:23 - INFO - elasticsearch -   POST http://localhost:9200/evaluation_docs/_search [status:200 request:0.011s]\n",
      "100%|██████████| 54/54 [00:00<00:00, 57.49it/s]\n",
      "12/09/2020 13:31:23 - INFO - haystack.retriever.base -   For 52 out of 54 questions (96.30%), the answer was in the top-5 candidate passages selected by the retriever.\n",
      "Retriever Recall: 0.9629629629629629\n",
      "Retriever Mean Avg Precision: 0.9305555555555556\n"
     ]
    }
   ],
   "source": [
    "## Evaluate Retriever on its own\n",
    "retriever_eval_results = retriever.eval(top_k=5, label_index=label_index, doc_index=doc_index)\n",
    "## Retriever Recall is the proportion of questions for which the correct document containing the answer is\n",
    "## among the correct documents\n",
    "print(\"Retriever Recall:\", retriever_eval_results[\"recall\"])\n",
    "## Retriever Mean Avg Precision rewards retrievers that give relevant documents a higher rank\n",
    "print(\"Retriever Mean Avg Precision:\", retriever_eval_results[\"map\"])"
   ]
  },
  {
   "cell_type": "code",
   "execution_count": 32,
   "metadata": {},
   "outputs": [
    {
     "output_type": "stream",
     "name": "stderr",
     "text": [
      "12/09/2020 13:31:36 - INFO - elasticsearch -   POST http://localhost:9200/evaluation_labels/_search?scroll=5m&size=1000 [status:200 request:0.006s]\n",
      "12/09/2020 13:31:36 - INFO - elasticsearch -   POST http://localhost:9200/_search/scroll [status:200 request:0.006s]\n",
      "12/09/2020 13:31:36 - INFO - elasticsearch -   DELETE http://localhost:9200/_search/scroll [status:200 request:0.002s]\n",
      "12/09/2020 13:31:36 - INFO - haystack.retriever.base -   Performing eval queries...\n",
      "  0%|          | 0/54 [00:00<?, ?it/s]12/09/2020 13:31:36 - INFO - elasticsearch -   POST http://localhost:9200/evaluation_docs/_search [status:200 request:0.020s]\n",
      "12/09/2020 13:31:36 - INFO - elasticsearch -   POST http://localhost:9200/evaluation_docs/_search [status:200 request:0.007s]\n",
      "12/09/2020 13:31:36 - INFO - elasticsearch -   POST http://localhost:9200/evaluation_docs/_search [status:200 request:0.007s]\n",
      "12/09/2020 13:31:36 - INFO - elasticsearch -   POST http://localhost:9200/evaluation_docs/_search [status:200 request:0.007s]\n",
      "12/09/2020 13:31:36 - INFO - elasticsearch -   POST http://localhost:9200/evaluation_docs/_search [status:200 request:0.009s]\n",
      "12/09/2020 13:31:36 - INFO - elasticsearch -   POST http://localhost:9200/evaluation_docs/_search [status:200 request:0.006s]\n",
      "12/09/2020 13:31:36 - INFO - elasticsearch -   POST http://localhost:9200/evaluation_docs/_search [status:200 request:0.007s]\n",
      "12/09/2020 13:31:36 - INFO - elasticsearch -   POST http://localhost:9200/evaluation_docs/_search [status:200 request:0.008s]\n",
      "12/09/2020 13:31:36 - INFO - elasticsearch -   POST http://localhost:9200/evaluation_docs/_search [status:200 request:0.011s]\n",
      " 17%|█▋        | 9/54 [00:00<00:00, 80.92it/s]12/09/2020 13:31:36 - INFO - elasticsearch -   POST http://localhost:9200/evaluation_docs/_search [status:200 request:0.009s]\n",
      "12/09/2020 13:31:36 - INFO - elasticsearch -   POST http://localhost:9200/evaluation_docs/_search [status:200 request:0.036s]\n",
      "12/09/2020 13:31:36 - INFO - elasticsearch -   POST http://localhost:9200/evaluation_docs/_search [status:200 request:0.012s]\n",
      "12/09/2020 13:31:36 - INFO - elasticsearch -   POST http://localhost:9200/evaluation_docs/_search [status:200 request:0.011s]\n",
      "12/09/2020 13:31:36 - INFO - elasticsearch -   POST http://localhost:9200/evaluation_docs/_search [status:200 request:0.009s]\n",
      "12/09/2020 13:31:36 - INFO - elasticsearch -   POST http://localhost:9200/evaluation_docs/_search [status:200 request:0.013s]\n",
      " 28%|██▊       | 15/54 [00:00<00:00, 69.77it/s]12/09/2020 13:31:36 - INFO - elasticsearch -   POST http://localhost:9200/evaluation_docs/_search [status:200 request:0.009s]\n",
      "12/09/2020 13:31:36 - INFO - elasticsearch -   POST http://localhost:9200/evaluation_docs/_search [status:200 request:0.011s]\n",
      "12/09/2020 13:31:36 - INFO - elasticsearch -   POST http://localhost:9200/evaluation_docs/_search [status:200 request:0.006s]\n",
      "12/09/2020 13:31:36 - INFO - elasticsearch -   POST http://localhost:9200/evaluation_docs/_search [status:200 request:0.006s]\n",
      "12/09/2020 13:31:36 - INFO - elasticsearch -   POST http://localhost:9200/evaluation_docs/_search [status:200 request:0.012s]\n",
      "12/09/2020 13:31:36 - INFO - elasticsearch -   POST http://localhost:9200/evaluation_docs/_search [status:200 request:0.010s]\n",
      "12/09/2020 13:31:36 - INFO - elasticsearch -   POST http://localhost:9200/evaluation_docs/_search [status:200 request:0.009s]\n",
      "12/09/2020 13:31:36 - INFO - elasticsearch -   POST http://localhost:9200/evaluation_docs/_search [status:200 request:0.008s]\n",
      "12/09/2020 13:31:36 - INFO - elasticsearch -   POST http://localhost:9200/evaluation_docs/_search [status:200 request:0.008s]\n",
      " 44%|████▍     | 24/54 [00:00<00:00, 73.81it/s]12/09/2020 13:31:36 - INFO - elasticsearch -   POST http://localhost:9200/evaluation_docs/_search [status:200 request:0.014s]\n",
      "12/09/2020 13:31:37 - INFO - elasticsearch -   POST http://localhost:9200/evaluation_docs/_search [status:200 request:0.008s]\n",
      "12/09/2020 13:31:37 - INFO - elasticsearch -   POST http://localhost:9200/evaluation_docs/_search [status:200 request:0.024s]\n",
      "12/09/2020 13:31:37 - INFO - elasticsearch -   POST http://localhost:9200/evaluation_docs/_search [status:200 request:0.006s]\n",
      "12/09/2020 13:31:37 - INFO - elasticsearch -   POST http://localhost:9200/evaluation_docs/_search [status:200 request:0.009s]\n",
      "12/09/2020 13:31:37 - INFO - elasticsearch -   POST http://localhost:9200/evaluation_docs/_search [status:200 request:0.010s]\n",
      "12/09/2020 13:31:37 - INFO - elasticsearch -   POST http://localhost:9200/evaluation_docs/_search [status:200 request:0.008s]\n",
      " 57%|█████▋    | 31/54 [00:00<00:00, 72.45it/s]12/09/2020 13:31:37 - INFO - elasticsearch -   POST http://localhost:9200/evaluation_docs/_search [status:200 request:0.012s]\n",
      "12/09/2020 13:31:37 - INFO - elasticsearch -   POST http://localhost:9200/evaluation_docs/_search [status:200 request:0.010s]\n",
      "12/09/2020 13:31:37 - INFO - elasticsearch -   POST http://localhost:9200/evaluation_docs/_search [status:200 request:0.021s]\n",
      "12/09/2020 13:31:37 - INFO - elasticsearch -   POST http://localhost:9200/evaluation_docs/_search [status:200 request:0.007s]\n",
      "12/09/2020 13:31:37 - INFO - elasticsearch -   POST http://localhost:9200/evaluation_docs/_search [status:200 request:0.018s]\n",
      "12/09/2020 13:31:37 - INFO - elasticsearch -   POST http://localhost:9200/evaluation_docs/_search [status:200 request:0.010s]\n",
      "12/09/2020 13:31:37 - INFO - elasticsearch -   POST http://localhost:9200/evaluation_docs/_search [status:200 request:0.006s]\n",
      " 70%|███████   | 38/54 [00:00<00:00, 70.34it/s]12/09/2020 13:31:37 - INFO - elasticsearch -   POST http://localhost:9200/evaluation_docs/_search [status:200 request:0.008s]\n",
      "12/09/2020 13:31:37 - INFO - elasticsearch -   POST http://localhost:9200/evaluation_docs/_search [status:200 request:0.007s]\n",
      "12/09/2020 13:31:37 - INFO - elasticsearch -   POST http://localhost:9200/evaluation_docs/_search [status:200 request:0.008s]\n",
      "12/09/2020 13:31:37 - INFO - elasticsearch -   POST http://localhost:9200/evaluation_docs/_search [status:200 request:0.012s]\n",
      "12/09/2020 13:31:37 - INFO - elasticsearch -   POST http://localhost:9200/evaluation_docs/_search [status:200 request:0.008s]\n",
      "12/09/2020 13:31:37 - INFO - elasticsearch -   POST http://localhost:9200/evaluation_docs/_search [status:200 request:0.013s]\n",
      "12/09/2020 13:31:37 - INFO - elasticsearch -   POST http://localhost:9200/evaluation_docs/_search [status:200 request:0.007s]\n",
      "12/09/2020 13:31:37 - INFO - elasticsearch -   POST http://localhost:9200/evaluation_docs/_search [status:200 request:0.005s]\n",
      "12/09/2020 13:31:37 - INFO - elasticsearch -   POST http://localhost:9200/evaluation_docs/_search [status:200 request:0.009s]\n",
      " 87%|████████▋ | 47/54 [00:00<00:00, 74.22it/s]12/09/2020 13:31:37 - INFO - elasticsearch -   POST http://localhost:9200/evaluation_docs/_search [status:200 request:0.008s]\n",
      "12/09/2020 13:31:37 - INFO - elasticsearch -   POST http://localhost:9200/evaluation_docs/_search [status:200 request:0.007s]\n",
      "12/09/2020 13:31:37 - INFO - elasticsearch -   POST http://localhost:9200/evaluation_docs/_search [status:200 request:0.009s]\n",
      "12/09/2020 13:31:37 - INFO - elasticsearch -   POST http://localhost:9200/evaluation_docs/_search [status:200 request:0.009s]\n",
      "12/09/2020 13:31:37 - INFO - elasticsearch -   POST http://localhost:9200/evaluation_docs/_search [status:200 request:0.007s]\n",
      "12/09/2020 13:31:37 - INFO - elasticsearch -   POST http://localhost:9200/evaluation_docs/_search [status:200 request:0.008s]\n",
      "12/09/2020 13:31:37 - INFO - elasticsearch -   POST http://localhost:9200/evaluation_docs/_search [status:200 request:0.021s]\n",
      "100%|██████████| 54/54 [00:00<00:00, 73.97it/s]\n",
      "12/09/2020 13:31:37 - INFO - haystack.retriever.base -   For 51 out of 54 questions (94.44%), the answer was in the top-3 candidate passages selected by the retriever.\n",
      "Retriever Recall: 0.9444444444444444\n",
      "Retriever Mean Avg Precision: 0.9259259259259259\n"
     ]
    }
   ],
   "source": [
    "## Evaluate Retriever on its own\n",
    "retriever_eval_results = retriever.eval(top_k=3, label_index=label_index, doc_index=doc_index)\n",
    "## Retriever Recall is the proportion of questions for which the correct document containing the answer is\n",
    "## among the correct documents\n",
    "print(\"Retriever Recall:\", retriever_eval_results[\"recall\"])\n",
    "## Retriever Mean Avg Precision rewards retrievers that give relevant documents a higher rank\n",
    "print(\"Retriever Mean Avg Precision:\", retriever_eval_results[\"map\"])"
   ]
  },
  {
   "cell_type": "code",
   "execution_count": 33,
   "metadata": {},
   "outputs": [
    {
     "output_type": "stream",
     "name": "stderr",
     "text": [
      "12/09/2020 13:31:42 - INFO - farm.utils -   device: cpu n_gpu: 0, distributed training: False, automatic mixed precision training: None\n"
     ]
    }
   ],
   "source": [
    "from farm.utils import initialize_device_settings\n",
    "\n",
    "device, n_gpu = initialize_device_settings(use_cuda=False)"
   ]
  },
  {
   "cell_type": "code",
   "execution_count": 34,
   "metadata": {},
   "outputs": [
    {
     "output_type": "stream",
     "name": "stderr",
     "text": [
      "12/09/2020 13:31:49 - INFO - haystack.reader.farm -   Performing Evaluation using top_k_per_candidate = 3 \n",
      "and consequently, QuestionAnsweringPredictionHead.n_best = 4. \n",
      "This deviates from FARM's default where QuestionAnsweringPredictionHead.n_best = 5\n",
      "12/09/2020 13:31:49 - INFO - elasticsearch -   POST http://localhost:9200/evaluation_labels/_search?scroll=5m&size=1000 [status:200 request:0.009s]\n",
      "12/09/2020 13:31:49 - INFO - elasticsearch -   POST http://localhost:9200/_search/scroll [status:200 request:0.008s]\n",
      "12/09/2020 13:31:49 - INFO - elasticsearch -   DELETE http://localhost:9200/_search/scroll [status:200 request:0.003s]\n",
      "12/09/2020 13:31:49 - INFO - elasticsearch -   POST http://localhost:9200/evaluation_docs/_search?scroll=5m&size=1000 [status:200 request:0.034s]\n",
      "12/09/2020 13:31:49 - INFO - elasticsearch -   POST http://localhost:9200/_search/scroll [status:200 request:0.015s]\n",
      "12/09/2020 13:31:49 - INFO - elasticsearch -   DELETE http://localhost:9200/_search/scroll [status:200 request:0.003s]\n",
      "12/09/2020 13:31:49 - INFO - elasticsearch -   POST http://localhost:9200/evaluation_docs/_search [status:200 request:0.011s]\n",
      "12/09/2020 13:31:49 - INFO - elasticsearch -   POST http://localhost:9200/evaluation_docs/_search [status:200 request:0.013s]\n",
      "12/09/2020 13:31:49 - INFO - elasticsearch -   POST http://localhost:9200/evaluation_docs/_search [status:200 request:0.005s]\n",
      "12/09/2020 13:31:49 - INFO - elasticsearch -   POST http://localhost:9200/evaluation_docs/_search [status:200 request:0.004s]\n",
      "12/09/2020 13:31:49 - INFO - elasticsearch -   POST http://localhost:9200/evaluation_docs/_search [status:200 request:0.004s]\n",
      "12/09/2020 13:31:49 - INFO - elasticsearch -   POST http://localhost:9200/evaluation_docs/_search [status:200 request:0.006s]\n",
      "12/09/2020 13:31:49 - INFO - elasticsearch -   POST http://localhost:9200/evaluation_docs/_search [status:200 request:0.008s]\n",
      "12/09/2020 13:31:49 - INFO - elasticsearch -   POST http://localhost:9200/evaluation_docs/_search [status:200 request:0.006s]\n",
      "12/09/2020 13:31:49 - INFO - elasticsearch -   POST http://localhost:9200/evaluation_docs/_search [status:200 request:0.012s]\n",
      "12/09/2020 13:31:49 - INFO - elasticsearch -   POST http://localhost:9200/evaluation_docs/_search [status:200 request:0.006s]\n",
      "12/09/2020 13:31:49 - INFO - elasticsearch -   POST http://localhost:9200/evaluation_docs/_search [status:200 request:0.009s]\n",
      "12/09/2020 13:31:49 - INFO - elasticsearch -   POST http://localhost:9200/evaluation_docs/_search [status:200 request:0.005s]\n",
      "12/09/2020 13:31:49 - INFO - elasticsearch -   POST http://localhost:9200/evaluation_docs/_search [status:200 request:0.013s]\n",
      "12/09/2020 13:31:49 - INFO - elasticsearch -   POST http://localhost:9200/evaluation_docs/_search [status:200 request:0.006s]\n",
      "12/09/2020 13:31:49 - INFO - elasticsearch -   POST http://localhost:9200/evaluation_docs/_search [status:200 request:0.007s]\n",
      "12/09/2020 13:31:49 - INFO - elasticsearch -   POST http://localhost:9200/evaluation_docs/_search [status:200 request:0.004s]\n",
      "12/09/2020 13:31:49 - INFO - elasticsearch -   POST http://localhost:9200/evaluation_docs/_search [status:200 request:0.009s]\n",
      "12/09/2020 13:31:49 - INFO - elasticsearch -   POST http://localhost:9200/evaluation_docs/_search [status:200 request:0.005s]\n",
      "12/09/2020 13:31:49 - INFO - elasticsearch -   POST http://localhost:9200/evaluation_docs/_search [status:200 request:0.004s]\n",
      "12/09/2020 13:31:49 - INFO - elasticsearch -   POST http://localhost:9200/evaluation_docs/_search [status:200 request:0.005s]\n",
      "12/09/2020 13:31:49 - INFO - elasticsearch -   POST http://localhost:9200/evaluation_docs/_search [status:200 request:0.005s]\n",
      "12/09/2020 13:31:49 - INFO - elasticsearch -   POST http://localhost:9200/evaluation_docs/_search [status:200 request:0.010s]\n",
      "12/09/2020 13:31:49 - INFO - elasticsearch -   POST http://localhost:9200/evaluation_docs/_search [status:200 request:0.007s]\n",
      "12/09/2020 13:31:49 - INFO - elasticsearch -   POST http://localhost:9200/evaluation_docs/_search [status:200 request:0.006s]\n",
      "12/09/2020 13:31:49 - INFO - elasticsearch -   POST http://localhost:9200/evaluation_docs/_search [status:200 request:0.006s]\n",
      "12/09/2020 13:31:49 - INFO - elasticsearch -   POST http://localhost:9200/evaluation_docs/_search [status:200 request:0.004s]\n",
      "12/09/2020 13:31:49 - INFO - elasticsearch -   POST http://localhost:9200/evaluation_docs/_search [status:200 request:0.005s]\n",
      "12/09/2020 13:31:49 - INFO - elasticsearch -   POST http://localhost:9200/evaluation_docs/_search [status:200 request:0.004s]\n",
      "12/09/2020 13:31:49 - INFO - elasticsearch -   POST http://localhost:9200/evaluation_docs/_search [status:200 request:0.007s]\n",
      "12/09/2020 13:31:50 - INFO - elasticsearch -   POST http://localhost:9200/evaluation_docs/_search [status:200 request:0.004s]\n",
      "12/09/2020 13:31:50 - INFO - elasticsearch -   POST http://localhost:9200/evaluation_docs/_search [status:200 request:0.004s]\n",
      "12/09/2020 13:31:50 - INFO - elasticsearch -   POST http://localhost:9200/evaluation_docs/_search [status:200 request:0.005s]\n",
      "12/09/2020 13:31:50 - INFO - elasticsearch -   POST http://localhost:9200/evaluation_docs/_search [status:200 request:0.008s]\n",
      "12/09/2020 13:31:50 - INFO - elasticsearch -   POST http://localhost:9200/evaluation_docs/_search [status:200 request:0.006s]\n",
      "12/09/2020 13:31:50 - INFO - elasticsearch -   POST http://localhost:9200/evaluation_docs/_search [status:200 request:0.004s]\n",
      "12/09/2020 13:31:50 - INFO - elasticsearch -   POST http://localhost:9200/evaluation_docs/_search [status:200 request:0.004s]\n",
      "12/09/2020 13:31:50 - INFO - elasticsearch -   POST http://localhost:9200/evaluation_docs/_search [status:200 request:0.003s]\n",
      "12/09/2020 13:31:50 - INFO - elasticsearch -   POST http://localhost:9200/evaluation_docs/_search [status:200 request:0.014s]\n",
      "12/09/2020 13:31:50 - INFO - elasticsearch -   POST http://localhost:9200/evaluation_docs/_search [status:200 request:0.004s]\n",
      "12/09/2020 13:31:50 - INFO - elasticsearch -   POST http://localhost:9200/evaluation_docs/_search [status:200 request:0.006s]\n",
      "12/09/2020 13:31:50 - INFO - elasticsearch -   POST http://localhost:9200/evaluation_docs/_search [status:200 request:0.006s]\n",
      "12/09/2020 13:31:50 - INFO - elasticsearch -   POST http://localhost:9200/evaluation_docs/_search [status:200 request:0.007s]\n",
      "12/09/2020 13:31:50 - INFO - elasticsearch -   POST http://localhost:9200/evaluation_docs/_search [status:200 request:0.004s]\n",
      "12/09/2020 13:31:50 - INFO - elasticsearch -   POST http://localhost:9200/evaluation_docs/_search [status:200 request:0.005s]\n",
      "12/09/2020 13:31:50 - INFO - elasticsearch -   POST http://localhost:9200/evaluation_docs/_search [status:200 request:0.007s]\n",
      "12/09/2020 13:31:50 - INFO - elasticsearch -   POST http://localhost:9200/evaluation_docs/_search [status:200 request:0.014s]\n",
      "12/09/2020 13:31:50 - INFO - elasticsearch -   POST http://localhost:9200/evaluation_docs/_search [status:200 request:0.008s]\n",
      "12/09/2020 13:31:50 - INFO - elasticsearch -   POST http://localhost:9200/evaluation_docs/_search [status:200 request:0.007s]\n",
      "12/09/2020 13:31:50 - INFO - elasticsearch -   POST http://localhost:9200/evaluation_docs/_search [status:200 request:0.006s]\n",
      "12/09/2020 13:31:50 - INFO - elasticsearch -   POST http://localhost:9200/evaluation_docs/_search [status:200 request:0.007s]\n",
      "Evaluating: 100%|██████████| 73/73 [28:46<00:00, 23.65s/it]Reader Top-N-Accuracy: 0.6111111111111112\n",
      "Reader Exact Match: 0.2777777777777778\n",
      "Reader F1-Score: 0.30750487329434695\n",
      "\n"
     ]
    }
   ],
   "source": [
    "# Evaluate Reader on its own\n",
    "reader_eval_results = farm_reader.eval(document_store=document_store, device=device, label_index=label_index, doc_index=doc_index)\n",
    "# Evaluation of Reader can also be done directly on a SQuAD-formatted file without passing the data to Elasticsearch\n",
    "#reader_eval_results = reader.eval_on_file(\"../data/nq\", \"nq_dev_subset_v2.json\", device=device)\n",
    "\n",
    "## Reader Top-N-Accuracy is the proportion of predicted answers that match with their corresponding correct answer\n",
    "print(\"Reader Top-N-Accuracy:\", reader_eval_results[\"top_n_accuracy\"])\n",
    "## Reader Exact Match is the proportion of questions where the predicted answer is exactly the same as the correct answer\n",
    "print(\"Reader Exact Match:\", reader_eval_results[\"EM\"])\n",
    "## Reader F1-Score is the average overlap between the predicted answers and the correct answers\n",
    "print(\"Reader F1-Score:\", reader_eval_results[\"f1\"])"
   ]
  },
  {
   "cell_type": "code",
   "execution_count": 35,
   "metadata": {},
   "outputs": [
    {
     "output_type": "stream",
     "name": "stderr",
     "text": [
      "12/09/2020 14:05:50 - INFO - elasticsearch -   POST http://localhost:9200/evaluation_labels/_search?scroll=5m&size=1000 [status:200 request:0.014s]\n",
      "12/09/2020 14:05:50 - INFO - elasticsearch -   POST http://localhost:9200/_search/scroll [status:200 request:0.006s]\n",
      "12/09/2020 14:05:50 - INFO - elasticsearch -   DELETE http://localhost:9200/_search/scroll [status:200 request:0.002s]\n",
      "12/09/2020 14:05:50 - INFO - elasticsearch -   POST http://localhost:9200/evaluation_docs/_search [status:200 request:0.008s]\n",
      "12/09/2020 14:05:50 - INFO - elasticsearch -   POST http://localhost:9200/evaluation_docs/_search [status:200 request:0.006s]\n",
      "12/09/2020 14:05:50 - INFO - elasticsearch -   POST http://localhost:9200/evaluation_docs/_search [status:200 request:0.005s]\n",
      "12/09/2020 14:05:50 - INFO - elasticsearch -   POST http://localhost:9200/evaluation_docs/_search [status:200 request:0.005s]\n",
      "12/09/2020 14:05:50 - INFO - elasticsearch -   POST http://localhost:9200/evaluation_docs/_search [status:200 request:0.007s]\n",
      "12/09/2020 14:05:50 - INFO - elasticsearch -   POST http://localhost:9200/evaluation_docs/_search [status:200 request:0.006s]\n",
      "12/09/2020 14:05:50 - INFO - elasticsearch -   POST http://localhost:9200/evaluation_docs/_search [status:200 request:0.005s]\n",
      "12/09/2020 14:05:50 - INFO - elasticsearch -   POST http://localhost:9200/evaluation_docs/_search [status:200 request:0.005s]\n",
      "12/09/2020 14:05:50 - INFO - elasticsearch -   POST http://localhost:9200/evaluation_docs/_search [status:200 request:0.009s]\n",
      "12/09/2020 14:05:50 - INFO - elasticsearch -   POST http://localhost:9200/evaluation_docs/_search [status:200 request:0.007s]\n",
      "12/09/2020 14:05:50 - INFO - elasticsearch -   POST http://localhost:9200/evaluation_docs/_search [status:200 request:0.004s]\n",
      "12/09/2020 14:05:50 - INFO - elasticsearch -   POST http://localhost:9200/evaluation_docs/_search [status:200 request:0.005s]\n",
      "12/09/2020 14:05:50 - INFO - elasticsearch -   POST http://localhost:9200/evaluation_docs/_search [status:200 request:0.010s]\n",
      "12/09/2020 14:05:50 - INFO - elasticsearch -   POST http://localhost:9200/evaluation_docs/_search [status:200 request:0.007s]\n",
      "12/09/2020 14:05:50 - INFO - elasticsearch -   POST http://localhost:9200/evaluation_docs/_search [status:200 request:0.005s]\n",
      "12/09/2020 14:05:51 - INFO - elasticsearch -   POST http://localhost:9200/evaluation_docs/_search [status:200 request:0.008s]\n",
      "12/09/2020 14:05:51 - INFO - elasticsearch -   POST http://localhost:9200/evaluation_docs/_search [status:200 request:0.007s]\n",
      "12/09/2020 14:05:51 - INFO - elasticsearch -   POST http://localhost:9200/evaluation_docs/_search [status:200 request:0.004s]\n",
      "12/09/2020 14:05:51 - INFO - elasticsearch -   POST http://localhost:9200/evaluation_docs/_search [status:200 request:0.004s]\n",
      "12/09/2020 14:05:51 - INFO - elasticsearch -   POST http://localhost:9200/evaluation_docs/_search [status:200 request:0.005s]\n",
      "12/09/2020 14:05:51 - INFO - elasticsearch -   POST http://localhost:9200/evaluation_docs/_search [status:200 request:0.012s]\n",
      "12/09/2020 14:05:51 - INFO - elasticsearch -   POST http://localhost:9200/evaluation_docs/_search [status:200 request:0.004s]\n",
      "12/09/2020 14:05:51 - INFO - elasticsearch -   POST http://localhost:9200/evaluation_docs/_search [status:200 request:0.005s]\n",
      "12/09/2020 14:05:51 - INFO - elasticsearch -   POST http://localhost:9200/evaluation_docs/_search [status:200 request:0.009s]\n",
      "12/09/2020 14:05:51 - INFO - elasticsearch -   POST http://localhost:9200/evaluation_docs/_search [status:200 request:0.008s]\n",
      "12/09/2020 14:05:51 - INFO - elasticsearch -   POST http://localhost:9200/evaluation_docs/_search [status:200 request:0.009s]\n",
      "12/09/2020 14:05:51 - INFO - elasticsearch -   POST http://localhost:9200/evaluation_docs/_search [status:200 request:0.005s]\n",
      "12/09/2020 14:05:51 - INFO - elasticsearch -   POST http://localhost:9200/evaluation_docs/_search [status:200 request:0.005s]\n",
      "12/09/2020 14:05:51 - INFO - elasticsearch -   POST http://localhost:9200/evaluation_docs/_search [status:200 request:0.006s]\n",
      "12/09/2020 14:05:51 - INFO - elasticsearch -   POST http://localhost:9200/evaluation_docs/_search [status:200 request:0.008s]\n",
      "12/09/2020 14:05:51 - INFO - elasticsearch -   POST http://localhost:9200/evaluation_docs/_search [status:200 request:0.009s]\n",
      "12/09/2020 14:05:51 - INFO - elasticsearch -   POST http://localhost:9200/evaluation_docs/_search [status:200 request:0.007s]\n",
      "12/09/2020 14:05:51 - INFO - elasticsearch -   POST http://localhost:9200/evaluation_docs/_search [status:200 request:0.021s]\n",
      "12/09/2020 14:05:51 - INFO - elasticsearch -   POST http://localhost:9200/evaluation_docs/_search [status:200 request:0.009s]\n",
      "12/09/2020 14:05:51 - INFO - elasticsearch -   POST http://localhost:9200/evaluation_docs/_search [status:200 request:0.006s]\n",
      "12/09/2020 14:05:51 - INFO - elasticsearch -   POST http://localhost:9200/evaluation_docs/_search [status:200 request:0.009s]\n",
      "12/09/2020 14:05:51 - INFO - elasticsearch -   POST http://localhost:9200/evaluation_docs/_search [status:200 request:0.005s]\n",
      "12/09/2020 14:05:51 - INFO - elasticsearch -   POST http://localhost:9200/evaluation_docs/_search [status:200 request:0.003s]\n",
      "12/09/2020 14:05:51 - INFO - elasticsearch -   POST http://localhost:9200/evaluation_docs/_search [status:200 request:0.006s]\n",
      "12/09/2020 14:05:51 - INFO - elasticsearch -   POST http://localhost:9200/evaluation_docs/_search [status:200 request:0.007s]\n",
      "12/09/2020 14:05:51 - INFO - elasticsearch -   POST http://localhost:9200/evaluation_docs/_search [status:200 request:0.005s]\n",
      "12/09/2020 14:05:51 - INFO - elasticsearch -   POST http://localhost:9200/evaluation_docs/_search [status:200 request:0.005s]\n",
      "12/09/2020 14:05:51 - INFO - elasticsearch -   POST http://localhost:9200/evaluation_docs/_search [status:200 request:0.007s]\n",
      "12/09/2020 14:05:51 - INFO - elasticsearch -   POST http://localhost:9200/evaluation_docs/_search [status:200 request:0.006s]\n",
      "12/09/2020 14:05:51 - INFO - elasticsearch -   POST http://localhost:9200/evaluation_docs/_search [status:200 request:0.004s]\n",
      "12/09/2020 14:05:51 - INFO - elasticsearch -   POST http://localhost:9200/evaluation_docs/_search [status:200 request:0.003s]\n",
      "12/09/2020 14:05:51 - INFO - elasticsearch -   POST http://localhost:9200/evaluation_docs/_search [status:200 request:0.013s]\n",
      "12/09/2020 14:05:51 - INFO - elasticsearch -   POST http://localhost:9200/evaluation_docs/_search [status:200 request:0.004s]\n",
      "12/09/2020 14:05:51 - INFO - elasticsearch -   POST http://localhost:9200/evaluation_docs/_search [status:200 request:0.005s]\n",
      "12/09/2020 14:05:51 - INFO - elasticsearch -   POST http://localhost:9200/evaluation_docs/_search [status:200 request:0.005s]\n",
      "12/09/2020 14:05:51 - INFO - elasticsearch -   POST http://localhost:9200/evaluation_docs/_search [status:200 request:0.005s]\n",
      "12/09/2020 14:05:51 - INFO - elasticsearch -   POST http://localhost:9200/evaluation_docs/_search [status:200 request:0.007s]\n",
      "12/09/2020 14:05:51 - INFO - elasticsearch -   POST http://localhost:9200/evaluation_docs/_search [status:200 request:0.004s]\n",
      "12/09/2020 14:05:51 - INFO - elasticsearch -   POST http://localhost:9200/evaluation_docs/_search [status:200 request:0.012s]\n",
      "Inferencing Samples: 100%|██████████| 1/1 [00:08<00:00,  8.92s/ Batches]\n",
      "Inferencing Samples: 100%|██████████| 1/1 [00:07<00:00,  7.64s/ Batches]\n",
      "Inferencing Samples: 100%|██████████| 2/2 [00:32<00:00, 16.38s/ Batches]\n",
      "Inferencing Samples: 100%|██████████| 1/1 [00:03<00:00,  3.34s/ Batches]\n",
      "Inferencing Samples: 100%|██████████| 1/1 [00:20<00:00, 20.54s/ Batches]\n",
      "Inferencing Samples: 100%|██████████| 1/1 [00:23<00:00, 23.29s/ Batches]\n",
      "Inferencing Samples: 100%|██████████| 2/2 [00:34<00:00, 17.01s/ Batches]\n",
      "Inferencing Samples: 100%|██████████| 1/1 [00:22<00:00, 22.14s/ Batches]\n",
      "Inferencing Samples: 100%|██████████| 3/3 [00:50<00:00, 16.98s/ Batches]\n",
      "Inferencing Samples: 100%|██████████| 1/1 [00:15<00:00, 15.50s/ Batches]\n",
      "Inferencing Samples: 100%|██████████| 1/1 [00:12<00:00, 12.85s/ Batches]\n",
      "Inferencing Samples: 100%|██████████| 2/2 [00:37<00:00, 18.57s/ Batches]\n",
      "Inferencing Samples: 100%|██████████| 2/2 [00:33<00:00, 16.70s/ Batches]\n",
      "Inferencing Samples: 100%|██████████| 2/2 [00:26<00:00, 13.34s/ Batches]\n",
      "Inferencing Samples: 100%|██████████| 1/1 [00:21<00:00, 21.92s/ Batches]\n",
      "Inferencing Samples: 100%|██████████| 2/2 [00:39<00:00, 19.66s/ Batches]\n",
      "Inferencing Samples: 100%|██████████| 2/2 [00:27<00:00, 13.78s/ Batches]\n",
      "Inferencing Samples: 100%|██████████| 2/2 [00:27<00:00, 13.72s/ Batches]\n",
      "Inferencing Samples: 100%|██████████| 1/1 [00:17<00:00, 17.18s/ Batches]\n",
      "Inferencing Samples: 100%|██████████| 5/5 [01:39<00:00, 19.94s/ Batches]\n",
      "Inferencing Samples: 100%|██████████| 1/1 [00:11<00:00, 11.08s/ Batches]\n",
      "Inferencing Samples: 100%|██████████| 1/1 [00:23<00:00, 23.37s/ Batches]\n",
      "Inferencing Samples: 100%|██████████| 2/2 [00:25<00:00, 12.81s/ Batches]\n",
      "Inferencing Samples: 100%|██████████| 4/4 [01:31<00:00, 22.80s/ Batches]\n",
      "Inferencing Samples: 100%|██████████| 1/1 [00:16<00:00, 16.09s/ Batches]\n",
      "Inferencing Samples: 100%|██████████| 1/1 [00:22<00:00, 22.81s/ Batches]\n",
      "Inferencing Samples: 100%|██████████| 1/1 [00:13<00:00, 13.58s/ Batches]\n",
      "Inferencing Samples: 100%|██████████| 1/1 [00:14<00:00, 14.03s/ Batches]\n",
      "Inferencing Samples: 100%|██████████| 1/1 [00:07<00:00,  7.46s/ Batches]\n",
      "Inferencing Samples: 100%|██████████| 1/1 [00:07<00:00,  7.69s/ Batches]\n",
      "Inferencing Samples: 100%|██████████| 1/1 [00:16<00:00, 16.22s/ Batches]\n",
      "Inferencing Samples: 100%|██████████| 9/9 [03:08<00:00, 20.92s/ Batches]\n",
      "Inferencing Samples: 100%|██████████| 1/1 [00:04<00:00,  4.11s/ Batches]\n",
      "Inferencing Samples: 100%|██████████| 2/2 [00:39<00:00, 19.94s/ Batches]\n",
      "Inferencing Samples: 100%|██████████| 1/1 [00:07<00:00,  7.07s/ Batches]\n",
      "Inferencing Samples: 100%|██████████| 1/1 [00:19<00:00, 19.61s/ Batches]\n",
      "Inferencing Samples: 100%|██████████| 1/1 [00:03<00:00,  3.16s/ Batches]\n",
      "Inferencing Samples: 100%|██████████| 1/1 [00:08<00:00,  9.00s/ Batches]\n",
      "Inferencing Samples: 100%|██████████| 2/2 [00:26<00:00, 13.34s/ Batches]\n",
      "Inferencing Samples: 100%|██████████| 1/1 [00:21<00:00, 21.20s/ Batches]\n",
      "Inferencing Samples: 100%|██████████| 1/1 [00:06<00:00,  6.22s/ Batches]\n",
      "Inferencing Samples: 100%|██████████| 1/1 [00:05<00:00,  5.03s/ Batches]\n",
      "Inferencing Samples: 100%|██████████| 3/3 [00:52<00:00, 17.65s/ Batches]\n",
      "Inferencing Samples: 100%|██████████| 1/1 [00:01<00:00,  1.18s/ Batches]\n",
      "Inferencing Samples: 100%|██████████| 2/2 [00:42<00:00, 21.15s/ Batches]\n",
      "Inferencing Samples: 100%|██████████| 1/1 [00:03<00:00,  3.54s/ Batches]\n",
      "Inferencing Samples: 100%|██████████| 1/1 [00:11<00:00, 11.03s/ Batches]\n",
      "Inferencing Samples: 100%|██████████| 2/2 [00:24<00:00, 12.01s/ Batches]\n",
      "Inferencing Samples: 100%|██████████| 2/2 [00:23<00:00, 11.98s/ Batches]\n",
      "12/09/2020 14:27:59 - INFO - haystack.finder -   34.0 out of 54 questions were correctly answered 62.96%).\n",
      "12/09/2020 14:27:59 - INFO - haystack.finder -   5.0 questions could not be answered due to the retriever.\n",
      "12/09/2020 14:27:59 - INFO - haystack.finder -   15.0 questions could not be answered due to the reader.\n",
      "\n",
      "___Retriever Metrics in Finder___\n",
      "Retriever Recall            : 0.907\n",
      "Retriever Mean Avg Precision: 0.907\n",
      "Retriever Mean Reciprocal Rank: 0.907\n",
      "\n",
      "___Reader Metrics in Finder___\n",
      "Top-k accuracy\n",
      "Reader Top-1 accuracy             : 0.327\n",
      "Reader Top-1 accuracy (has answer): 0.115\n",
      "Reader Top-k accuracy             : 0.694\n",
      "Reader Top-k accuracy (has answer): 0.423\n",
      "Exact Match\n",
      "Reader Top-1 EM                   : 0.265\n",
      "Reader Top-1 EM (has answer)      : 0.000\n",
      "Reader Top-k EM                   : 0.571\n",
      "Reader Top-k EM (has answer)      : 0.192\n",
      "F1 score\n",
      "Reader Top-1 F1                   : 0.295\n",
      "Reader Top-1 F1 (has answer)      : 0.057\n",
      "Reader Top-k F1                   : 0.646\n",
      "Reader Top-k F1 (has answer)      : 0.332\n",
      "No Answer\n",
      "Reader Top-1 no-answer accuracy   : 0.565\n",
      "Reader Top-k no-answer accuracy   : 1.000\n",
      "\n",
      "___Time Measurements___\n",
      "Total retrieve time           : 0.519\n",
      "Avg retrieve time per question: 0.010\n",
      "Total reader timer            : 1328.455\n",
      "Avg read time per question    : 27.111\n",
      "Total Finder time             : 1329.004\n"
     ]
    }
   ],
   "source": [
    "# EVALUATE Finder\n",
    "\n",
    "finder_eval_results = finder.eval(top_k_retriever=1, top_k_reader=10, label_index=label_index, doc_index=doc_index)\n",
    "finder.print_eval_results(finder_eval_results)"
   ]
  },
  {
   "cell_type": "code",
   "execution_count": null,
   "metadata": {},
   "outputs": [],
   "source": []
  }
 ]
}