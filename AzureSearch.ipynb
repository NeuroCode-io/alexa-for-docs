{
 "metadata": {
  "language_info": {
   "codemirror_mode": {
    "name": "ipython",
    "version": 3
   },
   "file_extension": ".py",
   "mimetype": "text/x-python",
   "name": "python",
   "nbconvert_exporter": "python",
   "pygments_lexer": "ipython3",
   "version": "3.8.1-final"
  },
  "orig_nbformat": 2,
  "kernelspec": {
   "name": "python3",
   "display_name": "Python 3"
  }
 },
 "nbformat": 4,
 "nbformat_minor": 2,
 "cells": [
  {
   "cell_type": "code",
   "execution_count": 3,
   "metadata": {},
   "outputs": [],
   "source": [
    "import json\n",
    "import requests\n",
    "from pprint import pprint"
   ]
  },
  {
   "cell_type": "code",
   "execution_count": 4,
   "metadata": {},
   "outputs": [],
   "source": [
    "endpoint = 'https://alexa-for-docs.search.windows.net/'\n",
    "api_version = '?api-version=2019-05-06'\n",
    "headers = {'Content-Type': 'application/json',\n",
    "        'api-key': '8931C2413D2613044B03883E49780241' }"
   ]
  },
  {
   "cell_type": "code",
   "execution_count": 10,
   "metadata": {},
   "outputs": [
    {
     "output_type": "stream",
     "name": "stdout",
     "text": [
      "{'@odata.context': 'https://alexa-for-docs.search.windows.net/$metadata#indexes',\n 'value': []}\n"
     ]
    }
   ],
   "source": [
    "url = endpoint + \"indexes\" + api_version \n",
    "response  = requests.get(url, headers=headers)\n",
    "index_list = response.json()\n",
    "pprint(index_list)"
   ]
  },
  {
   "cell_type": "code",
   "execution_count": 7,
   "metadata": {},
   "outputs": [],
   "source": [
    "from haystack.file_converter.pdf import PDFToTextConverter\n",
    "converter = PDFToTextConverter(remove_numeric_tables=True, valid_languages=[\"en\"])\n",
    "doc = converter.convert(file_path=\"./book/9781839217579-THE_DEEP_LEARNING_WITH_KERAS_WORKSHOP_SECOND_EDITION.pdf\", meta=None)"
   ]
  },
  {
   "cell_type": "code",
   "execution_count": 8,
   "metadata": {},
   "outputs": [],
   "source": [
    "doc_text=doc[\"text\"]"
   ]
  },
  {
   "cell_type": "code",
   "execution_count": 22,
   "metadata": {},
   "outputs": [],
   "source": [
    "# Specify the index definition, including the fields that define each search document. Fields have a name type, and attributes that determine how you can use the field. \n",
    "\n",
    "index_schema = {\n",
    "    \"name\":\"mlbook\",\n",
    "    \"fields\": [\n",
    "        {\n",
    "            \"name\": \"book_name\",\n",
    "            \"type\": \"Edm.String\",\n",
    "            \"key\": True,\n",
    "            \"searchable\": False,\n",
    "            \"retrievable\": False\n",
    "        }\n",
    "            \"name\": \"content\",\n",
    "            \"type\": \"Edm.String\",\n",
    "            \"key\": False,\n",
    "            \"searchable\": True,\n",
    "            \"retrievable\": False\n",
    "    ]\n",
    "}\n",
    "\n"
   ]
  },
  {
   "cell_type": "code",
   "execution_count": 23,
   "metadata": {},
   "outputs": [
    {
     "output_type": "stream",
     "name": "stdout",
     "text": [
      "{'error': {'code': '',\n           'message': 'The request is invalid. Details: index : Found 0 key '\n                      \"fields in index 'mlbook'. Each index must have exactly \"\n                      'one key field.\\r\\n'}}\n"
     ]
    }
   ],
   "source": [
    "# Formulate the request. This POST request targets the indexes collection of your search service and creates an index based on the index schema you provided in the previous cell.\n",
    "url = endpoint + \"indexes\" + api_version \n",
    "response  = requests.post(url, headers=headers, json=index_schema)\n",
    "index = response.json()\n",
    "pprint(index)"
   ]
  },
  {
   "cell_type": "code",
   "execution_count": 17,
   "metadata": {},
   "outputs": [],
   "source": [
    "# Next, provide ddocuments that conform to the index schema. Specify an upload action for each document.\n",
    "# we have only one document containing the text of the book\n",
    "document = {\n",
    "    \"value\": [\n",
    "    {\n",
    "    \"@search.action\": \"upload\",\n",
    "    \"content\": doc_text\n",
    "    }\n",
    "    ]\n",
    "}"
   ]
  },
  {
   "cell_type": "code",
   "execution_count": 19,
   "metadata": {},
   "outputs": [
    {
     "output_type": "stream",
     "name": "stdout",
     "text": [
      "{'error': {'code': '',\n           'message': 'The request is invalid. Details: actions : 0: Document '\n                      'key cannot be longer than 1024 characters.\\r\\n'}}\n"
     ]
    }
   ],
   "source": [
    "url = endpoint + \"indexes/mlbook/docs/index\" + api_version\n",
    "response  = requests.post(url, headers=headers, json=document)\n",
    "index_content = response.json()\n",
    "pprint(index_content)"
   ]
  },
  {
   "cell_type": "code",
   "execution_count": null,
   "metadata": {},
   "outputs": [],
   "source": []
  }
 ]
}